{
  "cells": [
    {
      "cell_type": "markdown",
      "id": "7bb18560",
      "metadata": {
        "id": "7bb18560"
      },
      "source": [
        "# Heart Disease Prediction using Artificial Neural Networks\n",
        "# Present By - Priyanshu\n",
        "\n",
        "\n",
        "\n",
        "## Project Overview\n",
        "- **Objective**: Build a neural network model to predict the presence of heart disease in patients\n",
        "- **Dataset**: UCI Heart Disease dataset\n",
        "- **Tools**: Python, Keras, Scikit-learn, Pandas, Seaborn\n",
        "- **Key Concepts**: ANN, Binary Classification\n",
        "- **Evaluation Metrics**: Accuracy, Precision, Recall, F1-Score, ROC-AUC\n",
        "\n",
        "## Project Structure\n",
        "1. Data Loading and Overview\n",
        "2. Exploratory Data Analysis\n",
        "3. Data Preprocessing\n",
        "4. Model Architecture\n",
        "5. Training and Validation\n",
        "6. Evaluation\n",
        "7. Predictions"
      ]
    },
    {
      "cell_type": "markdown",
      "id": "JVftcpHLnjPf",
      "metadata": {
        "id": "JVftcpHLnjPf"
      },
      "source": [
        "### Importing libraries"
      ]
    },
    {
      "cell_type": "code",
      "execution_count": 1,
      "id": "8afe5860",
      "metadata": {
        "id": "8afe5860"
      },
      "outputs": [],
      "source": [
        "# Import required libraries\n",
        "import numpy as np\n",
        "import pandas as pd\n",
        "import matplotlib.pyplot as plt\n",
        "import seaborn as sns\n",
        "import plotly.express as px\n",
        "import plotly.subplots as sp\n",
        "from sklearn.model_selection import train_test_split, KFold\n",
        "from sklearn.preprocessing import StandardScaler\n",
        "from sklearn.metrics import accuracy_score, precision_score, recall_score, f1_score, confusion_matrix, roc_curve, auc\n",
        "from tensorflow.keras.models import Sequential\n",
        "from tensorflow.keras.layers import Dense, Dropout\n",
        "from tensorflow.keras.regularizers import l2\n",
        "from tensorflow.keras.callbacks import EarlyStopping, ModelCheckpoint\n",
        "\n",
        "\n",
        "# Set random seed for reproducibility\n",
        "np.random.seed(42)"
      ]
    },
    {
      "cell_type": "markdown",
      "id": "d71b1955",
      "metadata": {
        "id": "d71b1955"
      },
      "source": [
        "## Data Loading and Overview\n",
        "\n",
        "The UCI Heart Disease dataset contains 303 samples with 14 attributes:\n",
        "1. age: age in years\n",
        "2. sex: sex (1 = male; 0 = female)\n",
        "3. cp: chest pain type (0-3)\n",
        "4. trestbps: resting blood pressure\n",
        "5. chol: serum cholesterol in mg/dl\n",
        "6. fbs: fasting blood sugar > 120 mg/dl (1 = true; 0 = false)\n",
        "7. restecg: resting electrocardiographic results (0-2)\n",
        "8. thalach: maximum heart rate achieved\n",
        "9. exang: exercise induced angina (1 = yes; 0 = no)\n",
        "10. oldpeak: ST depression induced by exercise relative to rest\n",
        "11. slope: the slope of the peak exercise ST segment\n",
        "12. ca: number of major vessels colored by fluoroscopy (0-3)\n",
        "13. thal: thalassemia (3 = normal; 6 = fixed defect; 7 = reversable defect)\n",
        "14. target: heart disease (1 = present; 0 = absent)"
      ]
    },
    {
      "cell_type": "markdown",
      "id": "3CQqqHZXigT1",
      "metadata": {
        "id": "3CQqqHZXigT1"
      },
      "source": [
        "## Load dataset"
      ]
    },
    {
      "cell_type": "code",
      "execution_count": 2,
      "id": "6c53b52e",
      "metadata": {
        "colab": {
          "base_uri": "https://localhost:8080/",
          "height": 658
        },
        "id": "6c53b52e",
        "outputId": "dfec1f4b-a57f-4487-c403-b3109fd8fbe5"
      },
      "outputs": [
        {
          "name": "stdout",
          "output_type": "stream",
          "text": [
            "Dataset Shape: (303, 14)\n",
            "\n",
            "Dataset Info:\n",
            "<class 'pandas.core.frame.DataFrame'>\n",
            "RangeIndex: 303 entries, 0 to 302\n",
            "Data columns (total 14 columns):\n",
            " #   Column    Non-Null Count  Dtype  \n",
            "---  ------    --------------  -----  \n",
            " 0   age       303 non-null    float64\n",
            " 1   sex       303 non-null    float64\n",
            " 2   cp        303 non-null    float64\n",
            " 3   trestbps  303 non-null    float64\n",
            " 4   chol      303 non-null    float64\n",
            " 5   fbs       303 non-null    float64\n",
            " 6   restecg   303 non-null    float64\n",
            " 7   thalach   303 non-null    float64\n",
            " 8   exang     303 non-null    float64\n",
            " 9   oldpeak   303 non-null    float64\n",
            " 10  slope     303 non-null    float64\n",
            " 11  ca        299 non-null    float64\n",
            " 12  thal      301 non-null    float64\n",
            " 13  target    303 non-null    int64  \n",
            "dtypes: float64(13), int64(1)\n",
            "memory usage: 33.3 KB\n",
            "\n",
            "First few rows of the dataset:\n"
          ]
        },
        {
          "data": {
            "text/html": [
              "<div>\n",
              "<style scoped>\n",
              "    .dataframe tbody tr th:only-of-type {\n",
              "        vertical-align: middle;\n",
              "    }\n",
              "\n",
              "    .dataframe tbody tr th {\n",
              "        vertical-align: top;\n",
              "    }\n",
              "\n",
              "    .dataframe thead th {\n",
              "        text-align: right;\n",
              "    }\n",
              "</style>\n",
              "<table border=\"1\" class=\"dataframe\">\n",
              "  <thead>\n",
              "    <tr style=\"text-align: right;\">\n",
              "      <th></th>\n",
              "      <th>age</th>\n",
              "      <th>sex</th>\n",
              "      <th>cp</th>\n",
              "      <th>trestbps</th>\n",
              "      <th>chol</th>\n",
              "      <th>fbs</th>\n",
              "      <th>restecg</th>\n",
              "      <th>thalach</th>\n",
              "      <th>exang</th>\n",
              "      <th>oldpeak</th>\n",
              "      <th>slope</th>\n",
              "      <th>ca</th>\n",
              "      <th>thal</th>\n",
              "      <th>target</th>\n",
              "    </tr>\n",
              "  </thead>\n",
              "  <tbody>\n",
              "    <tr>\n",
              "      <th>0</th>\n",
              "      <td>63.0</td>\n",
              "      <td>1.0</td>\n",
              "      <td>1.0</td>\n",
              "      <td>145.0</td>\n",
              "      <td>233.0</td>\n",
              "      <td>1.0</td>\n",
              "      <td>2.0</td>\n",
              "      <td>150.0</td>\n",
              "      <td>0.0</td>\n",
              "      <td>2.3</td>\n",
              "      <td>3.0</td>\n",
              "      <td>0.0</td>\n",
              "      <td>6.0</td>\n",
              "      <td>0</td>\n",
              "    </tr>\n",
              "    <tr>\n",
              "      <th>1</th>\n",
              "      <td>67.0</td>\n",
              "      <td>1.0</td>\n",
              "      <td>4.0</td>\n",
              "      <td>160.0</td>\n",
              "      <td>286.0</td>\n",
              "      <td>0.0</td>\n",
              "      <td>2.0</td>\n",
              "      <td>108.0</td>\n",
              "      <td>1.0</td>\n",
              "      <td>1.5</td>\n",
              "      <td>2.0</td>\n",
              "      <td>3.0</td>\n",
              "      <td>3.0</td>\n",
              "      <td>2</td>\n",
              "    </tr>\n",
              "    <tr>\n",
              "      <th>2</th>\n",
              "      <td>67.0</td>\n",
              "      <td>1.0</td>\n",
              "      <td>4.0</td>\n",
              "      <td>120.0</td>\n",
              "      <td>229.0</td>\n",
              "      <td>0.0</td>\n",
              "      <td>2.0</td>\n",
              "      <td>129.0</td>\n",
              "      <td>1.0</td>\n",
              "      <td>2.6</td>\n",
              "      <td>2.0</td>\n",
              "      <td>2.0</td>\n",
              "      <td>7.0</td>\n",
              "      <td>1</td>\n",
              "    </tr>\n",
              "    <tr>\n",
              "      <th>3</th>\n",
              "      <td>37.0</td>\n",
              "      <td>1.0</td>\n",
              "      <td>3.0</td>\n",
              "      <td>130.0</td>\n",
              "      <td>250.0</td>\n",
              "      <td>0.0</td>\n",
              "      <td>0.0</td>\n",
              "      <td>187.0</td>\n",
              "      <td>0.0</td>\n",
              "      <td>3.5</td>\n",
              "      <td>3.0</td>\n",
              "      <td>0.0</td>\n",
              "      <td>3.0</td>\n",
              "      <td>0</td>\n",
              "    </tr>\n",
              "    <tr>\n",
              "      <th>4</th>\n",
              "      <td>41.0</td>\n",
              "      <td>0.0</td>\n",
              "      <td>2.0</td>\n",
              "      <td>130.0</td>\n",
              "      <td>204.0</td>\n",
              "      <td>0.0</td>\n",
              "      <td>2.0</td>\n",
              "      <td>172.0</td>\n",
              "      <td>0.0</td>\n",
              "      <td>1.4</td>\n",
              "      <td>1.0</td>\n",
              "      <td>0.0</td>\n",
              "      <td>3.0</td>\n",
              "      <td>0</td>\n",
              "    </tr>\n",
              "  </tbody>\n",
              "</table>\n",
              "</div>"
            ],
            "text/plain": [
              "    age  sex   cp  trestbps   chol  fbs  restecg  thalach  exang  oldpeak  \\\n",
              "0  63.0  1.0  1.0     145.0  233.0  1.0      2.0    150.0    0.0      2.3   \n",
              "1  67.0  1.0  4.0     160.0  286.0  0.0      2.0    108.0    1.0      1.5   \n",
              "2  67.0  1.0  4.0     120.0  229.0  0.0      2.0    129.0    1.0      2.6   \n",
              "3  37.0  1.0  3.0     130.0  250.0  0.0      0.0    187.0    0.0      3.5   \n",
              "4  41.0  0.0  2.0     130.0  204.0  0.0      2.0    172.0    0.0      1.4   \n",
              "\n",
              "   slope   ca  thal  target  \n",
              "0    3.0  0.0   6.0       0  \n",
              "1    2.0  3.0   3.0       2  \n",
              "2    2.0  2.0   7.0       1  \n",
              "3    3.0  0.0   3.0       0  \n",
              "4    1.0  0.0   3.0       0  "
            ]
          },
          "execution_count": 2,
          "metadata": {},
          "output_type": "execute_result"
        }
      ],
      "source": [
        "# Load the dataset\n",
        "url = \"https://archive.ics.uci.edu/ml/machine-learning-databases/heart-disease/processed.cleveland.data\"\n",
        "column_names = ['age', 'sex', 'cp', 'trestbps', 'chol', 'fbs', 'restecg', 'thalach',\n",
        "                'exang', 'oldpeak', 'slope', 'ca', 'thal', 'target']\n",
        "df = pd.read_csv(url, names=column_names, na_values='?')\n",
        "\n",
        "# Display basic information about the dataset\n",
        "print(\"Dataset Shape:\", df.shape)\n",
        "print(\"\\nDataset Info:\")\n",
        "df.info()\n",
        "print(\"\\nFirst few rows of the dataset:\")\n",
        "df.head()"
      ]
    },
    {
      "cell_type": "markdown",
      "id": "6ac8a62f",
      "metadata": {
        "id": "6ac8a62f"
      },
      "source": [
        "### Data Loading Insights\n",
        "- The dataset contains 303 samples with 14 features including the target variable\n",
        "- Features include both numerical (age, blood pressure, cholesterol) and categorical (sex, chest pain type) variables\n",
        "- Target variable represents presence (1) or absence (0) of heart disease\n",
        "- Some entries contain missing values ('?') that will need to be handled in preprocessing"
      ]
    },
    {
      "cell_type": "markdown",
      "id": "0HrdwDibivuG",
      "metadata": {
        "id": "0HrdwDibivuG"
      },
      "source": [
        "### Check unique values in target variable"
      ]
    },
    {
      "cell_type": "code",
      "execution_count": 3,
      "id": "d6a5c211",
      "metadata": {
        "colab": {
          "base_uri": "https://localhost:8080/"
        },
        "id": "d6a5c211",
        "outputId": "e51f3c90-d3a3-4941-b816-5db3367b28ff"
      },
      "outputs": [
        {
          "name": "stdout",
          "output_type": "stream",
          "text": [
            "Unique values in target variable: [0 2 1 3 4]\n",
            "\n",
            "Value counts in target variable:\n",
            "target\n",
            "0    164\n",
            "1     55\n",
            "2     36\n",
            "3     35\n",
            "4     13\n",
            "Name: count, dtype: int64\n"
          ]
        }
      ],
      "source": [
        "# Check unique values in target variable\n",
        "print(\"Unique values in target variable:\", df['target'].unique())\n",
        "print(\"\\nValue counts in target variable:\")\n",
        "print(df['target'].value_counts())"
      ]
    },
    {
      "cell_type": "markdown",
      "id": "ef9a5e60",
      "metadata": {
        "id": "ef9a5e60"
      },
      "source": [
        "## Exploratory Data Analysis"
      ]
    },
    {
      "cell_type": "markdown",
      "id": "2hRTPMa3i9n_",
      "metadata": {
        "id": "2hRTPMa3i9n_"
      },
      "source": [
        "### Check for missing values"
      ]
    },
    {
      "cell_type": "code",
      "execution_count": 4,
      "id": "53d72d1a",
      "metadata": {
        "colab": {
          "base_uri": "https://localhost:8080/"
        },
        "id": "53d72d1a",
        "outputId": "c615c416-1259-446d-c73b-33e1e3932553"
      },
      "outputs": [
        {
          "name": "stdout",
          "output_type": "stream",
          "text": [
            "Missing values in each column:\n",
            "age         0\n",
            "sex         0\n",
            "cp          0\n",
            "trestbps    0\n",
            "chol        0\n",
            "fbs         0\n",
            "restecg     0\n",
            "thalach     0\n",
            "exang       0\n",
            "oldpeak     0\n",
            "slope       0\n",
            "ca          4\n",
            "thal        2\n",
            "target      0\n",
            "dtype: int64\n"
          ]
        }
      ],
      "source": [
        "print(\"Missing values in each column:\")\n",
        "print(df.isnull().sum())"
      ]
    },
    {
      "cell_type": "markdown",
      "id": "U_uyAjDVjGRp",
      "metadata": {
        "id": "U_uyAjDVjGRp"
      },
      "source": [
        "### Target variable distribution"
      ]
    },
    {
      "cell_type": "code",
      "execution_count": 5,
      "id": "inhe6qJ_jG1L",
      "metadata": {
        "colab": {
          "base_uri": "https://localhost:8080/",
          "height": 542
        },
        "id": "inhe6qJ_jG1L",
        "outputId": "f9d71680-ce66-45f6-e9ea-90fbe754edb4"
      },
      "outputs": [
        {
          "data": {
            "application/vnd.plotly.v1+json": {
              "config": {
                "plotlyServerURL": "https://plot.ly"
              },
              "data": [
                {
                  "bingroup": "x",
                  "hovertemplate": "target=%{x}<br>count=%{y}<extra></extra>",
                  "legendgroup": "0",
                  "marker": {
                    "color": "#636efa",
                    "pattern": {
                      "shape": ""
                    }
                  },
                  "name": "0",
                  "orientation": "v",
                  "showlegend": true,
                  "texttemplate": "%{value}",
                  "type": "histogram",
                  "x": {
                    "bdata": "AAAAAAAAAAAAAAAAAAAAAAAAAAAAAAAAAAAAAAAAAAAAAAAAAAAAAAAAAAAAAAAAAAAAAAAAAAAAAAAAAAAAAAAAAAAAAAAAAAAAAAAAAAAAAAAAAAAAAAAAAAAAAAAAAAAAAAAAAAAAAAAAAAAAAAAAAAAAAAAAAAAAAAAAAAAAAAAAAAAAAAAAAAAAAAAAAAAAAAAAAAAAAAAAAAAAAAAAAAA=",
                    "dtype": "i1"
                  },
                  "xaxis": "x",
                  "yaxis": "y"
                },
                {
                  "bingroup": "x",
                  "hovertemplate": "target=%{x}<br>count=%{y}<extra></extra>",
                  "legendgroup": "2",
                  "marker": {
                    "color": "#EF553B",
                    "pattern": {
                      "shape": ""
                    }
                  },
                  "name": "2",
                  "orientation": "v",
                  "showlegend": true,
                  "texttemplate": "%{value}",
                  "type": "histogram",
                  "x": {
                    "bdata": "AgICAgICAgICAgICAgICAgICAgICAgICAgICAgICAgICAgIC",
                    "dtype": "i1"
                  },
                  "xaxis": "x",
                  "yaxis": "y"
                },
                {
                  "bingroup": "x",
                  "hovertemplate": "target=%{x}<br>count=%{y}<extra></extra>",
                  "legendgroup": "1",
                  "marker": {
                    "color": "#00cc96",
                    "pattern": {
                      "shape": ""
                    }
                  },
                  "name": "1",
                  "orientation": "v",
                  "showlegend": true,
                  "texttemplate": "%{value}",
                  "type": "histogram",
                  "x": {
                    "bdata": "AQEBAQEBAQEBAQEBAQEBAQEBAQEBAQEBAQEBAQEBAQEBAQEBAQEBAQEBAQEBAQEBAQEBAQEBAQ==",
                    "dtype": "i1"
                  },
                  "xaxis": "x",
                  "yaxis": "y"
                },
                {
                  "bingroup": "x",
                  "hovertemplate": "target=%{x}<br>count=%{y}<extra></extra>",
                  "legendgroup": "3",
                  "marker": {
                    "color": "#ab63fa",
                    "pattern": {
                      "shape": ""
                    }
                  },
                  "name": "3",
                  "orientation": "v",
                  "showlegend": true,
                  "texttemplate": "%{value}",
                  "type": "histogram",
                  "x": {
                    "bdata": "AwMDAwMDAwMDAwMDAwMDAwMDAwMDAwMDAwMDAwMDAwMDAwM=",
                    "dtype": "i1"
                  },
                  "xaxis": "x",
                  "yaxis": "y"
                },
                {
                  "bingroup": "x",
                  "hovertemplate": "target=%{x}<br>count=%{y}<extra></extra>",
                  "legendgroup": "4",
                  "marker": {
                    "color": "#FFA15A",
                    "pattern": {
                      "shape": ""
                    }
                  },
                  "name": "4",
                  "orientation": "v",
                  "showlegend": true,
                  "texttemplate": "%{value}",
                  "type": "histogram",
                  "x": {
                    "bdata": "BAQEBAQEBAQEBAQEBA==",
                    "dtype": "i1"
                  },
                  "xaxis": "x",
                  "yaxis": "y"
                }
              ],
              "layout": {
                "bargap": 0.2,
                "barmode": "relative",
                "legend": {
                  "title": {
                    "text": "target"
                  },
                  "tracegroupgap": 0
                },
                "margin": {
                  "t": 60
                },
                "showlegend": false,
                "template": {
                  "data": {
                    "bar": [
                      {
                        "error_x": {
                          "color": "#2a3f5f"
                        },
                        "error_y": {
                          "color": "#2a3f5f"
                        },
                        "marker": {
                          "line": {
                            "color": "#E5ECF6",
                            "width": 0.5
                          },
                          "pattern": {
                            "fillmode": "overlay",
                            "size": 10,
                            "solidity": 0.2
                          }
                        },
                        "type": "bar"
                      }
                    ],
                    "barpolar": [
                      {
                        "marker": {
                          "line": {
                            "color": "#E5ECF6",
                            "width": 0.5
                          },
                          "pattern": {
                            "fillmode": "overlay",
                            "size": 10,
                            "solidity": 0.2
                          }
                        },
                        "type": "barpolar"
                      }
                    ],
                    "carpet": [
                      {
                        "aaxis": {
                          "endlinecolor": "#2a3f5f",
                          "gridcolor": "white",
                          "linecolor": "white",
                          "minorgridcolor": "white",
                          "startlinecolor": "#2a3f5f"
                        },
                        "baxis": {
                          "endlinecolor": "#2a3f5f",
                          "gridcolor": "white",
                          "linecolor": "white",
                          "minorgridcolor": "white",
                          "startlinecolor": "#2a3f5f"
                        },
                        "type": "carpet"
                      }
                    ],
                    "choropleth": [
                      {
                        "colorbar": {
                          "outlinewidth": 0,
                          "ticks": ""
                        },
                        "type": "choropleth"
                      }
                    ],
                    "contour": [
                      {
                        "colorbar": {
                          "outlinewidth": 0,
                          "ticks": ""
                        },
                        "colorscale": [
                          [
                            0,
                            "#0d0887"
                          ],
                          [
                            0.1111111111111111,
                            "#46039f"
                          ],
                          [
                            0.2222222222222222,
                            "#7201a8"
                          ],
                          [
                            0.3333333333333333,
                            "#9c179e"
                          ],
                          [
                            0.4444444444444444,
                            "#bd3786"
                          ],
                          [
                            0.5555555555555556,
                            "#d8576b"
                          ],
                          [
                            0.6666666666666666,
                            "#ed7953"
                          ],
                          [
                            0.7777777777777778,
                            "#fb9f3a"
                          ],
                          [
                            0.8888888888888888,
                            "#fdca26"
                          ],
                          [
                            1,
                            "#f0f921"
                          ]
                        ],
                        "type": "contour"
                      }
                    ],
                    "contourcarpet": [
                      {
                        "colorbar": {
                          "outlinewidth": 0,
                          "ticks": ""
                        },
                        "type": "contourcarpet"
                      }
                    ],
                    "heatmap": [
                      {
                        "colorbar": {
                          "outlinewidth": 0,
                          "ticks": ""
                        },
                        "colorscale": [
                          [
                            0,
                            "#0d0887"
                          ],
                          [
                            0.1111111111111111,
                            "#46039f"
                          ],
                          [
                            0.2222222222222222,
                            "#7201a8"
                          ],
                          [
                            0.3333333333333333,
                            "#9c179e"
                          ],
                          [
                            0.4444444444444444,
                            "#bd3786"
                          ],
                          [
                            0.5555555555555556,
                            "#d8576b"
                          ],
                          [
                            0.6666666666666666,
                            "#ed7953"
                          ],
                          [
                            0.7777777777777778,
                            "#fb9f3a"
                          ],
                          [
                            0.8888888888888888,
                            "#fdca26"
                          ],
                          [
                            1,
                            "#f0f921"
                          ]
                        ],
                        "type": "heatmap"
                      }
                    ],
                    "histogram": [
                      {
                        "marker": {
                          "pattern": {
                            "fillmode": "overlay",
                            "size": 10,
                            "solidity": 0.2
                          }
                        },
                        "type": "histogram"
                      }
                    ],
                    "histogram2d": [
                      {
                        "colorbar": {
                          "outlinewidth": 0,
                          "ticks": ""
                        },
                        "colorscale": [
                          [
                            0,
                            "#0d0887"
                          ],
                          [
                            0.1111111111111111,
                            "#46039f"
                          ],
                          [
                            0.2222222222222222,
                            "#7201a8"
                          ],
                          [
                            0.3333333333333333,
                            "#9c179e"
                          ],
                          [
                            0.4444444444444444,
                            "#bd3786"
                          ],
                          [
                            0.5555555555555556,
                            "#d8576b"
                          ],
                          [
                            0.6666666666666666,
                            "#ed7953"
                          ],
                          [
                            0.7777777777777778,
                            "#fb9f3a"
                          ],
                          [
                            0.8888888888888888,
                            "#fdca26"
                          ],
                          [
                            1,
                            "#f0f921"
                          ]
                        ],
                        "type": "histogram2d"
                      }
                    ],
                    "histogram2dcontour": [
                      {
                        "colorbar": {
                          "outlinewidth": 0,
                          "ticks": ""
                        },
                        "colorscale": [
                          [
                            0,
                            "#0d0887"
                          ],
                          [
                            0.1111111111111111,
                            "#46039f"
                          ],
                          [
                            0.2222222222222222,
                            "#7201a8"
                          ],
                          [
                            0.3333333333333333,
                            "#9c179e"
                          ],
                          [
                            0.4444444444444444,
                            "#bd3786"
                          ],
                          [
                            0.5555555555555556,
                            "#d8576b"
                          ],
                          [
                            0.6666666666666666,
                            "#ed7953"
                          ],
                          [
                            0.7777777777777778,
                            "#fb9f3a"
                          ],
                          [
                            0.8888888888888888,
                            "#fdca26"
                          ],
                          [
                            1,
                            "#f0f921"
                          ]
                        ],
                        "type": "histogram2dcontour"
                      }
                    ],
                    "mesh3d": [
                      {
                        "colorbar": {
                          "outlinewidth": 0,
                          "ticks": ""
                        },
                        "type": "mesh3d"
                      }
                    ],
                    "parcoords": [
                      {
                        "line": {
                          "colorbar": {
                            "outlinewidth": 0,
                            "ticks": ""
                          }
                        },
                        "type": "parcoords"
                      }
                    ],
                    "pie": [
                      {
                        "automargin": true,
                        "type": "pie"
                      }
                    ],
                    "scatter": [
                      {
                        "fillpattern": {
                          "fillmode": "overlay",
                          "size": 10,
                          "solidity": 0.2
                        },
                        "type": "scatter"
                      }
                    ],
                    "scatter3d": [
                      {
                        "line": {
                          "colorbar": {
                            "outlinewidth": 0,
                            "ticks": ""
                          }
                        },
                        "marker": {
                          "colorbar": {
                            "outlinewidth": 0,
                            "ticks": ""
                          }
                        },
                        "type": "scatter3d"
                      }
                    ],
                    "scattercarpet": [
                      {
                        "marker": {
                          "colorbar": {
                            "outlinewidth": 0,
                            "ticks": ""
                          }
                        },
                        "type": "scattercarpet"
                      }
                    ],
                    "scattergeo": [
                      {
                        "marker": {
                          "colorbar": {
                            "outlinewidth": 0,
                            "ticks": ""
                          }
                        },
                        "type": "scattergeo"
                      }
                    ],
                    "scattergl": [
                      {
                        "marker": {
                          "colorbar": {
                            "outlinewidth": 0,
                            "ticks": ""
                          }
                        },
                        "type": "scattergl"
                      }
                    ],
                    "scattermap": [
                      {
                        "marker": {
                          "colorbar": {
                            "outlinewidth": 0,
                            "ticks": ""
                          }
                        },
                        "type": "scattermap"
                      }
                    ],
                    "scattermapbox": [
                      {
                        "marker": {
                          "colorbar": {
                            "outlinewidth": 0,
                            "ticks": ""
                          }
                        },
                        "type": "scattermapbox"
                      }
                    ],
                    "scatterpolar": [
                      {
                        "marker": {
                          "colorbar": {
                            "outlinewidth": 0,
                            "ticks": ""
                          }
                        },
                        "type": "scatterpolar"
                      }
                    ],
                    "scatterpolargl": [
                      {
                        "marker": {
                          "colorbar": {
                            "outlinewidth": 0,
                            "ticks": ""
                          }
                        },
                        "type": "scatterpolargl"
                      }
                    ],
                    "scatterternary": [
                      {
                        "marker": {
                          "colorbar": {
                            "outlinewidth": 0,
                            "ticks": ""
                          }
                        },
                        "type": "scatterternary"
                      }
                    ],
                    "surface": [
                      {
                        "colorbar": {
                          "outlinewidth": 0,
                          "ticks": ""
                        },
                        "colorscale": [
                          [
                            0,
                            "#0d0887"
                          ],
                          [
                            0.1111111111111111,
                            "#46039f"
                          ],
                          [
                            0.2222222222222222,
                            "#7201a8"
                          ],
                          [
                            0.3333333333333333,
                            "#9c179e"
                          ],
                          [
                            0.4444444444444444,
                            "#bd3786"
                          ],
                          [
                            0.5555555555555556,
                            "#d8576b"
                          ],
                          [
                            0.6666666666666666,
                            "#ed7953"
                          ],
                          [
                            0.7777777777777778,
                            "#fb9f3a"
                          ],
                          [
                            0.8888888888888888,
                            "#fdca26"
                          ],
                          [
                            1,
                            "#f0f921"
                          ]
                        ],
                        "type": "surface"
                      }
                    ],
                    "table": [
                      {
                        "cells": {
                          "fill": {
                            "color": "#EBF0F8"
                          },
                          "line": {
                            "color": "white"
                          }
                        },
                        "header": {
                          "fill": {
                            "color": "#C8D4E3"
                          },
                          "line": {
                            "color": "white"
                          }
                        },
                        "type": "table"
                      }
                    ]
                  },
                  "layout": {
                    "annotationdefaults": {
                      "arrowcolor": "#2a3f5f",
                      "arrowhead": 0,
                      "arrowwidth": 1
                    },
                    "autotypenumbers": "strict",
                    "coloraxis": {
                      "colorbar": {
                        "outlinewidth": 0,
                        "ticks": ""
                      }
                    },
                    "colorscale": {
                      "diverging": [
                        [
                          0,
                          "#8e0152"
                        ],
                        [
                          0.1,
                          "#c51b7d"
                        ],
                        [
                          0.2,
                          "#de77ae"
                        ],
                        [
                          0.3,
                          "#f1b6da"
                        ],
                        [
                          0.4,
                          "#fde0ef"
                        ],
                        [
                          0.5,
                          "#f7f7f7"
                        ],
                        [
                          0.6,
                          "#e6f5d0"
                        ],
                        [
                          0.7,
                          "#b8e186"
                        ],
                        [
                          0.8,
                          "#7fbc41"
                        ],
                        [
                          0.9,
                          "#4d9221"
                        ],
                        [
                          1,
                          "#276419"
                        ]
                      ],
                      "sequential": [
                        [
                          0,
                          "#0d0887"
                        ],
                        [
                          0.1111111111111111,
                          "#46039f"
                        ],
                        [
                          0.2222222222222222,
                          "#7201a8"
                        ],
                        [
                          0.3333333333333333,
                          "#9c179e"
                        ],
                        [
                          0.4444444444444444,
                          "#bd3786"
                        ],
                        [
                          0.5555555555555556,
                          "#d8576b"
                        ],
                        [
                          0.6666666666666666,
                          "#ed7953"
                        ],
                        [
                          0.7777777777777778,
                          "#fb9f3a"
                        ],
                        [
                          0.8888888888888888,
                          "#fdca26"
                        ],
                        [
                          1,
                          "#f0f921"
                        ]
                      ],
                      "sequentialminus": [
                        [
                          0,
                          "#0d0887"
                        ],
                        [
                          0.1111111111111111,
                          "#46039f"
                        ],
                        [
                          0.2222222222222222,
                          "#7201a8"
                        ],
                        [
                          0.3333333333333333,
                          "#9c179e"
                        ],
                        [
                          0.4444444444444444,
                          "#bd3786"
                        ],
                        [
                          0.5555555555555556,
                          "#d8576b"
                        ],
                        [
                          0.6666666666666666,
                          "#ed7953"
                        ],
                        [
                          0.7777777777777778,
                          "#fb9f3a"
                        ],
                        [
                          0.8888888888888888,
                          "#fdca26"
                        ],
                        [
                          1,
                          "#f0f921"
                        ]
                      ]
                    },
                    "colorway": [
                      "#636efa",
                      "#EF553B",
                      "#00cc96",
                      "#ab63fa",
                      "#FFA15A",
                      "#19d3f3",
                      "#FF6692",
                      "#B6E880",
                      "#FF97FF",
                      "#FECB52"
                    ],
                    "font": {
                      "color": "#2a3f5f"
                    },
                    "geo": {
                      "bgcolor": "white",
                      "lakecolor": "white",
                      "landcolor": "#E5ECF6",
                      "showlakes": true,
                      "showland": true,
                      "subunitcolor": "white"
                    },
                    "hoverlabel": {
                      "align": "left"
                    },
                    "hovermode": "closest",
                    "mapbox": {
                      "style": "light"
                    },
                    "paper_bgcolor": "white",
                    "plot_bgcolor": "#E5ECF6",
                    "polar": {
                      "angularaxis": {
                        "gridcolor": "white",
                        "linecolor": "white",
                        "ticks": ""
                      },
                      "bgcolor": "#E5ECF6",
                      "radialaxis": {
                        "gridcolor": "white",
                        "linecolor": "white",
                        "ticks": ""
                      }
                    },
                    "scene": {
                      "xaxis": {
                        "backgroundcolor": "#E5ECF6",
                        "gridcolor": "white",
                        "gridwidth": 2,
                        "linecolor": "white",
                        "showbackground": true,
                        "ticks": "",
                        "zerolinecolor": "white"
                      },
                      "yaxis": {
                        "backgroundcolor": "#E5ECF6",
                        "gridcolor": "white",
                        "gridwidth": 2,
                        "linecolor": "white",
                        "showbackground": true,
                        "ticks": "",
                        "zerolinecolor": "white"
                      },
                      "zaxis": {
                        "backgroundcolor": "#E5ECF6",
                        "gridcolor": "white",
                        "gridwidth": 2,
                        "linecolor": "white",
                        "showbackground": true,
                        "ticks": "",
                        "zerolinecolor": "white"
                      }
                    },
                    "shapedefaults": {
                      "line": {
                        "color": "#2a3f5f"
                      }
                    },
                    "ternary": {
                      "aaxis": {
                        "gridcolor": "white",
                        "linecolor": "white",
                        "ticks": ""
                      },
                      "baxis": {
                        "gridcolor": "white",
                        "linecolor": "white",
                        "ticks": ""
                      },
                      "bgcolor": "#E5ECF6",
                      "caxis": {
                        "gridcolor": "white",
                        "linecolor": "white",
                        "ticks": ""
                      }
                    },
                    "title": {
                      "x": 0.05
                    },
                    "xaxis": {
                      "automargin": true,
                      "gridcolor": "white",
                      "linecolor": "white",
                      "ticks": "",
                      "title": {
                        "standoff": 15
                      },
                      "zerolinecolor": "white",
                      "zerolinewidth": 2
                    },
                    "yaxis": {
                      "automargin": true,
                      "gridcolor": "white",
                      "linecolor": "white",
                      "ticks": "",
                      "title": {
                        "standoff": 15
                      },
                      "zerolinecolor": "white",
                      "zerolinewidth": 2
                    }
                  }
                },
                "title": {
                  "text": "Distribution of Heart Disease"
                },
                "xaxis": {
                  "anchor": "y",
                  "categoryarray": [
                    0,
                    2,
                    1,
                    3,
                    4
                  ],
                  "categoryorder": "array",
                  "domain": [
                    0,
                    1
                  ],
                  "title": {
                    "text": "Heart Disease Present"
                  }
                },
                "yaxis": {
                  "anchor": "x",
                  "domain": [
                    0,
                    1
                  ],
                  "title": {
                    "text": "Count"
                  }
                }
              }
            }
          },
          "metadata": {},
          "output_type": "display_data"
        }
      ],
      "source": [
        "fig = px.histogram(\n",
        "    df, x=\"target\",\n",
        "    color=\"target\",       # adds color by class\n",
        "    text_auto=True        # show counts on bars\n",
        ")\n",
        "\n",
        "fig.update_layout(\n",
        "    title=\"Distribution of Heart Disease\",\n",
        "    xaxis_title=\"Heart Disease Present\",\n",
        "    yaxis_title=\"Count\",\n",
        "    bargap=0.2,\n",
        "    showlegend=False\n",
        ")\n",
        "\n",
        "fig.show()"
      ]
    },
    {
      "cell_type": "markdown",
      "id": "UkeyKGtujMUL",
      "metadata": {
        "id": "UkeyKGtujMUL"
      },
      "source": [
        "### Correlation heatmap"
      ]
    },
    {
      "cell_type": "code",
      "execution_count": 6,
      "id": "tLM3dg8NjMpy",
      "metadata": {
        "colab": {
          "base_uri": "https://localhost:8080/",
          "height": 853
        },
        "id": "tLM3dg8NjMpy",
        "outputId": "000eb14e-985a-4362-aa75-0b19f65fc160"
      },
      "outputs": [
        {
          "data": {
            "image/png": "[encoded data removed]",
            "text/plain": [
              "<Figure size 1200x1000 with 2 Axes>"
            ]
          },
          "metadata": {},
          "output_type": "display_data"
        }
      ],
      "source": [
        "plt.figure(figsize=(12, 10))\n",
        "sns.heatmap(df.corr(), annot=True, cmap='coolwarm', fmt='.2f')\n",
        "plt.title('Correlation Matrix')\n",
        "plt.show()"
      ]
    },
    {
      "cell_type": "markdown",
      "id": "KelKpdEEjS_j",
      "metadata": {
        "id": "KelKpdEEjS_j"
      },
      "source": [
        "### Distribution of numerical features"
      ]
    },
    {
      "cell_type": "code",
      "execution_count": 7,
      "id": "xO2qvt_PjTfD",
      "metadata": {
        "colab": {
          "base_uri": "https://localhost:8080/",
          "height": 817
        },
        "id": "xO2qvt_PjTfD",
        "outputId": "3c6138c7-f9e9-40cf-d2dd-562c2368b1e1"
      },
      "outputs": [
        {
          "data": {
            "application/vnd.plotly.v1+json": {
              "config": {
                "plotlyServerURL": "https://plot.ly"
              },
              "data": [
                {
                  "bingroup": "x",
                  "hovertemplate": "target=0<br>age=%{x}<br>count=%{y}<extra></extra>",
                  "legendgroup": "0",
                  "marker": {
                    "color": "#636efa",
                    "pattern": {
                      "shape": ""
                    }
                  },
                  "name": "0",
                  "nbinsx": 30,
                  "orientation": "v",
                  "showlegend": true,
                  "type": "histogram",
                  "x": {
                    "bdata": "AAAAAACAT0AAAAAAAIBCQAAAAAAAgERAAAAAAAAATEAAAAAAAIBMQAAAAAAAgExAAAAAAAAATEAAAAAAAABGQAAAAAAAAEpAAAAAAACATEAAAAAAAABLQAAAAAAAAEhAAAAAAACASEAAAAAAAABQQAAAAAAAAE1AAAAAAAAASUAAAAAAAABNQAAAAAAAgFBAAAAAAACARUAAAAAAAEBRQAAAAAAAgE1AAAAAAAAARkAAAAAAAABFQAAAAAAAgE5AAAAAAAAAREAAAAAAAMBRQAAAAAAAgE1AAAAAAACASUAAAAAAAEBQQAAAAAAAgEpAAAAAAACAREAAAAAAAEBQQAAAAAAAAEZAAAAAAAAAS0AAAAAAAIBJQAAAAAAAAEdAAAAAAAAAS0AAAAAAAABLQAAAAAAAQFBAAAAAAABAUEAAAAAAAIBJQAAAAAAAAEhAAAAAAACARkAAAAAAAIBKQAAAAAAAgENAAAAAAAAASkAAAAAAAABGQAAAAAAAgEdAAAAAAACASkAAAAAAAIBKQAAAAAAAgElAAAAAAACAUEAAAAAAAABPQAAAAAAAAEZAAAAAAACAT0AAAAAAAABKQAAAAAAAAEhAAAAAAACARkAAAAAAAABBQAAAAAAAgExAAAAAAADAUUAAAAAAAABLQAAAAAAAAEpAAAAAAACAREAAAAAAAABNQAAAAAAAgEFAAAAAAACASUAAAAAAAIBGQAAAAAAAAEZAAAAAAAAAT0AAAAAAAABLQAAAAAAAgElAAAAAAAAAPUAAAAAAAIBJQAAAAAAAgEVAAAAAAACAS0AAAAAAAIBJQAAAAAAAgE1AAAAAAAAASkAAAAAAAABNQAAAAAAAgERAAAAAAACARkAAAAAAAABOQAAAAAAAAEpAAAAAAAAARUAAAAAAAMBQQAAAAAAAAFFAAAAAAAAAR0AAAAAAAABLQAAAAAAAAE1AAAAAAAAASEAAAAAAAIBMQAAAAAAAAEpAAAAAAAAAS0AAAAAAAIBGQAAAAAAAgEpAAAAAAAAAT0AAAAAAAABKQAAAAAAAgEVAAAAAAACASkAAAAAAAABFQAAAAAAAgE1AAAAAAACAT0AAAAAAAABFQAAAAAAAAElAAAAAAAAAUUAAAAAAAEBRQAAAAAAAgEZAAAAAAAAASUAAAAAAAABJQAAAAAAAAFBAAAAAAACATEAAAAAAAABQQAAAAAAAgEVAAAAAAACAS0AAAAAAAIBCQAAAAAAAgERAAAAAAAAATEAAAAAAAABHQAAAAAAAAEdAAAAAAAAAUEAAAAAAAIBNQAAAAAAAgERAAAAAAAAAS0AAAAAAAIBDQAAAAAAAAEFAAAAAAACAR0AAAAAAAMBQQAAAAAAAAEpAAAAAAACAUkAAAAAAAABLQAAAAAAAgEhAAAAAAAAARUAAAAAAAIBEQAAAAAAAgERAAAAAAACASEAAAAAAAABOQAAAAAAAAE9AAAAAAACATEAAAAAAAABQQAAAAAAAgElAAAAAAACARUAAAAAAAABFQAAAAAAAwFBAAAAAAAAAU0AAAAAAAIBRQAAAAAAAAEZAAAAAAAAATkAAAAAAAABGQAAAAAAAAEVAAAAAAACAUEAAAAAAAMBRQAAAAAAAAFBAAAAAAACAUEAAAAAAAIBDQAAAAAAAAE1AAAAAAACAR0AAAAAAAIBBQAAAAAAAAE1AAAAAAAAATEAAAAAAAABMQAAAAAAAgEtAAAAAAACAREAAAAAAAABDQA==",
                    "dtype": "f8"
                  },
                  "xaxis": "x",
                  "yaxis": "y"
                },
                {
                  "bingroup": "x",
                  "hovertemplate": "target=2<br>age=%{x}<br>count=%{y}<extra></extra>",
                  "legendgroup": "2",
                  "marker": {
                    "color": "#EF553B",
                    "pattern": {
                      "shape": ""
                    }
                  },
                  "name": "2",
                  "nbinsx": 30,
                  "orientation": "v",
                  "showlegend": true,
                  "type": "histogram",
                  "x": {
                    "bdata": "AAAAAADAUEAAAAAAAIBPQAAAAAAAAExAAAAAAAAATkAAAAAAAABGQAAAAAAAgElAAAAAAAAAS0AAAAAAAABOQAAAAAAAgE1AAAAAAACATUAAAAAAAIBNQAAAAAAAgE5AAAAAAACARUAAAAAAAABPQAAAAAAAQFBAAAAAAAAATkAAAAAAAABMQAAAAAAAgFBAAAAAAABAUUAAAAAAAABPQAAAAAAAgFBAAAAAAACAS0AAAAAAAABMQAAAAAAAgE5AAAAAAADAUEAAAAAAAABNQAAAAAAAAEVAAAAAAAAASkAAAAAAAIBNQAAAAAAAAEdAAAAAAACATEAAAAAAAIBOQAAAAAAAAE1AAAAAAAAARkAAAAAAAIBPQAAAAAAAAFFA",
                    "dtype": "f8"
                  },
                  "xaxis": "x",
                  "yaxis": "y"
                },
                {
                  "bingroup": "x",
                  "hovertemplate": "target=1<br>age=%{x}<br>count=%{y}<extra></extra>",
                  "legendgroup": "1",
                  "marker": {
                    "color": "#00cc96",
                    "pattern": {
                      "shape": ""
                    }
                  },
                  "name": "1",
                  "nbinsx": 30,
                  "orientation": "v",
                  "showlegend": true,
                  "type": "histogram",
                  "x": {
                    "bdata": "AAAAAADAUEAAAAAAAIBKQAAAAAAAAEhAAAAAAAAATUAAAAAAAABQQAAAAAAAgExAAAAAAACATkAAAAAAAABOQAAAAAAAAEtAAAAAAAAASUAAAAAAAIBEQAAAAAAAAE1AAAAAAAAATkAAAAAAAABHQAAAAAAAAE9AAAAAAABAUEAAAAAAAABGQAAAAAAAAE5AAAAAAAAASkAAAAAAAIBMQAAAAAAAgE5AAAAAAAAATEAAAAAAAEBQQAAAAAAAgEFAAAAAAACATUAAAAAAAABQQAAAAAAAgEdAAAAAAACAUUAAAAAAAIBJQAAAAAAAAE1AAAAAAACAQUAAAAAAAIBNQAAAAAAAgExAAAAAAAAATEAAAAAAAABOQAAAAAAAAEtAAAAAAACARUAAAAAAAIBNQAAAAAAAAE9AAAAAAAAASkAAAAAAAIBPQAAAAAAAgEhAAAAAAAAAR0AAAAAAAIBHQAAAAAAAAE1AAAAAAACATEAAAAAAAABEQAAAAAAAgE5AAAAAAACATUAAAAAAAIBMQAAAAAAAwFBAAAAAAACAT0AAAAAAAIBMQAAAAAAAgEZAAAAAAACATEA=",
                    "dtype": "f8"
                  },
                  "xaxis": "x",
                  "yaxis": "y"
                },
                {
                  "bingroup": "x",
                  "hovertemplate": "target=3<br>age=%{x}<br>count=%{y}<extra></extra>",
                  "legendgroup": "3",
                  "marker": {
                    "color": "#ab63fa",
                    "pattern": {
                      "shape": ""
                    }
                  },
                  "name": "3",
                  "nbinsx": 30,
                  "orientation": "v",
                  "showlegend": true,
                  "type": "histogram",
                  "x": {
                    "bdata": "AAAAAAAAT0AAAAAAAABNQAAAAAAAAERAAAAAAACARUAAAAAAAIBLQAAAAAAAwFBAAAAAAAAATUAAAAAAAABRQAAAAAAAAE9AAAAAAAAATkAAAAAAAIBIQAAAAAAAgENAAAAAAACAT0AAAAAAAABIQAAAAAAAgEtAAAAAAAAATEAAAAAAAABLQAAAAAAAAE9AAAAAAAAAUEAAAAAAAIBRQAAAAAAAAEhAAAAAAACASUAAAAAAAMBQQAAAAAAAgEZAAAAAAAAATUAAAAAAAABJQAAAAAAAgFBAAAAAAACASkAAAAAAAABLQAAAAAAAAEtAAAAAAAAASkAAAAAAAABNQAAAAAAAgEtAAAAAAACATUAAAAAAAIBMQA==",
                    "dtype": "f8"
                  },
                  "xaxis": "x",
                  "yaxis": "y"
                },
                {
                  "bingroup": "x",
                  "hovertemplate": "target=4<br>age=%{x}<br>count=%{y}<extra></extra>",
                  "legendgroup": "4",
                  "marker": {
                    "color": "#FFA15A",
                    "pattern": {
                      "shape": ""
                    }
                  },
                  "name": "4",
                  "nbinsx": 30,
                  "orientation": "v",
                  "showlegend": true,
                  "type": "histogram",
                  "x": {
                    "bdata": "AAAAAAAATkAAAAAAAEBQQAAAAAAAAE1AAAAAAAAASUAAAAAAAIBPQAAAAAAAgFFAAAAAAACATEAAAAAAAIBLQAAAAAAAQFNAAAAAAAAAUEAAAAAAAABDQAAAAAAAgE5AAAAAAAAATUA=",
                    "dtype": "f8"
                  },
                  "xaxis": "x",
                  "yaxis": "y"
                },
                {
                  "bingroup": "x",
                  "hovertemplate": "target=0<br>trestbps=%{x}<br>count=%{y}<extra></extra>",
                  "legendgroup": "0",
                  "marker": {
                    "color": "#636efa",
                    "pattern": {
                      "shape": ""
                    }
                  },
                  "name": "0",
                  "nbinsx": 30,
                  "orientation": "v",
                  "showlegend": true,
                  "type": "histogram",
                  "x": {
                    "bdata": "AAAAAAAgYkAAAAAAAEBgQAAAAAAAQGBAAAAAAAAAXkAAAAAAAABeQAAAAAAAgGFAAAAAAACAYUAAAAAAAABeQAAAAAAAgGVAAAAAAADAYkAAAAAAAIBhQAAAAAAAQGBAAAAAAABAYEAAAAAAAIBbQAAAAAAAwGJAAAAAAAAAXkAAAAAAAABeQAAAAAAAwGJAAAAAAADAYkAAAAAAAIBhQAAAAAAA4GBAAAAAAABAYEAAAAAAAIBhQAAAAAAAwGJAAAAAAACAYUAAAAAAAABkQAAAAAAAwGJAAAAAAACAW0AAAAAAAIBhQAAAAAAAQGBAAAAAAABAWkAAAAAAAABeQAAAAAAAQGBAAAAAAABAX0AAAAAAAEBfQAAAAAAAwGFAAAAAAADgYEAAAAAAAMBiQAAAAAAAYGNAAAAAAAAAZEAAAAAAAIBhQAAAAAAAQGBAAAAAAAAAWkAAAAAAAEBgQAAAAAAAgGFAAAAAAAAAXkAAAAAAAIBhQAAAAAAAQGFAAAAAAAAAYEAAAAAAAEBhQAAAAAAAQGBAAAAAAAAAXkAAAAAAAEBgQAAAAAAAAFtAAAAAAADgYEAAAAAAAMBgQAAAAAAAgF5AAAAAAADAXEAAAAAAAIBdQAAAAAAAAGBAAAAAAACAW0AAAAAAAABbQAAAAAAAgF1AAAAAAADgYEAAAAAAAIBhQAAAAAAAQGFAAAAAAAAAWUAAAAAAAEBgQAAAAAAAAF5AAAAAAAAAX0AAAAAAAABeQAAAAAAAgFdAAAAAAABAYEAAAAAAAIBhQAAAAAAAgF5AAAAAAADgYEAAAAAAAEBfQAAAAAAAgGFAAAAAAAAAYEAAAAAAAEBaQAAAAAAAAFxAAAAAAAAAYEAAAAAAAIBZQAAAAAAAAGNAAAAAAACAWUAAAAAAAMBcQAAAAAAAgF1AAAAAAABAWUAAAAAAAIBbQAAAAAAAAFlAAAAAAAAAX0AAAAAAAIBgQAAAAAAAQGFAAAAAAACAYEAAAAAAAABcQAAAAAAAwGFAAAAAAACAYUAAAAAAAABbQAAAAAAAQGBAAAAAAABAYEAAAAAAAIBiQAAAAAAAQGZAAAAAAACAYUAAAAAAAABeQAAAAAAAIGBAAAAAAAAAXkAAAAAAAABkQAAAAAAAQGFAAAAAAAAAXkAAAAAAAIBbQAAAAAAAgGZAAAAAAADAYkAAAAAAAIBhQAAAAAAAgFtAAAAAAABAYEAAAAAAAABeQAAAAAAAQGBAAAAAAAAAXkAAAAAAAEBaQAAAAAAAQGFAAAAAAABAYEAAAAAAAEBhQAAAAAAAAFxAAAAAAAAAW0AAAAAAAIBXQAAAAAAAgF1AAAAAAAAAXEAAAAAAAABjQAAAAAAAAGFAAAAAAAAAXkAAAAAAAABkQAAAAAAAwGBAAAAAAAAAXkAAAAAAAIBbQAAAAAAAgF9AAAAAAABAYEAAAAAAAABeQAAAAAAAAGBAAAAAAACAW0AAAAAAAABgQAAAAAAAAF5AAAAAAADAXEAAAAAAAABeQAAAAAAAgFpAAAAAAACAYUAAAAAAAIBjQAAAAAAAgF1AAAAAAADAYkAAAAAAAABeQAAAAAAAQGBAAAAAAAAAZEAAAAAAAABcQAAAAAAAQGVAAAAAAABAYkAAAAAAAEBhQAAAAAAAQGBAAAAAAABAYEAAAAAAAIBeQAAAAAAAQF9AAAAAAABAYEAAAAAAAABeQAAAAAAAgGBAAAAAAAAAXkAAAAAAAEBhQA==",
                    "dtype": "f8"
                  },
                  "xaxis": "x2",
                  "yaxis": "y2"
                },
                {
                  "bingroup": "x",
                  "hovertemplate": "target=2<br>trestbps=%{x}<br>count=%{y}<extra></extra>",
                  "legendgroup": "2",
                  "marker": {
                    "color": "#EF553B",
                    "pattern": {
                      "shape": ""
                    }
                  },
                  "name": "2",
                  "nbinsx": 30,
                  "orientation": "v",
                  "showlegend": true,
                  "type": "histogram",
                  "x": {
                    "bdata": "AAAAAAAAZEAAAAAAAEBgQAAAAAAAQGBAAAAAAABAXUAAAAAAAABcQAAAAAAAQGBAAAAAAAAAXkAAAAAAACBiQAAAAAAAQGVAAAAAAACAW0AAAAAAAIBhQAAAAAAAAF5AAAAAAACAYEAAAAAAAEBgQAAAAAAA4GBAAAAAAACAYUAAAAAAAMBgQAAAAAAAAGRAAAAAAACAYUAAAAAAAEBhQAAAAAAAAFxAAAAAAACAZkAAAAAAAEBgQAAAAAAAwGBAAAAAAAAAXkAAAAAAAABZQAAAAAAAAGFAAAAAAAAAYEAAAAAAAIBfQAAAAAAAgGFAAAAAAACAW0AAAAAAAIBiQAAAAAAAQGVAAAAAAAAAXkAAAAAAAIBhQAAAAAAAAGJA",
                    "dtype": "f8"
                  },
                  "xaxis": "x2",
                  "yaxis": "y2"
                },
                {
                  "bingroup": "x",
                  "hovertemplate": "target=1<br>trestbps=%{x}<br>count=%{y}<extra></extra>",
                  "legendgroup": "1",
                  "marker": {
                    "color": "#00cc96",
                    "pattern": {
                      "shape": ""
                    }
                  },
                  "name": "1",
                  "nbinsx": 30,
                  "orientation": "v",
                  "showlegend": true,
                  "type": "histogram",
                  "x": {
                    "bdata": "AAAAAAAAXkAAAAAAAIBhQAAAAAAAgFtAAAAAAAAAXkAAAAAAAIBhQAAAAAAAwGJAAAAAAABAYEAAAAAAAEBgQAAAAAAAAF9AAAAAAACAYUAAAAAAAIBbQAAAAAAAAGBAAAAAAACAYUAAAAAAAMBiQAAAAAAAAF5AAAAAAACAW0AAAAAAAIBbQAAAAAAAQF9AAAAAAAAAYEAAAAAAAABgQAAAAAAAIGJAAAAAAABAX0AAAAAAAEBhQAAAAAAAAF5AAAAAAABAZUAAAAAAAEBfQAAAAAAAAFtAAAAAAABAYEAAAAAAAIBhQAAAAAAAQF9AAAAAAACAX0AAAAAAAMBlQAAAAAAAAGNAAAAAAACAYEAAAAAAAMBjQAAAAAAAAGhAAAAAAACAYEAAAAAAAABkQAAAAAAAwGJAAAAAAAAAXEAAAAAAAABbQAAAAAAAgF1AAAAAAAAAXkAAAAAAAIBbQAAAAAAAQGJAAAAAAAAAX0AAAAAAAABjQAAAAAAAgGFAAAAAAADAYEAAAAAAAEBjQAAAAAAAAGNAAAAAAAAAX0AAAAAAAIBhQAAAAAAAgFtAAAAAAABAYEA=",
                    "dtype": "f8"
                  },
                  "xaxis": "x2",
                  "yaxis": "y2"
                },
                {
                  "bingroup": "x",
                  "hovertemplate": "target=3<br>trestbps=%{x}<br>count=%{y}<extra></extra>",
                  "legendgroup": "3",
                  "marker": {
                    "color": "#ab63fa",
                    "pattern": {
                      "shape": ""
                    }
                  },
                  "name": "3",
                  "nbinsx": 30,
                  "orientation": "v",
                  "showlegend": true,
                  "type": "histogram",
                  "x": {
                    "bdata": "AAAAAACAYUAAAAAAAIBgQAAAAAAAgFtAAAAAAAAAXkAAAAAAAIBgQAAAAAAAQF9AAAAAAADAYkAAAAAAAIBmQAAAAAAAAGRAAAAAAADAYkAAAAAAAABeQAAAAAAAgF1AAAAAAABAYEAAAAAAAEBgQAAAAAAAgGFAAAAAAAAAaUAAAAAAAIBbQAAAAAAAAF5AAAAAAAAAXkAAAAAAAABkQAAAAAAAAF9AAAAAAACAYUAAAAAAAABZQAAAAAAAwGFAAAAAAAAAYEAAAAAAAABiQAAAAAAAQGZAAAAAAADAXkAAAAAAAIBbQAAAAAAAgF5AAAAAAABAX0AAAAAAAABhQAAAAAAAAGBAAAAAAACAZEAAAAAAAEBgQA==",
                    "dtype": "f8"
                  },
                  "xaxis": "x2",
                  "yaxis": "y2"
                },
                {
                  "bingroup": "x",
                  "hovertemplate": "target=4<br>trestbps=%{x}<br>count=%{y}<extra></extra>",
                  "legendgroup": "4",
                  "marker": {
                    "color": "#FFA15A",
                    "pattern": {
                      "shape": ""
                    }
                  },
                  "name": "4",
                  "nbinsx": 30,
                  "orientation": "v",
                  "showlegend": true,
                  "type": "histogram",
                  "x": {
                    "bdata": "AAAAAABAYEAAAAAAAMBiQAAAAAAAAFxAAAAAAADAYkAAAAAAAMBiQAAAAAAAIGJAAAAAAACgZEAAAAAAAABkQAAAAAAAQF9AAAAAAAAgYkAAAAAAAABeQAAAAAAAQGFAAAAAAACAXEA=",
                    "dtype": "f8"
                  },
                  "xaxis": "x2",
                  "yaxis": "y2"
                },
                {
                  "bingroup": "x",
                  "hovertemplate": "target=0<br>chol=%{x}<br>count=%{y}<extra></extra>",
                  "legendgroup": "0",
                  "marker": {
                    "color": "#636efa",
                    "pattern": {
                      "shape": ""
                    }
                  },
                  "name": "0",
                  "nbinsx": 30,
                  "orientation": "v",
                  "showlegend": true,
                  "type": "histogram",
                  "x": {
                    "bdata": "AAAAAAAgbUAAAAAAAEBvQAAAAAAAgGlAAAAAAACAbUAAAAAAACB2QAAAAAAAAGhAAAAAAABgckAAAAAAAHBwQAAAAAAA4GhAAAAAAAAAZUAAAAAAAOBtQAAAAAAAMHFAAAAAAACgcEAAAAAAAGBqQAAAAAAAsHFAAAAAAABga0AAAAAAAEB1QAAAAAAAQGxAAAAAAADgbkAAAAAAAOBtQAAAAAAAQG1AAAAAAAAgbUAAAAAAAEBsQAAAAAAAYG5AAAAAAADgaEAAAAAAAOByQAAAAAAAgGpAAAAAAADgZUAAAAAAABB6QAAAAAAAoGhAAAAAAADAaEAAAAAAACBmQAAAAAAAYGtAAAAAAAAQcUAAAAAAAKBqQAAAAAAAIGZAAAAAAAAAc0AAAAAAAABtQAAAAAAA0HBAAAAAAACAdkAAAAAAAEBzQAAAAAAAoG5AAAAAAAAAakAAAAAAAIBwQAAAAAAAEHRAAAAAAABQdEAAAAAAAGBtQAAAAAAAEHBAAAAAAAAAa0AAAAAAAEBtQAAAAAAAAHBAAAAAAADgckAAAAAAAOBsQAAAAAAAoGFAAAAAAACAb0AAAAAAACBpQAAAAAAAwGtAAAAAAABAcEAAAAAAAMBmQAAAAAAA8HJAAAAAAACQcEAAAAAAAFBzQAAAAAAAQGdAAAAAAABgaUAAAAAAAGBqQAAAAAAA4GZAAAAAAADAa0AAAAAAAEBtQAAAAAAAgGtAAAAAAAAgakAAAAAAACBwQAAAAAAAYGxAAAAAAACAaUAAAAAAAFBwQAAAAAAAoGpAAAAAAABAb0AAAAAAAKBuQAAAAAAAoGtAAAAAAACgaUAAAAAAAABuQAAAAAAAQG9AAAAAAABAc0AAAAAAAOBzQAAAAAAAoHJAAAAAAACQcEAAAAAAAKCBQAAAAAAAUHFAAAAAAACgaEAAAAAAAMBqQAAAAAAAAG9AAAAAAADgb0AAAAAAAOBpQAAAAAAA4GtAAAAAAAAAckAAAAAAAABkQAAAAAAAQGxAAAAAAACgeEAAAAAAACBtQAAAAAAAsHNAAAAAAADAbkAAAAAAAIBuQAAAAAAA4HBAAAAAAABgaEAAAAAAAABuQAAAAAAAgGhAAAAAAABgakAAAAAAAEBtQAAAAAAAgG1AAAAAAACAbkAAAAAAAMBvQAAAAAAAUHRAAAAAAACAX0AAAAAAAJBzQAAAAAAAYGpAAAAAAABgcEAAAAAAAOBqQAAAAAAAwGpAAAAAAAAgaEAAAAAAAIBpQAAAAAAAYG5AAAAAAADwckAAAAAAAPBwQAAAAAAAwHBAAAAAAACwcEAAAAAAAOBoQAAAAAAAQGpAAAAAAACAaUAAAAAAAFBxQAAAAAAAgGhAAAAAAADQcEAAAAAAACBpQAAAAAAA8HBAAAAAAABwckAAAAAAAGBtQAAAAAAAIHNAAAAAAADQcEAAAAAAAEBmQAAAAAAAAGpAAAAAAAAgaUAAAAAAAHBwQAAAAAAAcHJAAAAAAADwckAAAAAAACBqQAAAAAAA4GtAAAAAAACgaEAAAAAAAKBuQAAAAAAAQG5AAAAAAAAAbkAAAAAAAEBsQAAAAAAAgGZAAAAAAACAbEAAAAAAAKBiQAAAAAAAYGxAAAAAAABgcUAAAAAAAIBrQAAAAAAAoGhAAAAAAACgb0AAAAAAAABoQAAAAAAAgGtAAAAAAACga0AAAAAAAABuQAAAAAAAYHVAAAAAAACgY0AAAAAAAOBlQA==",
                    "dtype": "f8"
                  },
                  "xaxis": "x3",
                  "yaxis": "y3"
                },
                {
                  "bingroup": "x",
                  "hovertemplate": "target=2<br>chol=%{x}<br>count=%{y}<extra></extra>",
                  "legendgroup": "2",
                  "marker": {
                    "color": "#EF553B",
                    "pattern": {
                      "shape": ""
                    }
                  },
                  "name": "2",
                  "nbinsx": 30,
                  "orientation": "v",
                  "showlegend": true,
                  "type": "histogram",
                  "x": {
                    "bdata": "AAAAAADgcUAAAAAAAMBvQAAAAAAAAHBAAAAAAADAbEAAAAAAACByQAAAAAAAEHNAAAAAAACAZ0AAAAAAAKBxQAAAAAAAYHRAAAAAAADgbUAAAAAAACBmQAAAAAAAQHBAAAAAAABQdUAAAAAAAHBwQAAAAAAAwG9AAAAAAABQckAAAAAAAJB5QAAAAAAAwG5AAAAAAADAb0AAAAAAAGByQAAAAAAAgGpAAAAAAABwdEAAAAAAALBxQAAAAAAAQG1AAAAAAACgbUAAAAAAAEBtQAAAAAAAsHNAAAAAAACAaUAAAAAAAEBrQAAAAAAAcHNAAAAAAADwdEAAAAAAAGBpQAAAAAAAIGxAAAAAAAAgZUAAAAAAAGBnQAAAAAAAIGhA",
                    "dtype": "f8"
                  },
                  "xaxis": "x3",
                  "yaxis": "y3"
                },
                {
                  "bingroup": "x",
                  "hovertemplate": "target=1<br>chol=%{x}<br>count=%{y}<extra></extra>",
                  "legendgroup": "1",
                  "marker": {
                    "color": "#00cc96",
                    "pattern": {
                      "shape": ""
                    }
                  },
                  "name": "1",
                  "nbinsx": 30,
                  "orientation": "v",
                  "showlegend": true,
                  "type": "histogram",
                  "x": {
                    "bdata": "AAAAAACgbEAAAAAAAGBpQAAAAAAAoGxAAAAAAADAcUAAAAAAAPB0QAAAAAAAQHFAAAAAAACgdEAAAAAAAKBvQAAAAAAAoHBAAAAAAAAgbUAAAAAAAIBlQAAAAAAAAGtAAAAAAAAgZ0AAAAAAAOBsQAAAAAAAsHBAAAAAAAAAb0AAAAAAAKBoQAAAAAAAIHBAAAAAAADgb0AAAAAAAKBsQAAAAAAAMHNAAAAAAAAgb0AAAAAAAKBxQAAAAAAAwGhAAAAAAAAAckAAAAAAAFBzQAAAAAAAYG5AAAAAAAAgdEAAAAAAALByQAAAAAAAwHJAAAAAAACgcUAAAAAAACBvQAAAAAAAIHFAAAAAAAAAZ0AAAAAAABBzQAAAAAAAsHFAAAAAAADgbkAAAAAAABBxQAAAAAAAgG5AAAAAAADAbEAAAAAAANBwQAAAAAAAoGJAAAAAAAAgb0AAAAAAADBxQAAAAAAAQGtAAAAAAABQcEAAAAAAAOBrQAAAAAAA4GlAAAAAAACAaUAAAAAAAABtQAAAAAAAgGpAAAAAAACgaEAAAAAAACBuQAAAAAAAgHBAAAAAAACAbUA=",
                    "dtype": "f8"
                  },
                  "xaxis": "x3",
                  "yaxis": "y3"
                },
                {
                  "bingroup": "x",
                  "hovertemplate": "target=3<br>chol=%{x}<br>count=%{y}<extra></extra>",
                  "legendgroup": "3",
                  "marker": {
                    "color": "#ab63fa",
                    "pattern": {
                      "shape": ""
                    }
                  },
                  "name": "3",
                  "nbinsx": 30,
                  "orientation": "v",
                  "showlegend": true,
                  "type": "histogram",
                  "x": {
                    "bdata": "AAAAAADAcEAAAAAAAABsQAAAAAAA4GRAAAAAAAAgZkAAAAAAABB2QAAAAAAAwG9AAAAAAADgcEAAAAAAACBxQAAAAAAAgGRAAAAAAAAgcEAAAAAAAIBnQAAAAAAAYGtAAAAAAACgdEAAAAAAAABwQAAAAAAAIGtAAAAAAAAAckAAAAAAAOBtQAAAAAAAkHFAAAAAAADAbkAAAAAAANBwQAAAAAAAIHFAAAAAAACgckAAAAAAALByQAAAAAAAUHNAAAAAAAAwcEAAAAAAAABpQAAAAAAAgGxAAAAAAACgcUAAAAAAAMBpQAAAAAAA4HFAAAAAAACAakAAAAAAAPBzQAAAAAAAoGlAAAAAAAAAZkAAAAAAAGBgQA==",
                    "dtype": "f8"
                  },
                  "xaxis": "x3",
                  "yaxis": "y3"
                },
                {
                  "bingroup": "x",
                  "hovertemplate": "target=4<br>chol=%{x}<br>count=%{y}<extra></extra>",
                  "legendgroup": "4",
                  "marker": {
                    "color": "#FFA15A",
                    "pattern": {
                      "shape": ""
                    }
                  },
                  "name": "4",
                  "nbinsx": 30,
                  "orientation": "v",
                  "showlegend": true,
                  "type": "histogram",
                  "x": {
                    "bdata": "AAAAAADAaUAAAAAAACBsQAAAAAAAwGxAAAAAAABgbkAAAAAAAHB5QAAAAAAAwGVAAAAAAAAQckAAAAAAABByQAAAAAAAAHNAAAAAAACAakAAAAAAAOBsQAAAAAAAwGRAAAAAAADgc0A=",
                    "dtype": "f8"
                  },
                  "xaxis": "x3",
                  "yaxis": "y3"
                },
                {
                  "bingroup": "x",
                  "hovertemplate": "target=0<br>thalach=%{x}<br>count=%{y}<extra></extra>",
                  "legendgroup": "0",
                  "marker": {
                    "color": "#636efa",
                    "pattern": {
                      "shape": ""
                    }
                  },
                  "name": "0",
                  "nbinsx": 30,
                  "orientation": "v",
                  "showlegend": true,
                  "type": "histogram",
                  "x": {
                    "bdata": "AAAAAADAYkAAAAAAAGBnQAAAAAAAgGVAAAAAAABAZkAAAAAAAGBkQAAAAAAAgGJAAAAAAAAgY0AAAAAAAKBlQAAAAAAAQGRAAAAAAADAZUAAAAAAAABkQAAAAAAAYGFAAAAAAABgZUAAAAAAAABiQAAAAAAAQGRAAAAAAADAY0AAAAAAAIBlQAAAAAAAgFxAAAAAAABgZUAAAAAAAOBiQAAAAAAAIGRAAAAAAABgZkAAAAAAAEBmQAAAAAAAIGFAAAAAAABAZkAAAAAAAEBkQAAAAAAAoGNAAAAAAADAXkAAAAAAAKBjQAAAAAAAAGNAAAAAAAAAZUAAAAAAAIBhQAAAAAAAgGdAAAAAAAAAY0AAAAAAAEBfQAAAAAAAAGRAAAAAAABAZUAAAAAAAKBkQAAAAAAAgGJAAAAAAADgYkAAAAAAAMBhQAAAAAAAgGZAAAAAAACAYkAAAAAAAOBhQAAAAAAAwGZAAAAAAACAZUAAAAAAAIBmQAAAAAAAgGNAAAAAAADAXEAAAAAAAABkQAAAAAAAoGJAAAAAAADgYkAAAAAAAEBiQAAAAAAA4GVAAAAAAACAZUAAAAAAAMBjQAAAAAAAQGdAAAAAAAAgZ0AAAAAAAMBlQAAAAAAA4GNAAAAAAABAYEAAAAAAAIBjQAAAAAAAwGdAAAAAAACAYEAAAAAAAKBkQAAAAAAAwGZAAAAAAADgYUAAAAAAAOBlQAAAAAAAQGVAAAAAAABgZEAAAAAAAGBiQAAAAAAAQGNAAAAAAABAaUAAAAAAAEBnQAAAAAAAoGRAAAAAAAAgZEAAAAAAAMBkQAAAAAAAgGRAAAAAAAAAZ0AAAAAAAEBjQAAAAAAAYGZAAAAAAABAZUAAAAAAAABkQAAAAAAAQGZAAAAAAACAXkAAAAAAAABkQAAAAAAA4GJAAAAAAACAY0AAAAAAAMBjQAAAAAAAgF5AAAAAAADgZUAAAAAAAABlQAAAAAAAIGVAAAAAAADgY0AAAAAAAEBhQAAAAAAAwFtAAAAAAACgY0AAAAAAAGBiQAAAAAAAQGRAAAAAAACgZUAAAAAAAEBmQAAAAAAAIGJAAAAAAABgZkAAAAAAAEBoQAAAAAAAYGRAAAAAAADAXEAAAAAAAGBgQAAAAAAAAGNAAAAAAABAZEAAAAAAAOBjQAAAAAAAQGNAAAAAAACgZUAAAAAAAKBgQAAAAAAAIGRAAAAAAABgY0AAAAAAAEBlQAAAAAAAAGVAAAAAAABAZEAAAAAAAIBlQAAAAAAAAGNAAAAAAACAXkAAAAAAAMBmQAAAAAAAgGVAAAAAAADgZEAAAAAAAGBmQAAAAAAAAGhAAAAAAADgYUAAAAAAAIBlQAAAAAAAIGVAAAAAAABAXkAAAAAAAGBkQAAAAAAAQGRAAAAAAABAZEAAAAAAACBjQAAAAAAAYGRAAAAAAABgZEAAAAAAAABYQAAAAAAAgGFAAAAAAACAX0AAAAAAAEBaQAAAAAAAoGNAAAAAAACgZkAAAAAAAKBlQAAAAAAAwGFAAAAAAAAAXUAAAAAAAOBhQAAAAAAAoGJAAAAAAABgZUAAAAAAACBlQAAAAAAAwGJAAAAAAABAYUAAAAAAAEBfQAAAAAAAYGNAAAAAAAAAY0AAAAAAAABjQAAAAAAAYGBAAAAAAABgZkAAAAAAAMBlQAAAAAAAAGJAAAAAAABgZEAAAAAAACBlQAAAAAAAwGRAAAAAAADAZkAAAAAAAKBlQA==",
                    "dtype": "f8"
                  },
                  "xaxis": "x4",
                  "yaxis": "y4"
                },
                {
                  "bingroup": "x",
                  "hovertemplate": "target=2<br>thalach=%{x}<br>count=%{y}<extra></extra>",
                  "legendgroup": "2",
                  "marker": {
                    "color": "#EF553B",
                    "pattern": {
                      "shape": ""
                    }
                  },
                  "name": "2",
                  "nbinsx": 30,
                  "orientation": "v",
                  "showlegend": true,
                  "type": "histogram",
                  "x": {
                    "bdata": "AAAAAAAAW0AAAAAAAGBiQAAAAAAAwGFAAAAAAAAAZEAAAAAAACBjQAAAAAAAwGFAAAAAAABAXEAAAAAAAMBhQAAAAAAAgGFAAAAAAADAYUAAAAAAAEBkQAAAAAAAgGFAAAAAAAAAYUAAAAAAAEBYQAAAAAAAwF9AAAAAAABAZUAAAAAAAMBiQAAAAAAAAF5AAAAAAABAYkAAAAAAAIBaQAAAAAAAgGBAAAAAAABAXUAAAAAAAMBZQAAAAAAAIGJAAAAAAADAUUAAAAAAAIBjQAAAAAAAQF9AAAAAAACAY0AAAAAAAMBgQAAAAAAAAF5AAAAAAADgYUAAAAAAACBkQAAAAAAAQGJAAAAAAAAAYkAAAAAAAABiQAAAAAAAoGFA",
                    "dtype": "f8"
                  },
                  "xaxis": "x4",
                  "yaxis": "y4"
                },
                {
                  "bingroup": "x",
                  "hovertemplate": "target=1<br>thalach=%{x}<br>count=%{y}<extra></extra>",
                  "legendgroup": "1",
                  "marker": {
                    "color": "#00cc96",
                    "pattern": {
                      "shape": ""
                    }
                  },
                  "name": "1",
                  "nbinsx": 30,
                  "orientation": "v",
                  "showlegend": true,
                  "type": "histogram",
                  "x": {
                    "bdata": "AAAAAAAgYEAAAAAAAGBjQAAAAAAAAGVAAAAAAAAAZEAAAAAAAMBjQAAAAAAAAFxAAAAAAAAgZUAAAAAAAABiQAAAAAAAQFtAAAAAAABgZEAAAAAAAMBjQAAAAAAAYGBAAAAAAABgY0AAAAAAAGBiQAAAAAAAwFhAAAAAAADAY0AAAAAAACBmQAAAAAAAoGFAAAAAAAAgZEAAAAAAAMBiQAAAAAAAQGJAAAAAAAAAYkAAAAAAAMBlQAAAAAAAQGBAAAAAAADgY0AAAAAAAGBgQAAAAAAAAGNAAAAAAABAW0AAAAAAAKBlQAAAAAAAYGVAAAAAAACAY0AAAAAAAOBhQAAAAAAAAFZAAAAAAABAWkAAAAAAACBkQAAAAAAAYGhAAAAAAADgYUAAAAAAAEBfQAAAAAAAQGNAAAAAAAAAZEAAAAAAACBlQAAAAAAAgF9AAAAAAAAAYkAAAAAAAIBdQAAAAAAAQFpAAAAAAACgYUAAAAAAAKBmQAAAAAAAQGFAAAAAAABAZEAAAAAAAIBkQAAAAAAAwGJAAAAAAAAAYUAAAAAAAMBeQAAAAAAAgGBAAAAAAADAZUA=",
                    "dtype": "f8"
                  },
                  "xaxis": "x4",
                  "yaxis": "y4"
                },
                {
                  "bingroup": "x",
                  "hovertemplate": "target=3<br>thalach=%{x}<br>count=%{y}<extra></extra>",
                  "legendgroup": "3",
                  "marker": {
                    "color": "#ab63fa",
                    "pattern": {
                      "shape": ""
                    }
                  },
                  "name": "3",
                  "nbinsx": 30,
                  "orientation": "v",
                  "showlegend": true,
                  "type": "histogram",
                  "x": {
                    "bdata": "AAAAAAAAZEAAAAAAAKBlQAAAAAAAgFxAAAAAAAAAXkAAAAAAAIBgQAAAAAAAYGRAAAAAAADAW0AAAAAAAMBiQAAAAAAAIGJAAAAAAACgY0AAAAAAAGBhQAAAAAAAgGFAAAAAAACAYEAAAAAAAMBiQAAAAAAAwFtAAAAAAACgYEAAAAAAAIBfQAAAAAAAwFlAAAAAAAAAWEAAAAAAAABcQAAAAAAAwGRAAAAAAACAXkAAAAAAAEBfQAAAAAAAYGJAAAAAAABAYEAAAAAAAIBfQAAAAAAAoGRAAAAAAADAV0AAAAAAAABbQAAAAAAAAF1AAAAAAAAAZUAAAAAAAABjQAAAAAAAQGBAAAAAAACAVkAAAAAAAMBcQA==",
                    "dtype": "f8"
                  },
                  "xaxis": "x4",
                  "yaxis": "y4"
                },
                {
                  "bingroup": "x",
                  "hovertemplate": "target=4<br>thalach=%{x}<br>count=%{y}<extra></extra>",
                  "legendgroup": "4",
                  "marker": {
                    "color": "#FFA15A",
                    "pattern": {
                      "shape": ""
                    }
                  },
                  "name": "4",
                  "nbinsx": 30,
                  "orientation": "v",
                  "showlegend": true,
                  "type": "histogram",
                  "x": {
                    "bdata": "AAAAAACAYEAAAAAAAIBcQAAAAAAAoGRAAAAAAAAAYEAAAAAAAEBjQAAAAAAAQF9AAAAAAAAAX0AAAAAAACBiQAAAAAAAQGRAAAAAAACAYEAAAAAAAMBmQAAAAAAAQF9AAAAAAACAYUA=",
                    "dtype": "f8"
                  },
                  "xaxis": "x4",
                  "yaxis": "y4"
                },
                {
                  "bingroup": "x",
                  "hovertemplate": "target=0<br>oldpeak=%{x}<br>count=%{y}<extra></extra>",
                  "legendgroup": "0",
                  "marker": {
                    "color": "#636efa",
                    "pattern": {
                      "shape": ""
                    }
                  },
                  "name": "0",
                  "nbinsx": 30,
                  "orientation": "v",
                  "showlegend": true,
                  "type": "histogram",
                  "x": {
                    "bdata": "ZmZmZmZmAkAAAAAAAAAMQGZmZmZmZvY/mpmZmZmZ6T8zMzMzMzPjP5qZmZmZmdk/zczMzMzM9D8AAAAAAAAAAAAAAAAAAOA/mpmZmZmZ+T8zMzMzMzPzP5qZmZmZmck/MzMzMzMz4z/NzMzMzMz8PwAAAAAAAPA/mpmZmZmZ+T8AAAAAAAAAAM3MzMzMzARAAAAAAAAA+D/NzMzMzMz8PwAAAAAAAOA/mpmZmZmZ2T8AAAAAAAAAAAAAAAAAAPA/ZmZmZmZm9j+amZmZmZnZP5qZmZmZmfk/MzMzMzMz4z+amZmZmZnpPzMzMzMzM/M/AAAAAAAAAACamZmZmZnZPwAAAAAAAAAAAAAAAAAA4D9mZmZmZmb2P2ZmZmZmZvY/AAAAAAAAAACamZmZmZn5P5qZmZmZmek/mpmZmZmZ6T8AAAAAAAD4P5qZmZmZmck/AAAAAAAACECamZmZmZnZPwAAAAAAAAAAmpmZmZmZyT8AAAAAAAAAAAAAAAAAAAAAAAAAAAAAAAAAAAAAAAAAAAAAAAAAAOA/mpmZmZmZ2T/NzMzMzMz8PzMzMzMzM+M/AAAAAAAAAACamZmZmZnpPwAAAAAAAAAAAAAAAAAAAAAAAAAAAAAAAAAAAAAAAAAAAAAAAAAAAAAAAAAAAAAAAAAAAAAAAAAAAAAAAAAAAAAAAAAAAAAAAGZmZmZmZvY/MzMzMzMz8z8zMzMzMzPjPwAAAAAAAAAAAAAAAAAAAACamZmZmZnZPwAAAAAAAAAAAAAAAAAAAAAAAAAAAAAAAJqZmZmZmck/ZmZmZmZm9j8zMzMzMzMDQAAAAAAAAAAAAAAAAAAAAAAzMzMzMzPjPwAAAAAAAAAAAAAAAAAAAAAAAAAAAAAAADMzMzMzM/M/MzMzMzMz4z+amZmZmZn5PwAAAAAAAPA/AAAAAAAAAACamZmZmZn5PwAAAAAAAPA/AAAAAAAAAAAAAAAAAAAAAAAAAAAAAAAAAAAAAAAAAAAAAAAAAAAAAAAAAAAAAAAAMzMzMzMz8z+amZmZmZm5P2ZmZmZmZv4/AAAAAAAAAACamZmZmZnpP83MzMzMzBBAAAAAAAAAAACamZmZmZnpPwAAAAAAAAAAAAAAAAAA+D+amZmZmZm5P5qZmZmZmck/mpmZmZmZ8T8AAAAAAAAAAAAAAAAAAAAAmpmZmZmZyT+amZmZmZnJPwAAAAAAAAAAAAAAAAAAAAAAAAAAAAAAAAAAAAAAAABAZmZmZmZm/j8AAAAAAAAAAAAAAAAAAAAAAAAAAAAAAEAAAAAAAAAAAAAAAAAAAAAAAAAAAAAAAAAAAAAAAAAAAGZmZmZmZuY/mpmZmZmZuT8AAAAAAAAAAJqZmZmZmbk/mpmZmZmZyT8AAAAAAAAAAAAAAAAAAAAAAAAAAAAAAAAAAAAAAAAAAAAAAAAAAAAAAAAAAAAAAAAAAAAAAAAAAAAAAAAAAAAAAAAAAAAA+D+amZmZmZnJPzMzMzMzM+M/MzMzMzMz8z8AAAAAAAAAADMzMzMzM9M/mpmZmZmZ8T8AAAAAAAAAADMzMzMzM9M/zczMzMzM7D8AAAAAAAAAAAAAAAAAAAAAZmZmZmZmAkCamZmZmZn5PzMzMzMzM+M/AAAAAAAAAAAAAAAAAAAAADMzMzMzM+M/AAAAAAAAAAAAAAAAAAAAAJqZmZmZmdk/AAAAAAAAAAAAAAAAAAAAADMzMzMzM/M/AAAAAAAAAAAAAAAAAAAAAA==",
                    "dtype": "f8"
                  },
                  "xaxis": "x5",
                  "yaxis": "y5"
                },
                {
                  "bingroup": "x",
                  "hovertemplate": "target=2<br>oldpeak=%{x}<br>count=%{y}<extra></extra>",
                  "legendgroup": "2",
                  "marker": {
                    "color": "#EF553B",
                    "pattern": {
                      "shape": ""
                    }
                  },
                  "name": "2",
                  "nbinsx": 30,
                  "orientation": "v",
                  "showlegend": true,
                  "type": "histogram",
                  "x": {
                    "bdata": "AAAAAAAA+D9mZmZmZmb2PzMzMzMzM+M/ZmZmZmZm9j8AAAAAAAAAADMzMzMzM/M/ZmZmZmZm9j9mZmZmZmYGQDMzMzMzMwtAMzMzMzMz8z8AAAAAAAAAAM3MzMzMzAxAAAAAAAAACEAzMzMzMzPzP2ZmZmZmZgZAMzMzMzMz8z9mZmZmZmb+PwAAAAAAAAAAAAAAAAAAAEBmZmZmZmb+P5qZmZmZmbk/MzMzMzMzC0CamZmZmZn5P83MzMzMzARAAAAAAAAA8D+amZmZmZm5P83MzMzMzPw/AAAAAAAA8D+amZmZmZkBQM3MzMzMzPw/AAAAAAAACEAAAAAAAAAAAGZmZmZmZgZAZmZmZmZmBkAAAAAAAAAQQDMzMzMzMwtA",
                    "dtype": "f8"
                  },
                  "xaxis": "x5",
                  "yaxis": "y5"
                },
                {
                  "bingroup": "x",
                  "hovertemplate": "target=1<br>oldpeak=%{x}<br>count=%{y}<extra></extra>",
                  "legendgroup": "1",
                  "marker": {
                    "color": "#00cc96",
                    "pattern": {
                      "shape": ""
                    }
                  },
                  "name": "1",
                  "nbinsx": 30,
                  "orientation": "v",
                  "showlegend": true,
                  "type": "histogram",
                  "x": {
                    "bdata": "zczMzMzMBEDNzMzMzMwIQAAAAAAAAPA/zczMzMzM/D8AAAAAAAAAADMzMzMzM+M/AAAAAAAAAABmZmZmZmb2P5qZmZmZmQFAMzMzMzMz4z8AAAAAAAAAAJqZmZmZmQFAAAAAAAAACEDNzMzMzMwMQM3MzMzMzPw/MzMzMzMz4z8AAAAAAAAAAGZmZmZmZgZAAAAAAAAAAACamZmZmZnZPwAAAAAAAPA/MzMzMzMz8z9mZmZmZmb2P5qZmZmZmfk/mpmZmZmZyT/NzMzMzMz8PwAAAAAAAAAAMzMzMzMzA0CamZmZmZn5PwAAAAAAAAAAAAAAAAAAAAAAAAAAAAAAADMzMzMzM/M/zczMzMzMAEAAAAAAAAAAAAAAAAAAAAAAmpmZmZmZuT8AAAAAAAAAAGZmZmZmZvY/AAAAAAAAAADNzMzMzMz8P5qZmZmZmek/mpmZmZmZ6T8AAAAAAADwPwAAAAAAAABAMzMzMzMz0z8AAAAAAAAAAGZmZmZmZv4/mpmZmZmZ6T8AAAAAAAAAAJqZmZmZmek/AAAAAAAAAACamZmZmZnJPzMzMzMzM/M/AAAAAAAAAAA=",
                    "dtype": "f8"
                  },
                  "xaxis": "x5",
                  "yaxis": "y5"
                },
                {
                  "bingroup": "x",
                  "hovertemplate": "target=3<br>oldpeak=%{x}<br>count=%{y}<extra></extra>",
                  "legendgroup": "3",
                  "marker": {
                    "color": "#ab63fa",
                    "pattern": {
                      "shape": ""
                    }
                  },
                  "name": "3",
                  "nbinsx": 30,
                  "orientation": "v",
                  "showlegend": true,
                  "type": "histogram",
                  "x": {
                    "bdata": "zczMzMzMDECamZmZmZkJQAAAAAAAAABAAAAAAAAABEAzMzMzMzPzP5qZmZmZmck/mpmZmZmZ6T+amZmZmZn5P83MzMzMzBhAzczMzMzMBEAAAAAAAAAAQDMzMzMzM/M/zczMzMzM/D8AAAAAAAAAAGZmZmZmZhZAAAAAAAAAEEBmZmZmZmYGQGZmZmZmZvY/mpmZmZmZAUAzMzMzMzMHQAAAAAAAAOA/zczMzMzMEEDNzMzMzMzsPwAAAAAAAAAAAAAAAAAACEDNzMzMzMzsPwAAAAAAAPA/AAAAAAAAAEAAAAAAAAAAAJqZmZmZmQlAAAAAAAAA8D8AAAAAAAAAAAAAAAAAAABAAAAAAAAA8D8zMzMzMzPzPw==",
                    "dtype": "f8"
                  },
                  "xaxis": "x5",
                  "yaxis": "y5"
                },
                {
                  "bingroup": "x",
                  "hovertemplate": "target=4<br>oldpeak=%{x}<br>count=%{y}<extra></extra>",
                  "legendgroup": "4",
                  "marker": {
                    "color": "#FFA15A",
                    "pattern": {
                      "shape": ""
                    }
                  },
                  "name": "4",
                  "nbinsx": 30,
                  "orientation": "v",
                  "showlegend": true,
                  "type": "histogram",
                  "x": {
                    "bdata": "MzMzMzMzA0AAAAAAAADwPwAAAAAAAARAzczMzMzMBEAAAAAAAAAQQM3MzMzMzARAAAAAAAAA8D+amZmZmZnpPwAAAAAAAAAAAAAAAAAAAEBmZmZmZmYOQM3MzMzMzAxAmpmZmZmZEUA=",
                    "dtype": "f8"
                  },
                  "xaxis": "x5",
                  "yaxis": "y5"
                }
              ],
              "layout": {
                "annotations": [
                  {
                    "font": {
                      "size": 16
                    },
                    "showarrow": false,
                    "text": "age",
                    "x": 0.14444444444444446,
                    "xanchor": "center",
                    "xref": "paper",
                    "y": 1,
                    "yanchor": "bottom",
                    "yref": "paper"
                  },
                  {
                    "font": {
                      "size": 16
                    },
                    "showarrow": false,
                    "text": "trestbps",
                    "x": 0.5,
                    "xanchor": "center",
                    "xref": "paper",
                    "y": 1,
                    "yanchor": "bottom",
                    "yref": "paper"
                  },
                  {
                    "font": {
                      "size": 16
                    },
                    "showarrow": false,
                    "text": "chol",
                    "x": 0.8555555555555556,
                    "xanchor": "center",
                    "xref": "paper",
                    "y": 1,
                    "yanchor": "bottom",
                    "yref": "paper"
                  },
                  {
                    "font": {
                      "size": 16
                    },
                    "showarrow": false,
                    "text": "thalach",
                    "x": 0.14444444444444446,
                    "xanchor": "center",
                    "xref": "paper",
                    "y": 0.375,
                    "yanchor": "bottom",
                    "yref": "paper"
                  },
                  {
                    "font": {
                      "size": 16
                    },
                    "showarrow": false,
                    "text": "oldpeak",
                    "x": 0.5,
                    "xanchor": "center",
                    "xref": "paper",
                    "y": 0.375,
                    "yanchor": "bottom",
                    "yref": "paper"
                  }
                ],
                "bargap": 0.05,
                "height": 800,
                "template": {
                  "data": {
                    "bar": [
                      {
                        "error_x": {
                          "color": "#2a3f5f"
                        },
                        "error_y": {
                          "color": "#2a3f5f"
                        },
                        "marker": {
                          "line": {
                            "color": "#E5ECF6",
                            "width": 0.5
                          },
                          "pattern": {
                            "fillmode": "overlay",
                            "size": 10,
                            "solidity": 0.2
                          }
                        },
                        "type": "bar"
                      }
                    ],
                    "barpolar": [
                      {
                        "marker": {
                          "line": {
                            "color": "#E5ECF6",
                            "width": 0.5
                          },
                          "pattern": {
                            "fillmode": "overlay",
                            "size": 10,
                            "solidity": 0.2
                          }
                        },
                        "type": "barpolar"
                      }
                    ],
                    "carpet": [
                      {
                        "aaxis": {
                          "endlinecolor": "#2a3f5f",
                          "gridcolor": "white",
                          "linecolor": "white",
                          "minorgridcolor": "white",
                          "startlinecolor": "#2a3f5f"
                        },
                        "baxis": {
                          "endlinecolor": "#2a3f5f",
                          "gridcolor": "white",
                          "linecolor": "white",
                          "minorgridcolor": "white",
                          "startlinecolor": "#2a3f5f"
                        },
                        "type": "carpet"
                      }
                    ],
                    "choropleth": [
                      {
                        "colorbar": {
                          "outlinewidth": 0,
                          "ticks": ""
                        },
                        "type": "choropleth"
                      }
                    ],
                    "contour": [
                      {
                        "colorbar": {
                          "outlinewidth": 0,
                          "ticks": ""
                        },
                        "colorscale": [
                          [
                            0,
                            "#0d0887"
                          ],
                          [
                            0.1111111111111111,
                            "#46039f"
                          ],
                          [
                            0.2222222222222222,
                            "#7201a8"
                          ],
                          [
                            0.3333333333333333,
                            "#9c179e"
                          ],
                          [
                            0.4444444444444444,
                            "#bd3786"
                          ],
                          [
                            0.5555555555555556,
                            "#d8576b"
                          ],
                          [
                            0.6666666666666666,
                            "#ed7953"
                          ],
                          [
                            0.7777777777777778,
                            "#fb9f3a"
                          ],
                          [
                            0.8888888888888888,
                            "#fdca26"
                          ],
                          [
                            1,
                            "#f0f921"
                          ]
                        ],
                        "type": "contour"
                      }
                    ],
                    "contourcarpet": [
                      {
                        "colorbar": {
                          "outlinewidth": 0,
                          "ticks": ""
                        },
                        "type": "contourcarpet"
                      }
                    ],
                    "heatmap": [
                      {
                        "colorbar": {
                          "outlinewidth": 0,
                          "ticks": ""
                        },
                        "colorscale": [
                          [
                            0,
                            "#0d0887"
                          ],
                          [
                            0.1111111111111111,
                            "#46039f"
                          ],
                          [
                            0.2222222222222222,
                            "#7201a8"
                          ],
                          [
                            0.3333333333333333,
                            "#9c179e"
                          ],
                          [
                            0.4444444444444444,
                            "#bd3786"
                          ],
                          [
                            0.5555555555555556,
                            "#d8576b"
                          ],
                          [
                            0.6666666666666666,
                            "#ed7953"
                          ],
                          [
                            0.7777777777777778,
                            "#fb9f3a"
                          ],
                          [
                            0.8888888888888888,
                            "#fdca26"
                          ],
                          [
                            1,
                            "#f0f921"
                          ]
                        ],
                        "type": "heatmap"
                      }
                    ],
                    "histogram": [
                      {
                        "marker": {
                          "pattern": {
                            "fillmode": "overlay",
                            "size": 10,
                            "solidity": 0.2
                          }
                        },
                        "type": "histogram"
                      }
                    ],
                    "histogram2d": [
                      {
                        "colorbar": {
                          "outlinewidth": 0,
                          "ticks": ""
                        },
                        "colorscale": [
                          [
                            0,
                            "#0d0887"
                          ],
                          [
                            0.1111111111111111,
                            "#46039f"
                          ],
                          [
                            0.2222222222222222,
                            "#7201a8"
                          ],
                          [
                            0.3333333333333333,
                            "#9c179e"
                          ],
                          [
                            0.4444444444444444,
                            "#bd3786"
                          ],
                          [
                            0.5555555555555556,
                            "#d8576b"
                          ],
                          [
                            0.6666666666666666,
                            "#ed7953"
                          ],
                          [
                            0.7777777777777778,
                            "#fb9f3a"
                          ],
                          [
                            0.8888888888888888,
                            "#fdca26"
                          ],
                          [
                            1,
                            "#f0f921"
                          ]
                        ],
                        "type": "histogram2d"
                      }
                    ],
                    "histogram2dcontour": [
                      {
                        "colorbar": {
                          "outlinewidth": 0,
                          "ticks": ""
                        },
                        "colorscale": [
                          [
                            0,
                            "#0d0887"
                          ],
                          [
                            0.1111111111111111,
                            "#46039f"
                          ],
                          [
                            0.2222222222222222,
                            "#7201a8"
                          ],
                          [
                            0.3333333333333333,
                            "#9c179e"
                          ],
                          [
                            0.4444444444444444,
                            "#bd3786"
                          ],
                          [
                            0.5555555555555556,
                            "#d8576b"
                          ],
                          [
                            0.6666666666666666,
                            "#ed7953"
                          ],
                          [
                            0.7777777777777778,
                            "#fb9f3a"
                          ],
                          [
                            0.8888888888888888,
                            "#fdca26"
                          ],
                          [
                            1,
                            "#f0f921"
                          ]
                        ],
                        "type": "histogram2dcontour"
                      }
                    ],
                    "mesh3d": [
                      {
                        "colorbar": {
                          "outlinewidth": 0,
                          "ticks": ""
                        },
                        "type": "mesh3d"
                      }
                    ],
                    "parcoords": [
                      {
                        "line": {
                          "colorbar": {
                            "outlinewidth": 0,
                            "ticks": ""
                          }
                        },
                        "type": "parcoords"
                      }
                    ],
                    "pie": [
                      {
                        "automargin": true,
                        "type": "pie"
                      }
                    ],
                    "scatter": [
                      {
                        "fillpattern": {
                          "fillmode": "overlay",
                          "size": 10,
                          "solidity": 0.2
                        },
                        "type": "scatter"
                      }
                    ],
                    "scatter3d": [
                      {
                        "line": {
                          "colorbar": {
                            "outlinewidth": 0,
                            "ticks": ""
                          }
                        },
                        "marker": {
                          "colorbar": {
                            "outlinewidth": 0,
                            "ticks": ""
                          }
                        },
                        "type": "scatter3d"
                      }
                    ],
                    "scattercarpet": [
                      {
                        "marker": {
                          "colorbar": {
                            "outlinewidth": 0,
                            "ticks": ""
                          }
                        },
                        "type": "scattercarpet"
                      }
                    ],
                    "scattergeo": [
                      {
                        "marker": {
                          "colorbar": {
                            "outlinewidth": 0,
                            "ticks": ""
                          }
                        },
                        "type": "scattergeo"
                      }
                    ],
                    "scattergl": [
                      {
                        "marker": {
                          "colorbar": {
                            "outlinewidth": 0,
                            "ticks": ""
                          }
                        },
                        "type": "scattergl"
                      }
                    ],
                    "scattermap": [
                      {
                        "marker": {
                          "colorbar": {
                            "outlinewidth": 0,
                            "ticks": ""
                          }
                        },
                        "type": "scattermap"
                      }
                    ],
                    "scattermapbox": [
                      {
                        "marker": {
                          "colorbar": {
                            "outlinewidth": 0,
                            "ticks": ""
                          }
                        },
                        "type": "scattermapbox"
                      }
                    ],
                    "scatterpolar": [
                      {
                        "marker": {
                          "colorbar": {
                            "outlinewidth": 0,
                            "ticks": ""
                          }
                        },
                        "type": "scatterpolar"
                      }
                    ],
                    "scatterpolargl": [
                      {
                        "marker": {
                          "colorbar": {
                            "outlinewidth": 0,
                            "ticks": ""
                          }
                        },
                        "type": "scatterpolargl"
                      }
                    ],
                    "scatterternary": [
                      {
                        "marker": {
                          "colorbar": {
                            "outlinewidth": 0,
                            "ticks": ""
                          }
                        },
                        "type": "scatterternary"
                      }
                    ],
                    "surface": [
                      {
                        "colorbar": {
                          "outlinewidth": 0,
                          "ticks": ""
                        },
                        "colorscale": [
                          [
                            0,
                            "#0d0887"
                          ],
                          [
                            0.1111111111111111,
                            "#46039f"
                          ],
                          [
                            0.2222222222222222,
                            "#7201a8"
                          ],
                          [
                            0.3333333333333333,
                            "#9c179e"
                          ],
                          [
                            0.4444444444444444,
                            "#bd3786"
                          ],
                          [
                            0.5555555555555556,
                            "#d8576b"
                          ],
                          [
                            0.6666666666666666,
                            "#ed7953"
                          ],
                          [
                            0.7777777777777778,
                            "#fb9f3a"
                          ],
                          [
                            0.8888888888888888,
                            "#fdca26"
                          ],
                          [
                            1,
                            "#f0f921"
                          ]
                        ],
                        "type": "surface"
                      }
                    ],
                    "table": [
                      {
                        "cells": {
                          "fill": {
                            "color": "#EBF0F8"
                          },
                          "line": {
                            "color": "white"
                          }
                        },
                        "header": {
                          "fill": {
                            "color": "#C8D4E3"
                          },
                          "line": {
                            "color": "white"
                          }
                        },
                        "type": "table"
                      }
                    ]
                  },
                  "layout": {
                    "annotationdefaults": {
                      "arrowcolor": "#2a3f5f",
                      "arrowhead": 0,
                      "arrowwidth": 1
                    },
                    "autotypenumbers": "strict",
                    "coloraxis": {
                      "colorbar": {
                        "outlinewidth": 0,
                        "ticks": ""
                      }
                    },
                    "colorscale": {
                      "diverging": [
                        [
                          0,
                          "#8e0152"
                        ],
                        [
                          0.1,
                          "#c51b7d"
                        ],
                        [
                          0.2,
                          "#de77ae"
                        ],
                        [
                          0.3,
                          "#f1b6da"
                        ],
                        [
                          0.4,
                          "#fde0ef"
                        ],
                        [
                          0.5,
                          "#f7f7f7"
                        ],
                        [
                          0.6,
                          "#e6f5d0"
                        ],
                        [
                          0.7,
                          "#b8e186"
                        ],
                        [
                          0.8,
                          "#7fbc41"
                        ],
                        [
                          0.9,
                          "#4d9221"
                        ],
                        [
                          1,
                          "#276419"
                        ]
                      ],
                      "sequential": [
                        [
                          0,
                          "#0d0887"
                        ],
                        [
                          0.1111111111111111,
                          "#46039f"
                        ],
                        [
                          0.2222222222222222,
                          "#7201a8"
                        ],
                        [
                          0.3333333333333333,
                          "#9c179e"
                        ],
                        [
                          0.4444444444444444,
                          "#bd3786"
                        ],
                        [
                          0.5555555555555556,
                          "#d8576b"
                        ],
                        [
                          0.6666666666666666,
                          "#ed7953"
                        ],
                        [
                          0.7777777777777778,
                          "#fb9f3a"
                        ],
                        [
                          0.8888888888888888,
                          "#fdca26"
                        ],
                        [
                          1,
                          "#f0f921"
                        ]
                      ],
                      "sequentialminus": [
                        [
                          0,
                          "#0d0887"
                        ],
                        [
                          0.1111111111111111,
                          "#46039f"
                        ],
                        [
                          0.2222222222222222,
                          "#7201a8"
                        ],
                        [
                          0.3333333333333333,
                          "#9c179e"
                        ],
                        [
                          0.4444444444444444,
                          "#bd3786"
                        ],
                        [
                          0.5555555555555556,
                          "#d8576b"
                        ],
                        [
                          0.6666666666666666,
                          "#ed7953"
                        ],
                        [
                          0.7777777777777778,
                          "#fb9f3a"
                        ],
                        [
                          0.8888888888888888,
                          "#fdca26"
                        ],
                        [
                          1,
                          "#f0f921"
                        ]
                      ]
                    },
                    "colorway": [
                      "#636efa",
                      "#EF553B",
                      "#00cc96",
                      "#ab63fa",
                      "#FFA15A",
                      "#19d3f3",
                      "#FF6692",
                      "#B6E880",
                      "#FF97FF",
                      "#FECB52"
                    ],
                    "font": {
                      "color": "#2a3f5f"
                    },
                    "geo": {
                      "bgcolor": "white",
                      "lakecolor": "white",
                      "landcolor": "#E5ECF6",
                      "showlakes": true,
                      "showland": true,
                      "subunitcolor": "white"
                    },
                    "hoverlabel": {
                      "align": "left"
                    },
                    "hovermode": "closest",
                    "mapbox": {
                      "style": "light"
                    },
                    "paper_bgcolor": "white",
                    "plot_bgcolor": "#E5ECF6",
                    "polar": {
                      "angularaxis": {
                        "gridcolor": "white",
                        "linecolor": "white",
                        "ticks": ""
                      },
                      "bgcolor": "#E5ECF6",
                      "radialaxis": {
                        "gridcolor": "white",
                        "linecolor": "white",
                        "ticks": ""
                      }
                    },
                    "scene": {
                      "xaxis": {
                        "backgroundcolor": "#E5ECF6",
                        "gridcolor": "white",
                        "gridwidth": 2,
                        "linecolor": "white",
                        "showbackground": true,
                        "ticks": "",
                        "zerolinecolor": "white"
                      },
                      "yaxis": {
                        "backgroundcolor": "#E5ECF6",
                        "gridcolor": "white",
                        "gridwidth": 2,
                        "linecolor": "white",
                        "showbackground": true,
                        "ticks": "",
                        "zerolinecolor": "white"
                      },
                      "zaxis": {
                        "backgroundcolor": "#E5ECF6",
                        "gridcolor": "white",
                        "gridwidth": 2,
                        "linecolor": "white",
                        "showbackground": true,
                        "ticks": "",
                        "zerolinecolor": "white"
                      }
                    },
                    "shapedefaults": {
                      "line": {
                        "color": "#2a3f5f"
                      }
                    },
                    "ternary": {
                      "aaxis": {
                        "gridcolor": "white",
                        "linecolor": "white",
                        "ticks": ""
                      },
                      "baxis": {
                        "gridcolor": "white",
                        "linecolor": "white",
                        "ticks": ""
                      },
                      "bgcolor": "#E5ECF6",
                      "caxis": {
                        "gridcolor": "white",
                        "linecolor": "white",
                        "ticks": ""
                      }
                    },
                    "title": {
                      "x": 0.05
                    },
                    "xaxis": {
                      "automargin": true,
                      "gridcolor": "white",
                      "linecolor": "white",
                      "ticks": "",
                      "title": {
                        "standoff": 15
                      },
                      "zerolinecolor": "white",
                      "zerolinewidth": 2
                    },
                    "yaxis": {
                      "automargin": true,
                      "gridcolor": "white",
                      "linecolor": "white",
                      "ticks": "",
                      "title": {
                        "standoff": 15
                      },
                      "zerolinecolor": "white",
                      "zerolinewidth": 2
                    }
                  }
                },
                "title": {
                  "text": "Distribution of Numerical Features by Target (Interactive)"
                },
                "width": 1200,
                "xaxis": {
                  "anchor": "y",
                  "domain": [
                    0,
                    0.2888888888888889
                  ]
                },
                "xaxis2": {
                  "anchor": "y2",
                  "domain": [
                    0.35555555555555557,
                    0.6444444444444445
                  ]
                },
                "xaxis3": {
                  "anchor": "y3",
                  "domain": [
                    0.7111111111111111,
                    1
                  ]
                },
                "xaxis4": {
                  "anchor": "y4",
                  "domain": [
                    0,
                    0.2888888888888889
                  ]
                },
                "xaxis5": {
                  "anchor": "y5",
                  "domain": [
                    0.35555555555555557,
                    0.6444444444444445
                  ]
                },
                "xaxis6": {
                  "anchor": "y6",
                  "domain": [
                    0.7111111111111111,
                    1
                  ]
                },
                "yaxis": {
                  "anchor": "x",
                  "domain": [
                    0.625,
                    1
                  ]
                },
                "yaxis2": {
                  "anchor": "x2",
                  "domain": [
                    0.625,
                    1
                  ]
                },
                "yaxis3": {
                  "anchor": "x3",
                  "domain": [
                    0.625,
                    1
                  ]
                },
                "yaxis4": {
                  "anchor": "x4",
                  "domain": [
                    0,
                    0.375
                  ]
                },
                "yaxis5": {
                  "anchor": "x5",
                  "domain": [
                    0,
                    0.375
                  ]
                },
                "yaxis6": {
                  "anchor": "x6",
                  "domain": [
                    0,
                    0.375
                  ]
                }
              }
            }
          },
          "metadata": {},
          "output_type": "display_data"
        }
      ],
      "source": [
        "numerical_features = ['age', 'trestbps', 'chol', 'thalach', 'oldpeak']\n",
        "fig = sp.make_subplots(rows=2, cols=3, subplot_titles=numerical_features)\n",
        "\n",
        "for i, feature in enumerate(numerical_features, 1):\n",
        "    row = (i - 1) // 3 + 1\n",
        "    col = (i - 1) % 3 + 1\n",
        "\n",
        "    hist = px.histogram(\n",
        "        df, x=feature, color=\"target\",\n",
        "        barmode=\"stack\",  # stacked histograms\n",
        "        nbins=30          # adjust bin size\n",
        "    )\n",
        "\n",
        "    for trace in hist.data:\n",
        "        fig.add_trace(trace, row=row, col=col)\n",
        "\n",
        "fig.update_layout(\n",
        "    height=800, width=1200,\n",
        "    title_text=\"Distribution of Numerical Features by Target (Interactive)\",\n",
        "    bargap=0.05\n",
        ")\n",
        "\n",
        "fig.show()"
      ]
    },
    {
      "cell_type": "markdown",
      "id": "Vb61EvN8jYIj",
      "metadata": {
        "id": "Vb61EvN8jYIj"
      },
      "source": [
        "### Box plots for numerical features by target"
      ]
    },
    {
      "cell_type": "code",
      "execution_count": 8,
      "id": "yN3B94vnjYeT",
      "metadata": {
        "colab": {
          "base_uri": "https://localhost:8080/",
          "height": 817
        },
        "id": "yN3B94vnjYeT",
        "outputId": "d1aea20a-6cbd-4a86-cbaf-3753b8b6bd54"
      },
      "outputs": [
        {
          "data": {
            "application/vnd.plotly.v1+json": {
              "config": {
                "plotlyServerURL": "https://plot.ly"
              },
              "data": [
                {
                  "alignmentgroup": "True",
                  "boxpoints": "all",
                  "hovertemplate": "target=%{x}<br>age=%{y}<extra></extra>",
                  "legendgroup": "",
                  "marker": {
                    "color": "#636efa"
                  },
                  "name": "",
                  "notched": false,
                  "offsetgroup": "",
                  "orientation": "v",
                  "showlegend": false,
                  "type": "box",
                  "x": {
                    "bdata": "AAIBAAAAAwACAQAAAgAAAAEAAAAAAAEDBAAAAAADAAIBAAAAAwEDAAQAAAABBAAEAAAAAAIAAQEBAQAAAgABAAICAQACAQADAQEBAAEAAAMAAAADAAAAAAAAAAMAAAABAgMAAAAAAAADAAIBAgMBAQACAgAAAAMCAwQAAwEAAwMAAAAAAAAAAAQDAQAAAQABAAEEAAAAAAAABAMBAQECAAAEAAAAAAAAAQADAAEABAEAAQAAAwIAAAEAAAIBAgADAQIAAwAAAAEAAAAAAAMDAwABAAQAAwEAAAAAAAAAAAMBAAAAAwIAAgEAAAMCAQAAAAAAAgACAgEDAAABAAAAAAAAAAEAAwAABAICAgEAAQACAAEAAAABAAIAAwACBAIAAAABAAICAQADAQECAwEA",
                    "dtype": "i1"
                  },
                  "x0": " ",
                  "xaxis": "x",
                  "y": {
                    "bdata": "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",
                    "dtype": "f8"
                  },
                  "y0": " ",
                  "yaxis": "y"
                },
                {
                  "alignmentgroup": "True",
                  "boxpoints": "all",
                  "hovertemplate": "target=%{x}<br>trestbps=%{y}<extra></extra>",
                  "legendgroup": "",
                  "marker": {
                    "color": "#636efa"
                  },
                  "name": "",
                  "notched": false,
                  "offsetgroup": "",
                  "orientation": "v",
                  "showlegend": false,
                  "type": "box",
                  "x": {
                    "bdata": "AAIBAAAAAwACAQAAAgAAAAEAAAAAAAEDBAAAAAADAAIBAAAAAwEDAAQAAAABBAAEAAAAAAIAAQEBAQAAAgABAAICAQACAQADAQEBAAEAAAMAAAADAAAAAAAAAAMAAAABAgMAAAAAAAADAAIBAgMBAQACAgAAAAMCAwQAAwEAAwMAAAAAAAAAAAQDAQAAAQABAAEEAAAAAAAABAMBAQECAAAEAAAAAAAAAQADAAEABAEAAQAAAwIAAAEAAAIBAgADAQIAAwAAAAEAAAAAAAMDAwABAAQAAwEAAAAAAAAAAAMBAAAAAwIAAgEAAAMCAQAAAAAAAgACAgEDAAABAAAAAAAAAAEAAwAABAICAgEAAQACAAEAAAABAAIAAwACBAIAAAABAAICAQADAQECAwEA",
                    "dtype": "i1"
                  },
                  "x0": " ",
                  "xaxis": "x2",
                  "y": {
                    "bdata": "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",
                    "dtype": "f8"
                  },
                  "y0": " ",
                  "yaxis": "y2"
                },
                {
                  "alignmentgroup": "True",
                  "boxpoints": "all",
                  "hovertemplate": "target=%{x}<br>chol=%{y}<extra></extra>",
                  "legendgroup": "",
                  "marker": {
                    "color": "#636efa"
                  },
                  "name": "",
                  "notched": false,
                  "offsetgroup": "",
                  "orientation": "v",
                  "showlegend": false,
                  "type": "box",
                  "x": {
                    "bdata": "AAIBAAAAAwACAQAAAgAAAAEAAAAAAAEDBAAAAAADAAIBAAAAAwEDAAQAAAABBAAEAAAAAAIAAQEBAQAAAgABAAICAQACAQADAQEBAAEAAAMAAAADAAAAAAAAAAMAAAABAgMAAAAAAAADAAIBAgMBAQACAgAAAAMCAwQAAwEAAwMAAAAAAAAAAAQDAQAAAQABAAEEAAAAAAAABAMBAQECAAAEAAAAAAAAAQADAAEABAEAAQAAAwIAAAEAAAIBAgADAQIAAwAAAAEAAAAAAAMDAwABAAQAAwEAAAAAAAAAAAMBAAAAAwIAAgEAAAMCAQAAAAAAAgACAgEDAAABAAAAAAAAAAEAAwAABAICAgEAAQACAAEAAAABAAIAAwACBAIAAAABAAICAQADAQECAwEA",
                    "dtype": "i1"
                  },
                  "x0": " ",
                  "xaxis": "x3",
                  "y": {
                    "bdata": "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",
                    "dtype": "f8"
                  },
                  "y0": " ",
                  "yaxis": "y3"
                },
                {
                  "alignmentgroup": "True",
                  "boxpoints": "all",
                  "hovertemplate": "target=%{x}<br>thalach=%{y}<extra></extra>",
                  "legendgroup": "",
                  "marker": {
                    "color": "#636efa"
                  },
                  "name": "",
                  "notched": false,
                  "offsetgroup": "",
                  "orientation": "v",
                  "showlegend": false,
                  "type": "box",
                  "x": {
                    "bdata": "AAIBAAAAAwACAQAAAgAAAAEAAAAAAAEDBAAAAAADAAIBAAAAAwEDAAQAAAABBAAEAAAAAAIAAQEBAQAAAgABAAICAQACAQADAQEBAAEAAAMAAAADAAAAAAAAAAMAAAABAgMAAAAAAAADAAIBAgMBAQACAgAAAAMCAwQAAwEAAwMAAAAAAAAAAAQDAQAAAQABAAEEAAAAAAAABAMBAQECAAAEAAAAAAAAAQADAAEABAEAAQAAAwIAAAEAAAIBAgADAQIAAwAAAAEAAAAAAAMDAwABAAQAAwEAAAAAAAAAAAMBAAAAAwIAAgEAAAMCAQAAAAAAAgACAgEDAAABAAAAAAAAAAEAAwAABAICAgEAAQACAAEAAAABAAIAAwACBAIAAAABAAICAQADAQECAwEA",
                    "dtype": "i1"
                  },
                  "x0": " ",
                  "xaxis": "x4",
                  "y": {
                    "bdata": "AAAAAADAYkAAAAAAAABbQAAAAAAAIGBAAAAAAABgZ0AAAAAAAIBlQAAAAAAAQGZAAAAAAAAAZEAAAAAAAGBkQAAAAAAAYGJAAAAAAABgY0AAAAAAAIBiQAAAAAAAIGNAAAAAAADAYUAAAAAAAKBlQAAAAAAAQGRAAAAAAADAZUAAAAAAAABlQAAAAAAAAGRAAAAAAABgYUAAAAAAAGBlQAAAAAAAAGJAAAAAAABAZEAAAAAAAABkQAAAAAAAoGVAAAAAAACAYEAAAAAAAMBjQAAAAAAAgGVAAAAAAACAXEAAAAAAAGBlQAAAAAAAgFxAAAAAAADgYkAAAAAAAABkQAAAAAAAwGNAAAAAAAAgZEAAAAAAAGBmQAAAAAAAQGZAAAAAAAAAXkAAAAAAAABcQAAAAAAAgGBAAAAAAAAgYUAAAAAAAIBcQAAAAAAAQGZAAAAAAABAZEAAAAAAAKBjQAAAAAAAIGVAAAAAAACgZEAAAAAAAMBeQAAAAAAAAGBAAAAAAACgY0AAAAAAAABjQAAAAAAAAGVAAAAAAACAYUAAAAAAACBjQAAAAAAAgGdAAAAAAAAAYkAAAAAAAEBbQAAAAAAAYGRAAAAAAADAY0AAAAAAAABjQAAAAAAAQF9AAAAAAADAYUAAAAAAAABkQAAAAAAAYGBAAAAAAABAZUAAAAAAAEBcQAAAAAAAwGFAAAAAAABgY0AAAAAAAKBkQAAAAAAAgGFAAAAAAABgYkAAAAAAAIBiQAAAAAAAYGRAAAAAAADAWEAAAAAAAMBjQAAAAAAAIGZAAAAAAADgYkAAAAAAAKBhQAAAAAAAwGFAAAAAAACAZkAAAAAAAMBbQAAAAAAAgGJAAAAAAADgYUAAAAAAAMBmQAAAAAAAwGJAAAAAAACAZUAAAAAAAIBmQAAAAAAAgGNAAAAAAADAXEAAAAAAAABkQAAAAAAAoGJAAAAAAADgYkAAAAAAACBiQAAAAAAAQGJAAAAAAADgZUAAAAAAAIBlQAAAAAAAIGRAAAAAAADAYUAAAAAAAKBjQAAAAAAAwGNAAAAAAABAZ0AAAAAAACBnQAAAAAAAwGVAAAAAAADgY0AAAAAAAEBgQAAAAAAAYGFAAAAAAACAY0AAAAAAAEBkQAAAAAAAwGJAAAAAAACAYUAAAAAAAIBhQAAAAAAAQGJAAAAAAAAAYkAAAAAAAMBnQAAAAAAAAGFAAAAAAABAWEAAAAAAAIBgQAAAAAAAoGRAAAAAAADAZkAAAAAAAIBgQAAAAAAAwF9AAAAAAADAYkAAAAAAAEBjQAAAAAAA4GFAAAAAAADAW0AAAAAAAMBlQAAAAAAA4GVAAAAAAACgYEAAAAAAAIBfQAAAAAAAQGVAAAAAAABgZEAAAAAAAGBiQAAAAAAAQGNAAAAAAABAaUAAAAAAAEBnQAAAAAAAoGRAAAAAAAAgZEAAAAAAAEBfQAAAAAAAwFlAAAAAAABAYEAAAAAAAMBkQAAAAAAAgGRAAAAAAADgY0AAAAAAAABnQAAAAAAAYGBAAAAAAABAY0AAAAAAAABjQAAAAAAAAF9AAAAAAABgZkAAAAAAAEBlQAAAAAAAAGRAAAAAAABAZkAAAAAAAIBeQAAAAAAAAGRAAAAAAAAgYkAAAAAAAABYQAAAAAAAQFtAAAAAAACgZUAAAAAAAGBlQAAAAAAAQGVAAAAAAADgYkAAAAAAAIBjQAAAAAAAQGRAAAAAAADAY0AAAAAAAIBeQAAAAAAA4GVAAAAAAAAAZUAAAAAAACBlQAAAAAAA4GNAAAAAAACAY0AAAAAAAEBhQAAAAAAAAFxAAAAAAADAW0AAAAAAAOBhQAAAAAAAoGNAAAAAAACAYEAAAAAAAABWQAAAAAAAYGJAAAAAAABAWkAAAAAAAEBkQAAAAAAAoGVAAAAAAADAZEAAAAAAAMBiQAAAAAAAQGZAAAAAAAAgYkAAAAAAACBkQAAAAAAAYGZAAAAAAABAaEAAAAAAAABeQAAAAAAAYGhAAAAAAABAYkAAAAAAAGBkQAAAAAAAgF5AAAAAAADgYUAAAAAAAIBaQAAAAAAAwFxAAAAAAABAX0AAAAAAAGBgQAAAAAAAAGNAAAAAAABAZEAAAAAAAEBfQAAAAAAA4GNAAAAAAABAY0AAAAAAAKBlQAAAAAAAoGBAAAAAAAAgZEAAAAAAAGBiQAAAAAAAQGBAAAAAAACAX0AAAAAAAGBjQAAAAAAAQGNAAAAAAABAZUAAAAAAAMBmQAAAAAAAAGVAAAAAAACgZEAAAAAAAABkQAAAAAAAQGRAAAAAAACAZUAAAAAAAABjQAAAAAAAgF5AAAAAAADAZkAAAAAAAIBlQAAAAAAA4GRAAAAAAABgZkAAAAAAAMBXQAAAAAAAIGVAAAAAAAAAaEAAAAAAAOBhQAAAAAAAgGVAAAAAAAAAW0AAAAAAAIBgQAAAAAAAIGVAAAAAAABAXUAAAAAAAIBfQAAAAAAAQF5AAAAAAABgZEAAAAAAAABdQAAAAAAAwFlAAAAAAAAAYkAAAAAAAEBkQAAAAAAAQGRAAAAAAAAgY0AAAAAAAGBkQAAAAAAAYGRAAAAAAAAgYkAAAAAAAABYQAAAAAAAwFFAAAAAAACAY0AAAAAAAIBdQAAAAAAAAGVAAAAAAACAYUAAAAAAAIBfQAAAAAAAQFpAAAAAAABAWkAAAAAAAKBjQAAAAAAAoGZAAAAAAACgZUAAAAAAAMBhQAAAAAAAAF1AAAAAAADgYUAAAAAAAKBhQAAAAAAAoGJAAAAAAAAAY0AAAAAAAGBlQAAAAAAAIGVAAAAAAABAX0AAAAAAAEBfQAAAAAAAgGNAAAAAAADAYEAAAAAAAKBmQAAAAAAAwGJAAAAAAABAYUAAAAAAAEBhQAAAAAAAAF5AAAAAAABAX0AAAAAAAEBkQAAAAAAAYGNAAAAAAAAAY0AAAAAAAABjQAAAAAAAgGRAAAAAAABgYEAAAAAAAOBhQAAAAAAAYGZAAAAAAABAYEAAAAAAAMBlQAAAAAAAIGRAAAAAAACAYUAAAAAAAEBiQAAAAAAAAGJAAAAAAABgZEAAAAAAACBlQAAAAAAAwGJAAAAAAADAZEAAAAAAAABiQAAAAAAAAGJAAAAAAAAAYUAAAAAAAMBmQAAAAAAAgFZAAAAAAADAXkAAAAAAAIBgQAAAAAAAoGFAAAAAAADAXEAAAAAAAMBlQAAAAAAAoGVA",
                    "dtype": "f8"
                  },
                  "y0": " ",
                  "yaxis": "y4"
                },
                {
                  "alignmentgroup": "True",
                  "boxpoints": "all",
                  "hovertemplate": "target=%{x}<br>oldpeak=%{y}<extra></extra>",
                  "legendgroup": "",
                  "marker": {
                    "color": "#636efa"
                  },
                  "name": "",
                  "notched": false,
                  "offsetgroup": "",
                  "orientation": "v",
                  "showlegend": false,
                  "type": "box",
                  "x": {
                    "bdata": "AAIBAAAAAwACAQAAAgAAAAEAAAAAAAEDBAAAAAADAAIBAAAAAwEDAAQAAAABBAAEAAAAAAIAAQEBAQAAAgABAAICAQACAQADAQEBAAEAAAMAAAADAAAAAAAAAAMAAAABAgMAAAAAAAADAAIBAgMBAQACAgAAAAMCAwQAAwEAAwMAAAAAAAAAAAQDAQAAAQABAAEEAAAAAAAABAMBAQECAAAEAAAAAAAAAQADAAEABAEAAQAAAwIAAAEAAAIBAgADAQIAAwAAAAEAAAAAAAMDAwABAAQAAwEAAAAAAAAAAAMBAAAAAwIAAgEAAAMCAQAAAAAAAgACAgEDAAABAAAAAAAAAAEAAwAABAICAgEAAQACAAEAAAABAAIAAwACBAIAAAABAAICAQADAQECAwEA",
                    "dtype": "i1"
                  },
                  "x0": " ",
                  "xaxis": "x5",
                  "y": {
                    "bdata": "ZmZmZmZmAkAAAAAAAAD4P83MzMzMzARAAAAAAAAADEBmZmZmZmb2P5qZmZmZmek/zczMzMzMDEAzMzMzMzPjP2ZmZmZmZvY/zczMzMzMCECamZmZmZnZP83MzMzMzPQ/MzMzMzMz4z8AAAAAAAAAAAAAAAAAAOA/mpmZmZmZ+T8AAAAAAADwPzMzMzMzM/M/mpmZmZmZyT8zMzMzMzPjP83MzMzMzPw/AAAAAAAA8D/NzMzMzMz8P5qZmZmZmQlAMzMzMzMzA0CamZmZmZn5PwAAAAAAAAAAzczMzMzMBEAAAAAAAAD4PwAAAAAAAABAzczMzMzM/D9mZmZmZmb2PwAAAAAAAAAAAAAAAAAA4D+amZmZmZnZPwAAAAAAAAAAAAAAAAAABEAzMzMzMzPjPzMzMzMzM/M/AAAAAAAA8D8AAAAAAADwP2ZmZmZmZvY/mpmZmZmZ2T+amZmZmZn5PwAAAAAAAAAAAAAAAAAABEAzMzMzMzPjP83MzMzMzARAmpmZmZmZ6T8zMzMzMzPzPwAAAAAAAAAAmpmZmZmZ2T8AAAAAAAAAAAAAAAAAAAAAZmZmZmZm9j+amZmZmZkBQDMzMzMzM+M/AAAAAAAAAAAAAAAAAADgP2ZmZmZmZvY/MzMzMzMz8z9mZmZmZmb2P5qZmZmZmQFAAAAAAAAAAABmZmZmZmb2P2ZmZmZmZgZAAAAAAAAACECamZmZmZn5PzMzMzMzMwtAzczMzMzMDECamZmZmZnpP5qZmZmZmck/zczMzMzM/D8zMzMzMzPjPwAAAAAAAAAAmpmZmZmZ6T9mZmZmZmYGQAAAAAAAAPg/mpmZmZmZyT+amZmZmZnpPwAAAAAAAAhAmpmZmZmZ2T8AAAAAAAAAAJqZmZmZmfk/mpmZmZmZyT8AAAAAAAAAAAAAAAAAAAAAAAAAAAAAAAAAAAAAAAAAAAAAAAAAAOA/mpmZmZmZ2T/NzMzMzMwYQM3MzMzMzPw/MzMzMzMz4z8AAAAAAAAAAAAAAAAAAAAAMzMzMzMz8z/NzMzMzMwEQJqZmZmZmek/AAAAAAAAAAAAAAAAAAAAAAAAAAAAAAAAAAAAAAAAAAAAAAAAAAAAAAAAAAAAAABAAAAAAAAAAAAAAAAAAAAAAJqZmZmZmdk/zczMzMzMDEAzMzMzMzPzPwAAAAAAAPA/MzMzMzMz8z8AAAAAAAAAAAAAAAAAAAhAMzMzMzMz8z8AAAAAAAAAAAAAAAAAAAAAZmZmZmZm9j/NzMzMzMz8P2ZmZmZmZgZAAAAAAAAAAAAAAAAAAAAQQDMzMzMzM/M/ZmZmZmZmFkBmZmZmZmb2PzMzMzMzM+M/AAAAAAAAEEBmZmZmZmYGQAAAAAAAAAAAAAAAAAAAAACamZmZmZnZPwAAAAAAAAAAAAAAAAAAAAAAAAAAAAAAAJqZmZmZmck/ZmZmZmZm9j/NzMzMzMwEQGZmZmZmZvY/mpmZmZmZ+T8zMzMzMzMDQAAAAAAAAAAAmpmZmZmZyT8AAAAAAAAAAM3MzMzMzPw/MzMzMzMz4z8AAAAAAAAAAAAAAAAAAPA/AAAAAAAAAAAAAAAAAAAAAAAAAAAAAAAAMzMzMzMz8z8zMzMzMzPjP5qZmZmZmfk/mpmZmZmZ6T+amZmZmZkBQDMzMzMzMwNAmpmZmZmZ+T8AAAAAAAAAADMzMzMzM/M/AAAAAAAA8D8AAAAAAAAAAAAAAAAAAAAAmpmZmZmZ+T8AAAAAAADwPwAAAAAAAAAAAAAAAAAAAAAAAAAAAAAAAAAAAAAAAAAAAAAAAAAAAAAAAAAAAAAAADMzMzMzMwdAAAAAAAAAAAAAAAAAAAAAADMzMzMzM/M/AAAAAAAAAEAzMzMzMzPzP5qZmZmZmbk/zczMzMzMAEBmZmZmZmb+PwAAAAAAAAAAAAAAAAAA4D9mZmZmZmb+P5qZmZmZmek/zczMzMzMEEAAAAAAAAAAAAAAAAAAAAAAmpmZmZmZ6T8AAAAAAAAAAAAAAAAAAAAAAAAAAAAAAEAAAAAAAAAAAM3MzMzMzBBAmpmZmZmZuT9mZmZmZmb+PwAAAAAAAPg/zczMzMzM7D+amZmZmZm5P5qZmZmZmck/mpmZmZmZ8T8AAAAAAAAAAAAAAAAAAAAAAAAAAAAAAACamZmZmZnJP5qZmZmZmck/AAAAAAAAAAAAAAAAAAAAAAAAAAAAAAhAzczMzMzM7D8AAAAAAAAAAGZmZmZmZvY/AAAAAAAAAABmZmZmZmYOQAAAAAAAAABAAAAAAAAA8D8AAAAAAAAAAGZmZmZmZv4/AAAAAAAAAAAAAAAAAAAAAAAAAAAAAABAAAAAAAAAAAAAAAAAAAAAAAAAAAAAAAAAAAAAAAAAAAAAAAAAAAAAQM3MzMzMzPw/ZmZmZmZm5j+amZmZmZm5PwAAAAAAAAAAAAAAAAAAAACamZmZmZm5P5qZmZmZmbk/MzMzMzMzC0CamZmZmZnpP5qZmZmZmck/AAAAAAAAAACamZmZmZkJQJqZmZmZmfk/mpmZmZmZ6T8AAAAAAAAAAAAAAAAAAAAAAAAAAAAAAAAAAAAAAAAAAAAAAAAAAAAAzczMzMzMBEAAAAAAAAAAAAAAAAAAAPA/mpmZmZmZuT8AAAAAAADwPwAAAAAAAPA/AAAAAAAAAAAAAAAAAAD4PwAAAAAAAABAmpmZmZmZyT8zMzMzMzPjPzMzMzMzM/M/AAAAAAAAAAAzMzMzMzPTP5qZmZmZmfE/AAAAAAAAAAAzMzMzMzPTPzMzMzMzM9M/AAAAAAAAAADNzMzMzMzsPwAAAAAAAAAAzczMzMzMDEDNzMzMzMz8PwAAAAAAAPA/mpmZmZmZAUAAAAAAAAAAAAAAAAAAAAAAZmZmZmZm/j9mZmZmZmYCQM3MzMzMzPw/mpmZmZmZ+T+amZmZmZnpPzMzMzMzM+M/AAAAAAAAAAAAAAAAAAAAAAAAAAAAAAAAMzMzMzMz4z8AAAAAAAAIQAAAAAAAAAAAAAAAAAAAAEAAAAAAAAAAAAAAAAAAAAAAmpmZmZmZEUBmZmZmZmYGQJqZmZmZmdk/AAAAAAAAAAAAAAAAAAAAAJqZmZmZmek/MzMzMzMz8z9mZmZmZmYGQAAAAAAAABBAAAAAAAAAAAAAAAAAAAAAAAAAAAAAAPA/mpmZmZmZyT8zMzMzMzPzPzMzMzMzMwtAMzMzMzMz8z8AAAAAAAAAAAAAAAAAAAAA",
                    "dtype": "f8"
                  },
                  "y0": " ",
                  "yaxis": "y5"
                }
              ],
              "layout": {
                "annotations": [
                  {
                    "font": {
                      "size": 16
                    },
                    "showarrow": false,
                    "text": "age",
                    "x": 0.14444444444444446,
                    "xanchor": "center",
                    "xref": "paper",
                    "y": 1,
                    "yanchor": "bottom",
                    "yref": "paper"
                  },
                  {
                    "font": {
                      "size": 16
                    },
                    "showarrow": false,
                    "text": "trestbps",
                    "x": 0.5,
                    "xanchor": "center",
                    "xref": "paper",
                    "y": 1,
                    "yanchor": "bottom",
                    "yref": "paper"
                  },
                  {
                    "font": {
                      "size": 16
                    },
                    "showarrow": false,
                    "text": "chol",
                    "x": 0.8555555555555556,
                    "xanchor": "center",
                    "xref": "paper",
                    "y": 1,
                    "yanchor": "bottom",
                    "yref": "paper"
                  },
                  {
                    "font": {
                      "size": 16
                    },
                    "showarrow": false,
                    "text": "thalach",
                    "x": 0.14444444444444446,
                    "xanchor": "center",
                    "xref": "paper",
                    "y": 0.375,
                    "yanchor": "bottom",
                    "yref": "paper"
                  },
                  {
                    "font": {
                      "size": 16
                    },
                    "showarrow": false,
                    "text": "oldpeak",
                    "x": 0.5,
                    "xanchor": "center",
                    "xref": "paper",
                    "y": 0.375,
                    "yanchor": "bottom",
                    "yref": "paper"
                  }
                ],
                "height": 800,
                "showlegend": false,
                "template": {
                  "data": {
                    "bar": [
                      {
                        "error_x": {
                          "color": "#2a3f5f"
                        },
                        "error_y": {
                          "color": "#2a3f5f"
                        },
                        "marker": {
                          "line": {
                            "color": "#E5ECF6",
                            "width": 0.5
                          },
                          "pattern": {
                            "fillmode": "overlay",
                            "size": 10,
                            "solidity": 0.2
                          }
                        },
                        "type": "bar"
                      }
                    ],
                    "barpolar": [
                      {
                        "marker": {
                          "line": {
                            "color": "#E5ECF6",
                            "width": 0.5
                          },
                          "pattern": {
                            "fillmode": "overlay",
                            "size": 10,
                            "solidity": 0.2
                          }
                        },
                        "type": "barpolar"
                      }
                    ],
                    "carpet": [
                      {
                        "aaxis": {
                          "endlinecolor": "#2a3f5f",
                          "gridcolor": "white",
                          "linecolor": "white",
                          "minorgridcolor": "white",
                          "startlinecolor": "#2a3f5f"
                        },
                        "baxis": {
                          "endlinecolor": "#2a3f5f",
                          "gridcolor": "white",
                          "linecolor": "white",
                          "minorgridcolor": "white",
                          "startlinecolor": "#2a3f5f"
                        },
                        "type": "carpet"
                      }
                    ],
                    "choropleth": [
                      {
                        "colorbar": {
                          "outlinewidth": 0,
                          "ticks": ""
                        },
                        "type": "choropleth"
                      }
                    ],
                    "contour": [
                      {
                        "colorbar": {
                          "outlinewidth": 0,
                          "ticks": ""
                        },
                        "colorscale": [
                          [
                            0,
                            "#0d0887"
                          ],
                          [
                            0.1111111111111111,
                            "#46039f"
                          ],
                          [
                            0.2222222222222222,
                            "#7201a8"
                          ],
                          [
                            0.3333333333333333,
                            "#9c179e"
                          ],
                          [
                            0.4444444444444444,
                            "#bd3786"
                          ],
                          [
                            0.5555555555555556,
                            "#d8576b"
                          ],
                          [
                            0.6666666666666666,
                            "#ed7953"
                          ],
                          [
                            0.7777777777777778,
                            "#fb9f3a"
                          ],
                          [
                            0.8888888888888888,
                            "#fdca26"
                          ],
                          [
                            1,
                            "#f0f921"
                          ]
                        ],
                        "type": "contour"
                      }
                    ],
                    "contourcarpet": [
                      {
                        "colorbar": {
                          "outlinewidth": 0,
                          "ticks": ""
                        },
                        "type": "contourcarpet"
                      }
                    ],
                    "heatmap": [
                      {
                        "colorbar": {
                          "outlinewidth": 0,
                          "ticks": ""
                        },
                        "colorscale": [
                          [
                            0,
                            "#0d0887"
                          ],
                          [
                            0.1111111111111111,
                            "#46039f"
                          ],
                          [
                            0.2222222222222222,
                            "#7201a8"
                          ],
                          [
                            0.3333333333333333,
                            "#9c179e"
                          ],
                          [
                            0.4444444444444444,
                            "#bd3786"
                          ],
                          [
                            0.5555555555555556,
                            "#d8576b"
                          ],
                          [
                            0.6666666666666666,
                            "#ed7953"
                          ],
                          [
                            0.7777777777777778,
                            "#fb9f3a"
                          ],
                          [
                            0.8888888888888888,
                            "#fdca26"
                          ],
                          [
                            1,
                            "#f0f921"
                          ]
                        ],
                        "type": "heatmap"
                      }
                    ],
                    "histogram": [
                      {
                        "marker": {
                          "pattern": {
                            "fillmode": "overlay",
                            "size": 10,
                            "solidity": 0.2
                          }
                        },
                        "type": "histogram"
                      }
                    ],
                    "histogram2d": [
                      {
                        "colorbar": {
                          "outlinewidth": 0,
                          "ticks": ""
                        },
                        "colorscale": [
                          [
                            0,
                            "#0d0887"
                          ],
                          [
                            0.1111111111111111,
                            "#46039f"
                          ],
                          [
                            0.2222222222222222,
                            "#7201a8"
                          ],
                          [
                            0.3333333333333333,
                            "#9c179e"
                          ],
                          [
                            0.4444444444444444,
                            "#bd3786"
                          ],
                          [
                            0.5555555555555556,
                            "#d8576b"
                          ],
                          [
                            0.6666666666666666,
                            "#ed7953"
                          ],
                          [
                            0.7777777777777778,
                            "#fb9f3a"
                          ],
                          [
                            0.8888888888888888,
                            "#fdca26"
                          ],
                          [
                            1,
                            "#f0f921"
                          ]
                        ],
                        "type": "histogram2d"
                      }
                    ],
                    "histogram2dcontour": [
                      {
                        "colorbar": {
                          "outlinewidth": 0,
                          "ticks": ""
                        },
                        "colorscale": [
                          [
                            0,
                            "#0d0887"
                          ],
                          [
                            0.1111111111111111,
                            "#46039f"
                          ],
                          [
                            0.2222222222222222,
                            "#7201a8"
                          ],
                          [
                            0.3333333333333333,
                            "#9c179e"
                          ],
                          [
                            0.4444444444444444,
                            "#bd3786"
                          ],
                          [
                            0.5555555555555556,
                            "#d8576b"
                          ],
                          [
                            0.6666666666666666,
                            "#ed7953"
                          ],
                          [
                            0.7777777777777778,
                            "#fb9f3a"
                          ],
                          [
                            0.8888888888888888,
                            "#fdca26"
                          ],
                          [
                            1,
                            "#f0f921"
                          ]
                        ],
                        "type": "histogram2dcontour"
                      }
                    ],
                    "mesh3d": [
                      {
                        "colorbar": {
                          "outlinewidth": 0,
                          "ticks": ""
                        },
                        "type": "mesh3d"
                      }
                    ],
                    "parcoords": [
                      {
                        "line": {
                          "colorbar": {
                            "outlinewidth": 0,
                            "ticks": ""
                          }
                        },
                        "type": "parcoords"
                      }
                    ],
                    "pie": [
                      {
                        "automargin": true,
                        "type": "pie"
                      }
                    ],
                    "scatter": [
                      {
                        "fillpattern": {
                          "fillmode": "overlay",
                          "size": 10,
                          "solidity": 0.2
                        },
                        "type": "scatter"
                      }
                    ],
                    "scatter3d": [
                      {
                        "line": {
                          "colorbar": {
                            "outlinewidth": 0,
                            "ticks": ""
                          }
                        },
                        "marker": {
                          "colorbar": {
                            "outlinewidth": 0,
                            "ticks": ""
                          }
                        },
                        "type": "scatter3d"
                      }
                    ],
                    "scattercarpet": [
                      {
                        "marker": {
                          "colorbar": {
                            "outlinewidth": 0,
                            "ticks": ""
                          }
                        },
                        "type": "scattercarpet"
                      }
                    ],
                    "scattergeo": [
                      {
                        "marker": {
                          "colorbar": {
                            "outlinewidth": 0,
                            "ticks": ""
                          }
                        },
                        "type": "scattergeo"
                      }
                    ],
                    "scattergl": [
                      {
                        "marker": {
                          "colorbar": {
                            "outlinewidth": 0,
                            "ticks": ""
                          }
                        },
                        "type": "scattergl"
                      }
                    ],
                    "scattermap": [
                      {
                        "marker": {
                          "colorbar": {
                            "outlinewidth": 0,
                            "ticks": ""
                          }
                        },
                        "type": "scattermap"
                      }
                    ],
                    "scattermapbox": [
                      {
                        "marker": {
                          "colorbar": {
                            "outlinewidth": 0,
                            "ticks": ""
                          }
                        },
                        "type": "scattermapbox"
                      }
                    ],
                    "scatterpolar": [
                      {
                        "marker": {
                          "colorbar": {
                            "outlinewidth": 0,
                            "ticks": ""
                          }
                        },
                        "type": "scatterpolar"
                      }
                    ],
                    "scatterpolargl": [
                      {
                        "marker": {
                          "colorbar": {
                            "outlinewidth": 0,
                            "ticks": ""
                          }
                        },
                        "type": "scatterpolargl"
                      }
                    ],
                    "scatterternary": [
                      {
                        "marker": {
                          "colorbar": {
                            "outlinewidth": 0,
                            "ticks": ""
                          }
                        },
                        "type": "scatterternary"
                      }
                    ],
                    "surface": [
                      {
                        "colorbar": {
                          "outlinewidth": 0,
                          "ticks": ""
                        },
                        "colorscale": [
                          [
                            0,
                            "#0d0887"
                          ],
                          [
                            0.1111111111111111,
                            "#46039f"
                          ],
                          [
                            0.2222222222222222,
                            "#7201a8"
                          ],
                          [
                            0.3333333333333333,
                            "#9c179e"
                          ],
                          [
                            0.4444444444444444,
                            "#bd3786"
                          ],
                          [
                            0.5555555555555556,
                            "#d8576b"
                          ],
                          [
                            0.6666666666666666,
                            "#ed7953"
                          ],
                          [
                            0.7777777777777778,
                            "#fb9f3a"
                          ],
                          [
                            0.8888888888888888,
                            "#fdca26"
                          ],
                          [
                            1,
                            "#f0f921"
                          ]
                        ],
                        "type": "surface"
                      }
                    ],
                    "table": [
                      {
                        "cells": {
                          "fill": {
                            "color": "#EBF0F8"
                          },
                          "line": {
                            "color": "white"
                          }
                        },
                        "header": {
                          "fill": {
                            "color": "#C8D4E3"
                          },
                          "line": {
                            "color": "white"
                          }
                        },
                        "type": "table"
                      }
                    ]
                  },
                  "layout": {
                    "annotationdefaults": {
                      "arrowcolor": "#2a3f5f",
                      "arrowhead": 0,
                      "arrowwidth": 1
                    },
                    "autotypenumbers": "strict",
                    "coloraxis": {
                      "colorbar": {
                        "outlinewidth": 0,
                        "ticks": ""
                      }
                    },
                    "colorscale": {
                      "diverging": [
                        [
                          0,
                          "#8e0152"
                        ],
                        [
                          0.1,
                          "#c51b7d"
                        ],
                        [
                          0.2,
                          "#de77ae"
                        ],
                        [
                          0.3,
                          "#f1b6da"
                        ],
                        [
                          0.4,
                          "#fde0ef"
                        ],
                        [
                          0.5,
                          "#f7f7f7"
                        ],
                        [
                          0.6,
                          "#e6f5d0"
                        ],
                        [
                          0.7,
                          "#b8e186"
                        ],
                        [
                          0.8,
                          "#7fbc41"
                        ],
                        [
                          0.9,
                          "#4d9221"
                        ],
                        [
                          1,
                          "#276419"
                        ]
                      ],
                      "sequential": [
                        [
                          0,
                          "#0d0887"
                        ],
                        [
                          0.1111111111111111,
                          "#46039f"
                        ],
                        [
                          0.2222222222222222,
                          "#7201a8"
                        ],
                        [
                          0.3333333333333333,
                          "#9c179e"
                        ],
                        [
                          0.4444444444444444,
                          "#bd3786"
                        ],
                        [
                          0.5555555555555556,
                          "#d8576b"
                        ],
                        [
                          0.6666666666666666,
                          "#ed7953"
                        ],
                        [
                          0.7777777777777778,
                          "#fb9f3a"
                        ],
                        [
                          0.8888888888888888,
                          "#fdca26"
                        ],
                        [
                          1,
                          "#f0f921"
                        ]
                      ],
                      "sequentialminus": [
                        [
                          0,
                          "#0d0887"
                        ],
                        [
                          0.1111111111111111,
                          "#46039f"
                        ],
                        [
                          0.2222222222222222,
                          "#7201a8"
                        ],
                        [
                          0.3333333333333333,
                          "#9c179e"
                        ],
                        [
                          0.4444444444444444,
                          "#bd3786"
                        ],
                        [
                          0.5555555555555556,
                          "#d8576b"
                        ],
                        [
                          0.6666666666666666,
                          "#ed7953"
                        ],
                        [
                          0.7777777777777778,
                          "#fb9f3a"
                        ],
                        [
                          0.8888888888888888,
                          "#fdca26"
                        ],
                        [
                          1,
                          "#f0f921"
                        ]
                      ]
                    },
                    "colorway": [
                      "#636efa",
                      "#EF553B",
                      "#00cc96",
                      "#ab63fa",
                      "#FFA15A",
                      "#19d3f3",
                      "#FF6692",
                      "#B6E880",
                      "#FF97FF",
                      "#FECB52"
                    ],
                    "font": {
                      "color": "#2a3f5f"
                    },
                    "geo": {
                      "bgcolor": "white",
                      "lakecolor": "white",
                      "landcolor": "#E5ECF6",
                      "showlakes": true,
                      "showland": true,
                      "subunitcolor": "white"
                    },
                    "hoverlabel": {
                      "align": "left"
                    },
                    "hovermode": "closest",
                    "mapbox": {
                      "style": "light"
                    },
                    "paper_bgcolor": "white",
                    "plot_bgcolor": "#E5ECF6",
                    "polar": {
                      "angularaxis": {
                        "gridcolor": "white",
                        "linecolor": "white",
                        "ticks": ""
                      },
                      "bgcolor": "#E5ECF6",
                      "radialaxis": {
                        "gridcolor": "white",
                        "linecolor": "white",
                        "ticks": ""
                      }
                    },
                    "scene": {
                      "xaxis": {
                        "backgroundcolor": "#E5ECF6",
                        "gridcolor": "white",
                        "gridwidth": 2,
                        "linecolor": "white",
                        "showbackground": true,
                        "ticks": "",
                        "zerolinecolor": "white"
                      },
                      "yaxis": {
                        "backgroundcolor": "#E5ECF6",
                        "gridcolor": "white",
                        "gridwidth": 2,
                        "linecolor": "white",
                        "showbackground": true,
                        "ticks": "",
                        "zerolinecolor": "white"
                      },
                      "zaxis": {
                        "backgroundcolor": "#E5ECF6",
                        "gridcolor": "white",
                        "gridwidth": 2,
                        "linecolor": "white",
                        "showbackground": true,
                        "ticks": "",
                        "zerolinecolor": "white"
                      }
                    },
                    "shapedefaults": {
                      "line": {
                        "color": "#2a3f5f"
                      }
                    },
                    "ternary": {
                      "aaxis": {
                        "gridcolor": "white",
                        "linecolor": "white",
                        "ticks": ""
                      },
                      "baxis": {
                        "gridcolor": "white",
                        "linecolor": "white",
                        "ticks": ""
                      },
                      "bgcolor": "#E5ECF6",
                      "caxis": {
                        "gridcolor": "white",
                        "linecolor": "white",
                        "ticks": ""
                      }
                    },
                    "title": {
                      "x": 0.05
                    },
                    "xaxis": {
                      "automargin": true,
                      "gridcolor": "white",
                      "linecolor": "white",
                      "ticks": "",
                      "title": {
                        "standoff": 15
                      },
                      "zerolinecolor": "white",
                      "zerolinewidth": 2
                    },
                    "yaxis": {
                      "automargin": true,
                      "gridcolor": "white",
                      "linecolor": "white",
                      "ticks": "",
                      "title": {
                        "standoff": 15
                      },
                      "zerolinecolor": "white",
                      "zerolinewidth": 2
                    }
                  }
                },
                "title": {
                  "text": "Boxplots of Numerical Features by Heart Disease (Interactive)"
                },
                "width": 1200,
                "xaxis": {
                  "anchor": "y",
                  "domain": [
                    0,
                    0.2888888888888889
                  ]
                },
                "xaxis2": {
                  "anchor": "y2",
                  "domain": [
                    0.35555555555555557,
                    0.6444444444444445
                  ]
                },
                "xaxis3": {
                  "anchor": "y3",
                  "domain": [
                    0.7111111111111111,
                    1
                  ]
                },
                "xaxis4": {
                  "anchor": "y4",
                  "domain": [
                    0,
                    0.2888888888888889
                  ]
                },
                "xaxis5": {
                  "anchor": "y5",
                  "domain": [
                    0.35555555555555557,
                    0.6444444444444445
                  ]
                },
                "xaxis6": {
                  "anchor": "y6",
                  "domain": [
                    0.7111111111111111,
                    1
                  ]
                },
                "yaxis": {
                  "anchor": "x",
                  "domain": [
                    0.625,
                    1
                  ]
                },
                "yaxis2": {
                  "anchor": "x2",
                  "domain": [
                    0.625,
                    1
                  ]
                },
                "yaxis3": {
                  "anchor": "x3",
                  "domain": [
                    0.625,
                    1
                  ]
                },
                "yaxis4": {
                  "anchor": "x4",
                  "domain": [
                    0,
                    0.375
                  ]
                },
                "yaxis5": {
                  "anchor": "x5",
                  "domain": [
                    0,
                    0.375
                  ]
                },
                "yaxis6": {
                  "anchor": "x6",
                  "domain": [
                    0,
                    0.375
                  ]
                }
              }
            }
          },
          "metadata": {},
          "output_type": "display_data"
        }
      ],
      "source": [
        "# Create subplot grid (2 rows, 3 cols)\n",
        "fig = sp.make_subplots(rows=2, cols=3, subplot_titles=numerical_features)\n",
        "\n",
        "for i, feature in enumerate(numerical_features, 1):\n",
        "    row = (i - 1) // 3 + 1\n",
        "    col = (i - 1) % 3 + 1\n",
        "\n",
        "    box = px.box(df, x=\"target\", y=feature, points=\"all\")  # points=\"all\" shows outliers\n",
        "    for trace in box.data:\n",
        "        fig.add_trace(trace, row=row, col=col)\n",
        "\n",
        "fig.update_layout(\n",
        "    height=800, width=1200,\n",
        "    title_text=\"Boxplots of Numerical Features by Heart Disease (Interactive)\",\n",
        "    showlegend=False\n",
        ")\n",
        "\n",
        "fig.show()\n"
      ]
    },
    {
      "cell_type": "markdown",
      "id": "xA4PS-H-jcFM",
      "metadata": {
        "id": "xA4PS-H-jcFM"
      },
      "source": [
        "### Calculate and display summary statistics"
      ]
    },
    {
      "cell_type": "code",
      "execution_count": 9,
      "id": "0xBsxbuDjcYr",
      "metadata": {
        "colab": {
          "base_uri": "https://localhost:8080/"
        },
        "id": "0xBsxbuDjcYr",
        "outputId": "b38ac9ca-7360-467c-9623-671327da9b33"
      },
      "outputs": [
        {
          "name": "stdout",
          "output_type": "stream",
          "text": [
            "\n",
            "Summary Statistics:\n",
            "              age         sex          cp    trestbps        chol         fbs  \\\n",
            "count  303.000000  303.000000  303.000000  303.000000  303.000000  303.000000   \n",
            "mean    54.438944    0.679868    3.158416  131.689769  246.693069    0.148515   \n",
            "std      9.038662    0.467299    0.960126   17.599748   51.776918    0.356198   \n",
            "min     29.000000    0.000000    1.000000   94.000000  126.000000    0.000000   \n",
            "25%     48.000000    0.000000    3.000000  120.000000  211.000000    0.000000   \n",
            "50%     56.000000    1.000000    3.000000  130.000000  241.000000    0.000000   \n",
            "75%     61.000000    1.000000    4.000000  140.000000  275.000000    0.000000   \n",
            "max     77.000000    1.000000    4.000000  200.000000  564.000000    1.000000   \n",
            "\n",
            "          restecg     thalach       exang     oldpeak       slope          ca  \\\n",
            "count  303.000000  303.000000  303.000000  303.000000  303.000000  299.000000   \n",
            "mean     0.990099  149.607261    0.326733    1.039604    1.600660    0.672241   \n",
            "std      0.994971   22.875003    0.469794    1.161075    0.616226    0.937438   \n",
            "min      0.000000   71.000000    0.000000    0.000000    1.000000    0.000000   \n",
            "25%      0.000000  133.500000    0.000000    0.000000    1.000000    0.000000   \n",
            "50%      1.000000  153.000000    0.000000    0.800000    2.000000    0.000000   \n",
            "75%      2.000000  166.000000    1.000000    1.600000    2.000000    1.000000   \n",
            "max      2.000000  202.000000    1.000000    6.200000    3.000000    3.000000   \n",
            "\n",
            "             thal      target  \n",
            "count  301.000000  303.000000  \n",
            "mean     4.734219    0.937294  \n",
            "std      1.939706    1.228536  \n",
            "min      3.000000    0.000000  \n",
            "25%      3.000000    0.000000  \n",
            "50%      3.000000    0.000000  \n",
            "75%      7.000000    2.000000  \n",
            "max      7.000000    4.000000  \n"
          ]
        }
      ],
      "source": [
        "print(\"\\nSummary Statistics:\")\n",
        "print(df.describe())"
      ]
    },
    {
      "cell_type": "markdown",
      "id": "b060b411",
      "metadata": {
        "id": "b060b411"
      },
      "source": [
        "### EDA Insights\n",
        "- Missing Values: Some features have missing values that need to be handled\n",
        "- Target Distribution: Shows if the dataset is balanced between healthy and disease cases\n",
        "- Correlations:\n",
        "  * Strong positive correlations between certain features might indicate redundant information\n",
        "  * Features highly correlated with the target are potential good predictors\n",
        "- Numerical Features:\n",
        "  * Age distribution shows the demographic spread\n",
        "  * Blood pressure and cholesterol distributions indicate health status patterns\n",
        "  * Different distributions between healthy and disease cases suggest predictive power"
      ]
    },
    {
      "cell_type": "markdown",
      "id": "4980f476",
      "metadata": {
        "id": "4980f476"
      },
      "source": [
        "## Data Preprocessing"
      ]
    },
    {
      "cell_type": "markdown",
      "id": "NNfyuZlfkX2S",
      "metadata": {
        "id": "NNfyuZlfkX2S"
      },
      "source": [
        "### Handle missing values"
      ]
    },
    {
      "cell_type": "code",
      "execution_count": 10,
      "id": "e7337c5d",
      "metadata": {
        "colab": {
          "base_uri": "https://localhost:8080/"
        },
        "id": "e7337c5d",
        "outputId": "115547fa-877d-49d1-90c2-255a59995253"
      },
      "outputs": [
        {
          "name": "stdout",
          "output_type": "stream",
          "text": [
            "Before:  (303, 14)\n",
            "After:  (297, 14)\n"
          ]
        }
      ],
      "source": [
        "# Handle missing values\n",
        "print(\"Before: \", df.shape)\n",
        "df = df.dropna()\n",
        "print(\"After: \", df.shape)"
      ]
    },
    {
      "cell_type": "markdown",
      "id": "jBhl2X4NkdYj",
      "metadata": {
        "id": "jBhl2X4NkdYj"
      },
      "source": [
        "### Convert target variable to binary"
      ]
    },
    {
      "cell_type": "code",
      "execution_count": 11,
      "id": "r9ppSa2vkduz",
      "metadata": {
        "colab": {
          "base_uri": "https://localhost:8080/"
        },
        "id": "r9ppSa2vkduz",
        "outputId": "52e616f3-ef02-45ea-a55a-b8621a7130eb"
      },
      "outputs": [
        {
          "name": "stdout",
          "output_type": "stream",
          "text": [
            "      age  sex   cp  trestbps   chol  fbs  restecg  thalach  exang  oldpeak  \\\n",
            "0    63.0  1.0  1.0     145.0  233.0  1.0      2.0    150.0    0.0      2.3   \n",
            "1    67.0  1.0  4.0     160.0  286.0  0.0      2.0    108.0    1.0      1.5   \n",
            "2    67.0  1.0  4.0     120.0  229.0  0.0      2.0    129.0    1.0      2.6   \n",
            "3    37.0  1.0  3.0     130.0  250.0  0.0      0.0    187.0    0.0      3.5   \n",
            "4    41.0  0.0  2.0     130.0  204.0  0.0      2.0    172.0    0.0      1.4   \n",
            "..    ...  ...  ...       ...    ...  ...      ...      ...    ...      ...   \n",
            "297  57.0  0.0  4.0     140.0  241.0  0.0      0.0    123.0    1.0      0.2   \n",
            "298  45.0  1.0  1.0     110.0  264.0  0.0      0.0    132.0    0.0      1.2   \n",
            "299  68.0  1.0  4.0     144.0  193.0  1.0      0.0    141.0    0.0      3.4   \n",
            "300  57.0  1.0  4.0     130.0  131.0  0.0      0.0    115.0    1.0      1.2   \n",
            "301  57.0  0.0  2.0     130.0  236.0  0.0      2.0    174.0    0.0      0.0   \n",
            "\n",
            "     slope   ca  thal  target  \n",
            "0      3.0  0.0   6.0       0  \n",
            "1      2.0  3.0   3.0       1  \n",
            "2      2.0  2.0   7.0       1  \n",
            "3      3.0  0.0   3.0       0  \n",
            "4      1.0  0.0   3.0       0  \n",
            "..     ...  ...   ...     ...  \n",
            "297    2.0  0.0   7.0       1  \n",
            "298    2.0  0.0   7.0       1  \n",
            "299    2.0  2.0   7.0       1  \n",
            "300    2.0  1.0   7.0       1  \n",
            "301    2.0  1.0   3.0       1  \n",
            "\n",
            "[297 rows x 14 columns]\n"
          ]
        }
      ],
      "source": [
        "\n",
        "# Convert target variable to binary (0 for no disease, 1 for disease presence)\n",
        "df['target'] = df['target'].map(lambda x: 1 if x > 0 else 0)\n",
        "print(df)\n"
      ]
    },
    {
      "cell_type": "markdown",
      "id": "kBFj88VLkjRT",
      "metadata": {
        "id": "kBFj88VLkjRT"
      },
      "source": [
        "### Separate features and target"
      ]
    },
    {
      "cell_type": "code",
      "execution_count": 12,
      "id": "wGKwX7fakjjb",
      "metadata": {
        "id": "wGKwX7fakjjb"
      },
      "outputs": [],
      "source": [
        "\n",
        "# Separate features and target\n",
        "X = df.drop('target', axis=1)\n",
        "y = df['target']\n"
      ]
    },
    {
      "cell_type": "markdown",
      "id": "XyqOJSjSknnL",
      "metadata": {
        "id": "XyqOJSjSknnL"
      },
      "source": [
        "### Scale the features"
      ]
    },
    {
      "cell_type": "code",
      "execution_count": 13,
      "id": "nouc7xCfkn78",
      "metadata": {
        "id": "nouc7xCfkn78"
      },
      "outputs": [],
      "source": [
        "\n",
        "# Scale the features\n",
        "scaler = StandardScaler()\n",
        "X_scaled = scaler.fit_transform(X)\n"
      ]
    },
    {
      "cell_type": "markdown",
      "id": "YM29cCY-kr9D",
      "metadata": {
        "id": "YM29cCY-kr9D"
      },
      "source": [
        "### Split the data"
      ]
    },
    {
      "cell_type": "code",
      "execution_count": 14,
      "id": "MGmkwB5VksR7",
      "metadata": {
        "colab": {
          "base_uri": "https://localhost:8080/"
        },
        "id": "MGmkwB5VksR7",
        "outputId": "3e56788e-95d1-4c9d-f2a2-f4243b952439"
      },
      "outputs": [
        {
          "name": "stdout",
          "output_type": "stream",
          "text": [
            "Training set shape: (237, 13)\n",
            "Testing set shape: (60, 13)\n",
            "\n",
            "Class distribution in training set:\n",
            "target\n",
            "0    0.523207\n",
            "1    0.476793\n",
            "Name: proportion, dtype: float64\n"
          ]
        }
      ],
      "source": [
        "\n",
        "# Split the data\n",
        "X_train, X_test, y_train, y_test = train_test_split(X_scaled, y, test_size=0.2, random_state=42)\n",
        "\n",
        "print(\"Training set shape:\", X_train.shape)\n",
        "print(\"Testing set shape:\", X_test.shape)\n",
        "print(\"\\nClass distribution in training set:\")\n",
        "print(pd.Series(y_train).value_counts(normalize=True))"
      ]
    },
    {
      "cell_type": "markdown",
      "id": "a2ea917c",
      "metadata": {
        "id": "a2ea917c"
      },
      "source": [
        "### Preprocessing Insights\n",
        "- Missing values have been removed to ensure data quality\n",
        "- Target variable has been converted to binary format (0/1)\n",
        "- Features have been standardized using StandardScaler\n",
        "- Data split: 80% training, 20% testing\n",
        "- Class distribution in training set shows the balance between positive and negative cases"
      ]
    },
    {
      "cell_type": "markdown",
      "id": "a8f0788b",
      "metadata": {
        "id": "a8f0788b"
      },
      "source": [
        "## Model Architecture"
      ]
    },
    {
      "cell_type": "code",
      "execution_count": 15,
      "id": "3b9b11b6",
      "metadata": {
        "colab": {
          "base_uri": "https://localhost:8080/",
          "height": 340
        },
        "id": "3b9b11b6",
        "outputId": "45bcdac9-2346-495c-d7ac-7e1d0c3b3065"
      },
      "outputs": [
        {
          "data": {
            "text/html": [
              "<pre style=\"white-space:pre;overflow-x:auto;line-height:normal;font-family:Menlo,'DejaVu Sans Mono',consolas,'Courier New',monospace\"><span style=\"font-weight: bold\">Model: \"sequential\"</span>\n",
              "</pre>\n"
            ],
            "text/plain": [
              "\u001b[1mModel: \"sequential\"\u001b[0m\n"
            ]
          },
          "metadata": {},
          "output_type": "display_data"
        },
        {
          "data": {
            "text/html": [
              "<pre style=\"white-space:pre;overflow-x:auto;line-height:normal;font-family:Menlo,'DejaVu Sans Mono',consolas,'Courier New',monospace\">┏━━━━━━━━━━━━━━━━━━━━━━━━━━━━━━━━━┳━━━━━━━━━━━━━━━━━━━━━━━━┳━━━━━━━━━━━━━━━┓\n",
              "┃<span style=\"font-weight: bold\"> Layer (type)                    </span>┃<span style=\"font-weight: bold\"> Output Shape           </span>┃<span style=\"font-weight: bold\">       Param # </span>┃\n",
              "┡━━━━━━━━━━━━━━━━━━━━━━━━━━━━━━━━━╇━━━━━━━━━━━━━━━━━━━━━━━━╇━━━━━━━━━━━━━━━┩\n",
              "│ dense (<span style=\"color: #0087ff; text-decoration-color: #0087ff\">Dense</span>)                   │ (<span style=\"color: #00d7ff; text-decoration-color: #00d7ff\">None</span>, <span style=\"color: #00af00; text-decoration-color: #00af00\">64</span>)             │           <span style=\"color: #00af00; text-decoration-color: #00af00\">896</span> │\n",
              "├─────────────────────────────────┼────────────────────────┼───────────────┤\n",
              "│ dropout (<span style=\"color: #0087ff; text-decoration-color: #0087ff\">Dropout</span>)               │ (<span style=\"color: #00d7ff; text-decoration-color: #00d7ff\">None</span>, <span style=\"color: #00af00; text-decoration-color: #00af00\">64</span>)             │             <span style=\"color: #00af00; text-decoration-color: #00af00\">0</span> │\n",
              "├─────────────────────────────────┼────────────────────────┼───────────────┤\n",
              "│ dense_1 (<span style=\"color: #0087ff; text-decoration-color: #0087ff\">Dense</span>)                 │ (<span style=\"color: #00d7ff; text-decoration-color: #00d7ff\">None</span>, <span style=\"color: #00af00; text-decoration-color: #00af00\">32</span>)             │         <span style=\"color: #00af00; text-decoration-color: #00af00\">2,080</span> │\n",
              "├─────────────────────────────────┼────────────────────────┼───────────────┤\n",
              "│ dropout_1 (<span style=\"color: #0087ff; text-decoration-color: #0087ff\">Dropout</span>)             │ (<span style=\"color: #00d7ff; text-decoration-color: #00d7ff\">None</span>, <span style=\"color: #00af00; text-decoration-color: #00af00\">32</span>)             │             <span style=\"color: #00af00; text-decoration-color: #00af00\">0</span> │\n",
              "├─────────────────────────────────┼────────────────────────┼───────────────┤\n",
              "│ dense_2 (<span style=\"color: #0087ff; text-decoration-color: #0087ff\">Dense</span>)                 │ (<span style=\"color: #00d7ff; text-decoration-color: #00d7ff\">None</span>, <span style=\"color: #00af00; text-decoration-color: #00af00\">16</span>)             │           <span style=\"color: #00af00; text-decoration-color: #00af00\">528</span> │\n",
              "├─────────────────────────────────┼────────────────────────┼───────────────┤\n",
              "│ dense_3 (<span style=\"color: #0087ff; text-decoration-color: #0087ff\">Dense</span>)                 │ (<span style=\"color: #00d7ff; text-decoration-color: #00d7ff\">None</span>, <span style=\"color: #00af00; text-decoration-color: #00af00\">1</span>)              │            <span style=\"color: #00af00; text-decoration-color: #00af00\">17</span> │\n",
              "└─────────────────────────────────┴────────────────────────┴───────────────┘\n",
              "</pre>\n"
            ],
            "text/plain": [
              "┏━━━━━━━━━━━━━━━━━━━━━━━━━━━━━━━━━┳━━━━━━━━━━━━━━━━━━━━━━━━┳━━━━━━━━━━━━━━━┓\n",
              "┃\u001b[1m \u001b[0m\u001b[1mLayer (type)                   \u001b[0m\u001b[1m \u001b[0m┃\u001b[1m \u001b[0m\u001b[1mOutput Shape          \u001b[0m\u001b[1m \u001b[0m┃\u001b[1m \u001b[0m\u001b[1m      Param #\u001b[0m\u001b[1m \u001b[0m┃\n",
              "┡━━━━━━━━━━━━━━━━━━━━━━━━━━━━━━━━━╇━━━━━━━━━━━━━━━━━━━━━━━━╇━━━━━━━━━━━━━━━┩\n",
              "│ dense (\u001b[38;5;33mDense\u001b[0m)                   │ (\u001b[38;5;45mNone\u001b[0m, \u001b[38;5;34m64\u001b[0m)             │           \u001b[38;5;34m896\u001b[0m │\n",
              "├─────────────────────────────────┼────────────────────────┼───────────────┤\n",
              "│ dropout (\u001b[38;5;33mDropout\u001b[0m)               │ (\u001b[38;5;45mNone\u001b[0m, \u001b[38;5;34m64\u001b[0m)             │             \u001b[38;5;34m0\u001b[0m │\n",
              "├─────────────────────────────────┼────────────────────────┼───────────────┤\n",
              "│ dense_1 (\u001b[38;5;33mDense\u001b[0m)                 │ (\u001b[38;5;45mNone\u001b[0m, \u001b[38;5;34m32\u001b[0m)             │         \u001b[38;5;34m2,080\u001b[0m │\n",
              "├─────────────────────────────────┼────────────────────────┼───────────────┤\n",
              "│ dropout_1 (\u001b[38;5;33mDropout\u001b[0m)             │ (\u001b[38;5;45mNone\u001b[0m, \u001b[38;5;34m32\u001b[0m)             │             \u001b[38;5;34m0\u001b[0m │\n",
              "├─────────────────────────────────┼────────────────────────┼───────────────┤\n",
              "│ dense_2 (\u001b[38;5;33mDense\u001b[0m)                 │ (\u001b[38;5;45mNone\u001b[0m, \u001b[38;5;34m16\u001b[0m)             │           \u001b[38;5;34m528\u001b[0m │\n",
              "├─────────────────────────────────┼────────────────────────┼───────────────┤\n",
              "│ dense_3 (\u001b[38;5;33mDense\u001b[0m)                 │ (\u001b[38;5;45mNone\u001b[0m, \u001b[38;5;34m1\u001b[0m)              │            \u001b[38;5;34m17\u001b[0m │\n",
              "└─────────────────────────────────┴────────────────────────┴───────────────┘\n"
            ]
          },
          "metadata": {},
          "output_type": "display_data"
        },
        {
          "data": {
            "text/html": [
              "<pre style=\"white-space:pre;overflow-x:auto;line-height:normal;font-family:Menlo,'DejaVu Sans Mono',consolas,'Courier New',monospace\"><span style=\"font-weight: bold\"> Total params: </span><span style=\"color: #00af00; text-decoration-color: #00af00\">3,521</span> (13.75 KB)\n",
              "</pre>\n"
            ],
            "text/plain": [
              "\u001b[1m Total params: \u001b[0m\u001b[38;5;34m3,521\u001b[0m (13.75 KB)\n"
            ]
          },
          "metadata": {},
          "output_type": "display_data"
        },
        {
          "data": {
            "text/html": [
              "<pre style=\"white-space:pre;overflow-x:auto;line-height:normal;font-family:Menlo,'DejaVu Sans Mono',consolas,'Courier New',monospace\"><span style=\"font-weight: bold\"> Trainable params: </span><span style=\"color: #00af00; text-decoration-color: #00af00\">3,521</span> (13.75 KB)\n",
              "</pre>\n"
            ],
            "text/plain": [
              "\u001b[1m Trainable params: \u001b[0m\u001b[38;5;34m3,521\u001b[0m (13.75 KB)\n"
            ]
          },
          "metadata": {},
          "output_type": "display_data"
        },
        {
          "data": {
            "text/html": [
              "<pre style=\"white-space:pre;overflow-x:auto;line-height:normal;font-family:Menlo,'DejaVu Sans Mono',consolas,'Courier New',monospace\"><span style=\"font-weight: bold\"> Non-trainable params: </span><span style=\"color: #00af00; text-decoration-color: #00af00\">0</span> (0.00 B)\n",
              "</pre>\n"
            ],
            "text/plain": [
              "\u001b[1m Non-trainable params: \u001b[0m\u001b[38;5;34m0\u001b[0m (0.00 B)\n"
            ]
          },
          "metadata": {},
          "output_type": "display_data"
        }
      ],
      "source": [
        "# Create the model using Input layer\n",
        "from tensorflow.keras.layers import Input\n",
        "from tensorflow.keras.models import Sequential\n",
        "from tensorflow.keras.layers import Dense, Dropout\n",
        "\n",
        "# Define the input layer\n",
        "inputs = Input(shape=(13,))\n",
        "\n",
        "# Create the model\n",
        "model = Sequential([\n",
        "    Input(shape=(13,)),  # Explicit input layer\n",
        "    Dense(64, activation='relu', kernel_regularizer=l2(0.01)),\n",
        "    Dropout(0.3),\n",
        "    Dense(32, activation='relu', kernel_regularizer=l2(0.01)),\n",
        "    Dropout(0.2),\n",
        "    Dense(16, activation='relu', kernel_regularizer=l2(0.01)),\n",
        "    Dense(1, activation='sigmoid')\n",
        "])\n",
        "\n",
        "# Compile the model\n",
        "model.compile(optimizer='adam',\n",
        "              loss='binary_crossentropy',\n",
        "              metrics=['accuracy'])\n",
        "\n",
        "# Display model summary\n",
        "model.summary()"
      ]
    },
    {
      "cell_type": "markdown",
      "id": "58fe0c9e",
      "metadata": {
        "id": "58fe0c9e"
      },
      "source": [
        "## Model Training"
      ]
    },
    {
      "cell_type": "code",
      "execution_count": 16,
      "id": "690e3d93",
      "metadata": {
        "colab": {
          "base_uri": "https://localhost:8080/"
        },
        "id": "690e3d93",
        "outputId": "7bf6c22d-1d51-4fc7-b321-8cad7ab56871"
      },
      "outputs": [
        {
          "name": "stdout",
          "output_type": "stream",
          "text": [
            "Epoch 1/100\n",
            "\u001b[1m1/6\u001b[0m \u001b[32m━━━\u001b[0m\u001b[37m━━━━━━━━━━━━━━━━━\u001b[0m \u001b[1m10s\u001b[0m 2s/step - accuracy: 0.5312 - loss: 1.5689"
          ]
        },
        {
          "name": "stderr",
          "output_type": "stream",
          "text": [
            "WARNING:absl:You are saving your model as an HDF5 file via `model.save()` or `keras.saving.save_model(model)`. This file format is considered legacy. We recommend using instead the native Keras format, e.g. `model.save('my_model.keras')` or `keras.saving.save_model(model, 'my_model.keras')`. \n"
          ]
        },
        {
          "name": "stdout",
          "output_type": "stream",
          "text": [
            "\u001b[1m6/6\u001b[0m \u001b[32m━━━━━━━━━━━━━━━━━━━━\u001b[0m\u001b[37m\u001b[0m \u001b[1m3s\u001b[0m 86ms/step - accuracy: 0.4868 - loss: 1.5862 - val_accuracy: 0.4375 - val_loss: 1.5520\n",
            "Epoch 2/100\n",
            "\u001b[1m1/6\u001b[0m \u001b[32m━━━\u001b[0m\u001b[37m━━━━━━━━━━━━━━━━━\u001b[0m \u001b[1m0s\u001b[0m 39ms/step - accuracy: 0.6875 - loss: 1.5189"
          ]
        },
        {
          "name": "stderr",
          "output_type": "stream",
          "text": [
            "WARNING:absl:You are saving your model as an HDF5 file via `model.save()` or `keras.saving.save_model(model)`. This file format is considered legacy. We recommend using instead the native Keras format, e.g. `model.save('my_model.keras')` or `keras.saving.save_model(model, 'my_model.keras')`. \n"
          ]
        },
        {
          "name": "stdout",
          "output_type": "stream",
          "text": [
            "\u001b[1m6/6\u001b[0m \u001b[32m━━━━━━━━━━━━━━━━━━━━\u001b[0m\u001b[37m\u001b[0m \u001b[1m0s\u001b[0m 27ms/step - accuracy: 0.5661 - loss: 1.5133 - val_accuracy: 0.5208 - val_loss: 1.4861\n",
            "Epoch 3/100\n",
            "\u001b[1m1/6\u001b[0m \u001b[32m━━━\u001b[0m\u001b[37m━━━━━━━━━━━━━━━━━\u001b[0m \u001b[1m0s\u001b[0m 37ms/step - accuracy: 0.7188 - loss: 1.4264"
          ]
        },
        {
          "name": "stderr",
          "output_type": "stream",
          "text": [
            "WARNING:absl:You are saving your model as an HDF5 file via `model.save()` or `keras.saving.save_model(model)`. This file format is considered legacy. We recommend using instead the native Keras format, e.g. `model.save('my_model.keras')` or `keras.saving.save_model(model, 'my_model.keras')`. \n"
          ]
        },
        {
          "name": "stdout",
          "output_type": "stream",
          "text": [
            "\u001b[1m6/6\u001b[0m \u001b[32m━━━━━━━━━━━━━━━━━━━━\u001b[0m\u001b[37m\u001b[0m \u001b[1m0s\u001b[0m 26ms/step - accuracy: 0.6243 - loss: 1.4500 - val_accuracy: 0.6458 - val_loss: 1.4301\n",
            "Epoch 4/100\n",
            "\u001b[1m1/6\u001b[0m \u001b[32m━━━\u001b[0m\u001b[37m━━━━━━━━━━━━━━━━━\u001b[0m \u001b[1m0s\u001b[0m 38ms/step - accuracy: 0.7188 - loss: 1.3980"
          ]
        },
        {
          "name": "stderr",
          "output_type": "stream",
          "text": [
            "WARNING:absl:You are saving your model as an HDF5 file via `model.save()` or `keras.saving.save_model(model)`. This file format is considered legacy. We recommend using instead the native Keras format, e.g. `model.save('my_model.keras')` or `keras.saving.save_model(model, 'my_model.keras')`. \n"
          ]
        },
        {
          "name": "stdout",
          "output_type": "stream",
          "text": [
            "\u001b[1m6/6\u001b[0m \u001b[32m━━━━━━━━━━━━━━━━━━━━\u001b[0m\u001b[37m\u001b[0m \u001b[1m0s\u001b[0m 26ms/step - accuracy: 0.7090 - loss: 1.4022 - val_accuracy: 0.6250 - val_loss: 1.3807\n",
            "Epoch 5/100\n",
            "\u001b[1m1/6\u001b[0m \u001b[32m━━━\u001b[0m\u001b[37m━━━━━━━━━━━━━━━━━\u001b[0m \u001b[1m0s\u001b[0m 39ms/step - accuracy: 0.7812 - loss: 1.3630"
          ]
        },
        {
          "name": "stderr",
          "output_type": "stream",
          "text": [
            "WARNING:absl:You are saving your model as an HDF5 file via `model.save()` or `keras.saving.save_model(model)`. This file format is considered legacy. We recommend using instead the native Keras format, e.g. `model.save('my_model.keras')` or `keras.saving.save_model(model, 'my_model.keras')`. \n"
          ]
        },
        {
          "name": "stdout",
          "output_type": "stream",
          "text": [
            "\u001b[1m6/6\u001b[0m \u001b[32m━━━━━━━━━━━━━━━━━━━━\u001b[0m\u001b[37m\u001b[0m \u001b[1m0s\u001b[0m 26ms/step - accuracy: 0.7354 - loss: 1.3420 - val_accuracy: 0.7292 - val_loss: 1.3346\n",
            "Epoch 6/100\n",
            "\u001b[1m1/6\u001b[0m \u001b[32m━━━\u001b[0m\u001b[37m━━━━━━━━━━━━━━━━━\u001b[0m \u001b[1m0s\u001b[0m 38ms/step - accuracy: 0.5312 - loss: 1.3890"
          ]
        },
        {
          "name": "stderr",
          "output_type": "stream",
          "text": [
            "WARNING:absl:You are saving your model as an HDF5 file via `model.save()` or `keras.saving.save_model(model)`. This file format is considered legacy. We recommend using instead the native Keras format, e.g. `model.save('my_model.keras')` or `keras.saving.save_model(model, 'my_model.keras')`. \n"
          ]
        },
        {
          "name": "stdout",
          "output_type": "stream",
          "text": [
            "\u001b[1m6/6\u001b[0m \u001b[32m━━━━━━━━━━━━━━━━━━━━\u001b[0m\u001b[37m\u001b[0m \u001b[1m0s\u001b[0m 26ms/step - accuracy: 0.7407 - loss: 1.3143 - val_accuracy: 0.7292 - val_loss: 1.2922\n",
            "Epoch 7/100\n",
            "\u001b[1m1/6\u001b[0m \u001b[32m━━━\u001b[0m\u001b[37m━━━━━━━━━━━━━━━━━\u001b[0m \u001b[1m0s\u001b[0m 39ms/step - accuracy: 0.7812 - loss: 1.2837"
          ]
        },
        {
          "name": "stderr",
          "output_type": "stream",
          "text": [
            "WARNING:absl:You are saving your model as an HDF5 file via `model.save()` or `keras.saving.save_model(model)`. This file format is considered legacy. We recommend using instead the native Keras format, e.g. `model.save('my_model.keras')` or `keras.saving.save_model(model, 'my_model.keras')`. \n"
          ]
        },
        {
          "name": "stdout",
          "output_type": "stream",
          "text": [
            "\u001b[1m6/6\u001b[0m \u001b[32m━━━━━━━━━━━━━━━━━━━━\u001b[0m\u001b[37m\u001b[0m \u001b[1m0s\u001b[0m 26ms/step - accuracy: 0.8148 - loss: 1.2616 - val_accuracy: 0.7292 - val_loss: 1.2522\n",
            "Epoch 8/100\n",
            "\u001b[1m1/6\u001b[0m \u001b[32m━━━\u001b[0m\u001b[37m━━━━━━━━━━━━━━━━━\u001b[0m \u001b[1m0s\u001b[0m 40ms/step - accuracy: 0.8125 - loss: 1.2204"
          ]
        },
        {
          "name": "stderr",
          "output_type": "stream",
          "text": [
            "WARNING:absl:You are saving your model as an HDF5 file via `model.save()` or `keras.saving.save_model(model)`. This file format is considered legacy. We recommend using instead the native Keras format, e.g. `model.save('my_model.keras')` or `keras.saving.save_model(model, 'my_model.keras')`. \n"
          ]
        },
        {
          "name": "stdout",
          "output_type": "stream",
          "text": [
            "\u001b[1m6/6\u001b[0m \u001b[32m━━━━━━━━━━━━━━━━━━━━\u001b[0m\u001b[37m\u001b[0m \u001b[1m0s\u001b[0m 27ms/step - accuracy: 0.7937 - loss: 1.2136 - val_accuracy: 0.7500 - val_loss: 1.2135\n",
            "Epoch 9/100\n",
            "\u001b[1m1/6\u001b[0m \u001b[32m━━━\u001b[0m\u001b[37m━━━━━━━━━━━━━━━━━\u001b[0m \u001b[1m0s\u001b[0m 38ms/step - accuracy: 0.8438 - loss: 1.1373"
          ]
        },
        {
          "name": "stderr",
          "output_type": "stream",
          "text": [
            "WARNING:absl:You are saving your model as an HDF5 file via `model.save()` or `keras.saving.save_model(model)`. This file format is considered legacy. We recommend using instead the native Keras format, e.g. `model.save('my_model.keras')` or `keras.saving.save_model(model, 'my_model.keras')`. \n"
          ]
        },
        {
          "name": "stdout",
          "output_type": "stream",
          "text": [
            "\u001b[1m6/6\u001b[0m \u001b[32m━━━━━━━━━━━━━━━━━━━━\u001b[0m\u001b[37m\u001b[0m \u001b[1m0s\u001b[0m 26ms/step - accuracy: 0.7831 - loss: 1.1613 - val_accuracy: 0.7292 - val_loss: 1.1797\n",
            "Epoch 10/100\n",
            "\u001b[1m1/6\u001b[0m \u001b[32m━━━\u001b[0m\u001b[37m━━━━━━━━━━━━━━━━━\u001b[0m \u001b[1m0s\u001b[0m 38ms/step - accuracy: 0.7188 - loss: 1.2098"
          ]
        },
        {
          "name": "stderr",
          "output_type": "stream",
          "text": [
            "WARNING:absl:You are saving your model as an HDF5 file via `model.save()` or `keras.saving.save_model(model)`. This file format is considered legacy. We recommend using instead the native Keras format, e.g. `model.save('my_model.keras')` or `keras.saving.save_model(model, 'my_model.keras')`. \n"
          ]
        },
        {
          "name": "stdout",
          "output_type": "stream",
          "text": [
            "\u001b[1m6/6\u001b[0m \u001b[32m━━━━━━━━━━━━━━━━━━━━\u001b[0m\u001b[37m\u001b[0m \u001b[1m0s\u001b[0m 27ms/step - accuracy: 0.8095 - loss: 1.1290 - val_accuracy: 0.7292 - val_loss: 1.1512\n",
            "Epoch 11/100\n",
            "\u001b[1m1/6\u001b[0m \u001b[32m━━━\u001b[0m\u001b[37m━━━━━━━━━━━━━━━━━\u001b[0m \u001b[1m0s\u001b[0m 39ms/step - accuracy: 0.8438 - loss: 1.1191"
          ]
        },
        {
          "name": "stderr",
          "output_type": "stream",
          "text": [
            "WARNING:absl:You are saving your model as an HDF5 file via `model.save()` or `keras.saving.save_model(model)`. This file format is considered legacy. We recommend using instead the native Keras format, e.g. `model.save('my_model.keras')` or `keras.saving.save_model(model, 'my_model.keras')`. \n"
          ]
        },
        {
          "name": "stdout",
          "output_type": "stream",
          "text": [
            "\u001b[1m6/6\u001b[0m \u001b[32m━━━━━━━━━━━━━━━━━━━━\u001b[0m\u001b[37m\u001b[0m \u001b[1m0s\u001b[0m 26ms/step - accuracy: 0.8254 - loss: 1.0888 - val_accuracy: 0.7292 - val_loss: 1.1254\n",
            "Epoch 12/100\n",
            "\u001b[1m1/6\u001b[0m \u001b[32m━━━\u001b[0m\u001b[37m━━━━━━━━━━━━━━━━━\u001b[0m \u001b[1m0s\u001b[0m 39ms/step - accuracy: 0.7500 - loss: 1.1477"
          ]
        },
        {
          "name": "stderr",
          "output_type": "stream",
          "text": [
            "WARNING:absl:You are saving your model as an HDF5 file via `model.save()` or `keras.saving.save_model(model)`. This file format is considered legacy. We recommend using instead the native Keras format, e.g. `model.save('my_model.keras')` or `keras.saving.save_model(model, 'my_model.keras')`. \n"
          ]
        },
        {
          "name": "stdout",
          "output_type": "stream",
          "text": [
            "\u001b[1m6/6\u001b[0m \u001b[32m━━━━━━━━━━━━━━━━━━━━\u001b[0m\u001b[37m\u001b[0m \u001b[1m0s\u001b[0m 26ms/step - accuracy: 0.8360 - loss: 1.0518 - val_accuracy: 0.7292 - val_loss: 1.1041\n",
            "Epoch 13/100\n",
            "\u001b[1m1/6\u001b[0m \u001b[32m━━━\u001b[0m\u001b[37m━━━━━━━━━━━━━━━━━\u001b[0m \u001b[1m0s\u001b[0m 39ms/step - accuracy: 0.8438 - loss: 1.0420"
          ]
        },
        {
          "name": "stderr",
          "output_type": "stream",
          "text": [
            "WARNING:absl:You are saving your model as an HDF5 file via `model.save()` or `keras.saving.save_model(model)`. This file format is considered legacy. We recommend using instead the native Keras format, e.g. `model.save('my_model.keras')` or `keras.saving.save_model(model, 'my_model.keras')`. \n"
          ]
        },
        {
          "name": "stdout",
          "output_type": "stream",
          "text": [
            "\u001b[1m6/6\u001b[0m \u001b[32m━━━━━━━━━━━━━━━━━━━━\u001b[0m\u001b[37m\u001b[0m \u001b[1m0s\u001b[0m 26ms/step - accuracy: 0.8413 - loss: 1.0038 - val_accuracy: 0.7500 - val_loss: 1.0798\n",
            "Epoch 14/100\n",
            "\u001b[1m1/6\u001b[0m \u001b[32m━━━\u001b[0m\u001b[37m━━━━━━━━━━━━━━━━━\u001b[0m \u001b[1m0s\u001b[0m 38ms/step - accuracy: 0.9375 - loss: 0.9222"
          ]
        },
        {
          "name": "stderr",
          "output_type": "stream",
          "text": [
            "WARNING:absl:You are saving your model as an HDF5 file via `model.save()` or `keras.saving.save_model(model)`. This file format is considered legacy. We recommend using instead the native Keras format, e.g. `model.save('my_model.keras')` or `keras.saving.save_model(model, 'my_model.keras')`. \n"
          ]
        },
        {
          "name": "stdout",
          "output_type": "stream",
          "text": [
            "\u001b[1m6/6\u001b[0m \u001b[32m━━━━━━━━━━━━━━━━━━━━\u001b[0m\u001b[37m\u001b[0m \u001b[1m0s\u001b[0m 26ms/step - accuracy: 0.8148 - loss: 1.0009 - val_accuracy: 0.7500 - val_loss: 1.0593\n",
            "Epoch 15/100\n",
            "\u001b[1m1/6\u001b[0m \u001b[32m━━━\u001b[0m\u001b[37m━━━━━━━━━━━━━━━━━\u001b[0m \u001b[1m0s\u001b[0m 49ms/step - accuracy: 0.8438 - loss: 0.9955"
          ]
        },
        {
          "name": "stderr",
          "output_type": "stream",
          "text": [
            "WARNING:absl:You are saving your model as an HDF5 file via `model.save()` or `keras.saving.save_model(model)`. This file format is considered legacy. We recommend using instead the native Keras format, e.g. `model.save('my_model.keras')` or `keras.saving.save_model(model, 'my_model.keras')`. \n"
          ]
        },
        {
          "name": "stdout",
          "output_type": "stream",
          "text": [
            "\u001b[1m6/6\u001b[0m \u001b[32m━━━━━━━━━━━━━━━━━━━━\u001b[0m\u001b[37m\u001b[0m \u001b[1m0s\u001b[0m 26ms/step - accuracy: 0.8624 - loss: 0.9467 - val_accuracy: 0.7708 - val_loss: 1.0411\n",
            "Epoch 16/100\n",
            "\u001b[1m1/6\u001b[0m \u001b[32m━━━\u001b[0m\u001b[37m━━━━━━━━━━━━━━━━━\u001b[0m \u001b[1m0s\u001b[0m 38ms/step - accuracy: 0.8438 - loss: 0.9266"
          ]
        },
        {
          "name": "stderr",
          "output_type": "stream",
          "text": [
            "WARNING:absl:You are saving your model as an HDF5 file via `model.save()` or `keras.saving.save_model(model)`. This file format is considered legacy. We recommend using instead the native Keras format, e.g. `model.save('my_model.keras')` or `keras.saving.save_model(model, 'my_model.keras')`. \n"
          ]
        },
        {
          "name": "stdout",
          "output_type": "stream",
          "text": [
            "\u001b[1m6/6\u001b[0m \u001b[32m━━━━━━━━━━━━━━━━━━━━\u001b[0m\u001b[37m\u001b[0m \u001b[1m0s\u001b[0m 26ms/step - accuracy: 0.8254 - loss: 0.9460 - val_accuracy: 0.7708 - val_loss: 1.0219\n",
            "Epoch 17/100\n",
            "\u001b[1m1/6\u001b[0m \u001b[32m━━━\u001b[0m\u001b[37m━━━━━━━━━━━━━━━━━\u001b[0m \u001b[1m0s\u001b[0m 38ms/step - accuracy: 0.8438 - loss: 0.9060"
          ]
        },
        {
          "name": "stderr",
          "output_type": "stream",
          "text": [
            "WARNING:absl:You are saving your model as an HDF5 file via `model.save()` or `keras.saving.save_model(model)`. This file format is considered legacy. We recommend using instead the native Keras format, e.g. `model.save('my_model.keras')` or `keras.saving.save_model(model, 'my_model.keras')`. \n"
          ]
        },
        {
          "name": "stdout",
          "output_type": "stream",
          "text": [
            "\u001b[1m6/6\u001b[0m \u001b[32m━━━━━━━━━━━━━━━━━━━━\u001b[0m\u001b[37m\u001b[0m \u001b[1m0s\u001b[0m 26ms/step - accuracy: 0.8360 - loss: 0.9038 - val_accuracy: 0.7708 - val_loss: 1.0075\n",
            "Epoch 18/100\n",
            "\u001b[1m1/6\u001b[0m \u001b[32m━━━\u001b[0m\u001b[37m━━━━━━━━━━━━━━━━━\u001b[0m \u001b[1m0s\u001b[0m 39ms/step - accuracy: 0.8125 - loss: 0.9374"
          ]
        },
        {
          "name": "stderr",
          "output_type": "stream",
          "text": [
            "WARNING:absl:You are saving your model as an HDF5 file via `model.save()` or `keras.saving.save_model(model)`. This file format is considered legacy. We recommend using instead the native Keras format, e.g. `model.save('my_model.keras')` or `keras.saving.save_model(model, 'my_model.keras')`. \n"
          ]
        },
        {
          "name": "stdout",
          "output_type": "stream",
          "text": [
            "\u001b[1m6/6\u001b[0m \u001b[32m━━━━━━━━━━━━━━━━━━━━\u001b[0m\u001b[37m\u001b[0m \u001b[1m0s\u001b[0m 26ms/step - accuracy: 0.8519 - loss: 0.8873 - val_accuracy: 0.7708 - val_loss: 0.9954\n",
            "Epoch 19/100\n",
            "\u001b[1m1/6\u001b[0m \u001b[32m━━━\u001b[0m\u001b[37m━━━━━━━━━━━━━━━━━\u001b[0m \u001b[1m0s\u001b[0m 39ms/step - accuracy: 0.8438 - loss: 0.8432"
          ]
        },
        {
          "name": "stderr",
          "output_type": "stream",
          "text": [
            "WARNING:absl:You are saving your model as an HDF5 file via `model.save()` or `keras.saving.save_model(model)`. This file format is considered legacy. We recommend using instead the native Keras format, e.g. `model.save('my_model.keras')` or `keras.saving.save_model(model, 'my_model.keras')`. \n"
          ]
        },
        {
          "name": "stdout",
          "output_type": "stream",
          "text": [
            "\u001b[1m6/6\u001b[0m \u001b[32m━━━━━━━━━━━━━━━━━━━━\u001b[0m\u001b[37m\u001b[0m \u001b[1m0s\u001b[0m 26ms/step - accuracy: 0.8519 - loss: 0.8729 - val_accuracy: 0.7708 - val_loss: 0.9839\n",
            "Epoch 20/100\n",
            "\u001b[1m1/6\u001b[0m \u001b[32m━━━\u001b[0m\u001b[37m━━━━━━━━━━━━━━━━━\u001b[0m \u001b[1m0s\u001b[0m 38ms/step - accuracy: 0.9062 - loss: 0.7375"
          ]
        },
        {
          "name": "stderr",
          "output_type": "stream",
          "text": [
            "WARNING:absl:You are saving your model as an HDF5 file via `model.save()` or `keras.saving.save_model(model)`. This file format is considered legacy. We recommend using instead the native Keras format, e.g. `model.save('my_model.keras')` or `keras.saving.save_model(model, 'my_model.keras')`. \n"
          ]
        },
        {
          "name": "stdout",
          "output_type": "stream",
          "text": [
            "\u001b[1m6/6\u001b[0m \u001b[32m━━━━━━━━━━━━━━━━━━━━\u001b[0m\u001b[37m\u001b[0m \u001b[1m0s\u001b[0m 25ms/step - accuracy: 0.8466 - loss: 0.8317 - val_accuracy: 0.7708 - val_loss: 0.9804\n",
            "Epoch 21/100\n",
            "\u001b[1m1/6\u001b[0m \u001b[32m━━━\u001b[0m\u001b[37m━━━━━━━━━━━━━━━━━\u001b[0m \u001b[1m0s\u001b[0m 38ms/step - accuracy: 0.8438 - loss: 0.9060"
          ]
        },
        {
          "name": "stderr",
          "output_type": "stream",
          "text": [
            "WARNING:absl:You are saving your model as an HDF5 file via `model.save()` or `keras.saving.save_model(model)`. This file format is considered legacy. We recommend using instead the native Keras format, e.g. `model.save('my_model.keras')` or `keras.saving.save_model(model, 'my_model.keras')`. \n"
          ]
        },
        {
          "name": "stdout",
          "output_type": "stream",
          "text": [
            "\u001b[1m6/6\u001b[0m \u001b[32m━━━━━━━━━━━━━━━━━━━━\u001b[0m\u001b[37m\u001b[0m \u001b[1m0s\u001b[0m 26ms/step - accuracy: 0.8571 - loss: 0.8353 - val_accuracy: 0.7708 - val_loss: 0.9712\n",
            "Epoch 22/100\n",
            "\u001b[1m1/6\u001b[0m \u001b[32m━━━\u001b[0m\u001b[37m━━━━━━━━━━━━━━━━━\u001b[0m \u001b[1m0s\u001b[0m 38ms/step - accuracy: 0.9062 - loss: 0.7925"
          ]
        },
        {
          "name": "stderr",
          "output_type": "stream",
          "text": [
            "WARNING:absl:You are saving your model as an HDF5 file via `model.save()` or `keras.saving.save_model(model)`. This file format is considered legacy. We recommend using instead the native Keras format, e.g. `model.save('my_model.keras')` or `keras.saving.save_model(model, 'my_model.keras')`. \n"
          ]
        },
        {
          "name": "stdout",
          "output_type": "stream",
          "text": [
            "\u001b[1m6/6\u001b[0m \u001b[32m━━━━━━━━━━━━━━━━━━━━\u001b[0m\u001b[37m\u001b[0m \u001b[1m0s\u001b[0m 26ms/step - accuracy: 0.8466 - loss: 0.8166 - val_accuracy: 0.7917 - val_loss: 0.9538\n",
            "Epoch 23/100\n",
            "\u001b[1m1/6\u001b[0m \u001b[32m━━━\u001b[0m\u001b[37m━━━━━━━━━━━━━━━━━\u001b[0m \u001b[1m0s\u001b[0m 38ms/step - accuracy: 0.8125 - loss: 0.8167"
          ]
        },
        {
          "name": "stderr",
          "output_type": "stream",
          "text": [
            "WARNING:absl:You are saving your model as an HDF5 file via `model.save()` or `keras.saving.save_model(model)`. This file format is considered legacy. We recommend using instead the native Keras format, e.g. `model.save('my_model.keras')` or `keras.saving.save_model(model, 'my_model.keras')`. \n"
          ]
        },
        {
          "name": "stdout",
          "output_type": "stream",
          "text": [
            "\u001b[1m6/6\u001b[0m \u001b[32m━━━━━━━━━━━━━━━━━━━━\u001b[0m\u001b[37m\u001b[0m \u001b[1m0s\u001b[0m 26ms/step - accuracy: 0.8519 - loss: 0.7949 - val_accuracy: 0.7917 - val_loss: 0.9387\n",
            "Epoch 24/100\n",
            "\u001b[1m1/6\u001b[0m \u001b[32m━━━\u001b[0m\u001b[37m━━━━━━━━━━━━━━━━━\u001b[0m \u001b[1m0s\u001b[0m 40ms/step - accuracy: 0.9062 - loss: 0.6950"
          ]
        },
        {
          "name": "stderr",
          "output_type": "stream",
          "text": [
            "WARNING:absl:You are saving your model as an HDF5 file via `model.save()` or `keras.saving.save_model(model)`. This file format is considered legacy. We recommend using instead the native Keras format, e.g. `model.save('my_model.keras')` or `keras.saving.save_model(model, 'my_model.keras')`. \n"
          ]
        },
        {
          "name": "stdout",
          "output_type": "stream",
          "text": [
            "\u001b[1m6/6\u001b[0m \u001b[32m━━━━━━━━━━━━━━━━━━━━\u001b[0m\u001b[37m\u001b[0m \u001b[1m0s\u001b[0m 26ms/step - accuracy: 0.8413 - loss: 0.7683 - val_accuracy: 0.7917 - val_loss: 0.9224\n",
            "Epoch 25/100\n",
            "\u001b[1m1/6\u001b[0m \u001b[32m━━━\u001b[0m\u001b[37m━━━━━━━━━━━━━━━━━\u001b[0m \u001b[1m0s\u001b[0m 39ms/step - accuracy: 0.8750 - loss: 0.7641"
          ]
        },
        {
          "name": "stderr",
          "output_type": "stream",
          "text": [
            "WARNING:absl:You are saving your model as an HDF5 file via `model.save()` or `keras.saving.save_model(model)`. This file format is considered legacy. We recommend using instead the native Keras format, e.g. `model.save('my_model.keras')` or `keras.saving.save_model(model, 'my_model.keras')`. \n"
          ]
        },
        {
          "name": "stdout",
          "output_type": "stream",
          "text": [
            "\u001b[1m6/6\u001b[0m \u001b[32m━━━━━━━━━━━━━━━━━━━━\u001b[0m\u001b[37m\u001b[0m \u001b[1m0s\u001b[0m 26ms/step - accuracy: 0.8677 - loss: 0.7572 - val_accuracy: 0.8125 - val_loss: 0.9037\n",
            "Epoch 26/100\n",
            "\u001b[1m1/6\u001b[0m \u001b[32m━━━\u001b[0m\u001b[37m━━━━━━━━━━━━━━━━━\u001b[0m \u001b[1m0s\u001b[0m 39ms/step - accuracy: 0.8125 - loss: 0.8090"
          ]
        },
        {
          "name": "stderr",
          "output_type": "stream",
          "text": [
            "WARNING:absl:You are saving your model as an HDF5 file via `model.save()` or `keras.saving.save_model(model)`. This file format is considered legacy. We recommend using instead the native Keras format, e.g. `model.save('my_model.keras')` or `keras.saving.save_model(model, 'my_model.keras')`. \n"
          ]
        },
        {
          "name": "stdout",
          "output_type": "stream",
          "text": [
            "\u001b[1m6/6\u001b[0m \u001b[32m━━━━━━━━━━━━━━━━━━━━\u001b[0m\u001b[37m\u001b[0m \u001b[1m0s\u001b[0m 26ms/step - accuracy: 0.8466 - loss: 0.7490 - val_accuracy: 0.8125 - val_loss: 0.8930\n",
            "Epoch 27/100\n",
            "\u001b[1m1/6\u001b[0m \u001b[32m━━━\u001b[0m\u001b[37m━━━━━━━━━━━━━━━━━\u001b[0m \u001b[1m0s\u001b[0m 40ms/step - accuracy: 0.9062 - loss: 0.6582"
          ]
        },
        {
          "name": "stderr",
          "output_type": "stream",
          "text": [
            "WARNING:absl:You are saving your model as an HDF5 file via `model.save()` or `keras.saving.save_model(model)`. This file format is considered legacy. We recommend using instead the native Keras format, e.g. `model.save('my_model.keras')` or `keras.saving.save_model(model, 'my_model.keras')`. \n"
          ]
        },
        {
          "name": "stdout",
          "output_type": "stream",
          "text": [
            "\u001b[1m6/6\u001b[0m \u001b[32m━━━━━━━━━━━━━━━━━━━━\u001b[0m\u001b[37m\u001b[0m \u001b[1m0s\u001b[0m 26ms/step - accuracy: 0.8571 - loss: 0.7443 - val_accuracy: 0.8125 - val_loss: 0.8869\n",
            "Epoch 28/100\n",
            "\u001b[1m1/6\u001b[0m \u001b[32m━━━\u001b[0m\u001b[37m━━━━━━━━━━━━━━━━━\u001b[0m \u001b[1m0s\u001b[0m 38ms/step - accuracy: 0.8438 - loss: 0.8685"
          ]
        },
        {
          "name": "stderr",
          "output_type": "stream",
          "text": [
            "WARNING:absl:You are saving your model as an HDF5 file via `model.save()` or `keras.saving.save_model(model)`. This file format is considered legacy. We recommend using instead the native Keras format, e.g. `model.save('my_model.keras')` or `keras.saving.save_model(model, 'my_model.keras')`. \n"
          ]
        },
        {
          "name": "stdout",
          "output_type": "stream",
          "text": [
            "\u001b[1m6/6\u001b[0m \u001b[32m━━━━━━━━━━━━━━━━━━━━\u001b[0m\u001b[37m\u001b[0m \u001b[1m0s\u001b[0m 26ms/step - accuracy: 0.8519 - loss: 0.7668 - val_accuracy: 0.8125 - val_loss: 0.8739\n",
            "Epoch 29/100\n",
            "\u001b[1m1/6\u001b[0m \u001b[32m━━━\u001b[0m\u001b[37m━━━━━━━━━━━━━━━━━\u001b[0m \u001b[1m0s\u001b[0m 38ms/step - accuracy: 0.8438 - loss: 0.6991"
          ]
        },
        {
          "name": "stderr",
          "output_type": "stream",
          "text": [
            "WARNING:absl:You are saving your model as an HDF5 file via `model.save()` or `keras.saving.save_model(model)`. This file format is considered legacy. We recommend using instead the native Keras format, e.g. `model.save('my_model.keras')` or `keras.saving.save_model(model, 'my_model.keras')`. \n"
          ]
        },
        {
          "name": "stdout",
          "output_type": "stream",
          "text": [
            "\u001b[1m6/6\u001b[0m \u001b[32m━━━━━━━━━━━━━━━━━━━━\u001b[0m\u001b[37m\u001b[0m \u001b[1m0s\u001b[0m 29ms/step - accuracy: 0.8677 - loss: 0.7014 - val_accuracy: 0.8125 - val_loss: 0.8617\n",
            "Epoch 30/100\n",
            "\u001b[1m1/6\u001b[0m \u001b[32m━━━\u001b[0m\u001b[37m━━━━━━━━━━━━━━━━━\u001b[0m \u001b[1m0s\u001b[0m 39ms/step - accuracy: 0.8438 - loss: 0.6596"
          ]
        },
        {
          "name": "stderr",
          "output_type": "stream",
          "text": [
            "WARNING:absl:You are saving your model as an HDF5 file via `model.save()` or `keras.saving.save_model(model)`. This file format is considered legacy. We recommend using instead the native Keras format, e.g. `model.save('my_model.keras')` or `keras.saving.save_model(model, 'my_model.keras')`. \n"
          ]
        },
        {
          "name": "stdout",
          "output_type": "stream",
          "text": [
            "\u001b[1m6/6\u001b[0m \u001b[32m━━━━━━━━━━━━━━━━━━━━\u001b[0m\u001b[37m\u001b[0m \u001b[1m0s\u001b[0m 26ms/step - accuracy: 0.8519 - loss: 0.6963 - val_accuracy: 0.8125 - val_loss: 0.8436\n",
            "Epoch 31/100\n",
            "\u001b[1m1/6\u001b[0m \u001b[32m━━━\u001b[0m\u001b[37m━━━━━━━━━━━━━━━━━\u001b[0m \u001b[1m0s\u001b[0m 38ms/step - accuracy: 0.8750 - loss: 0.6123"
          ]
        },
        {
          "name": "stderr",
          "output_type": "stream",
          "text": [
            "WARNING:absl:You are saving your model as an HDF5 file via `model.save()` or `keras.saving.save_model(model)`. This file format is considered legacy. We recommend using instead the native Keras format, e.g. `model.save('my_model.keras')` or `keras.saving.save_model(model, 'my_model.keras')`. \n"
          ]
        },
        {
          "name": "stdout",
          "output_type": "stream",
          "text": [
            "\u001b[1m6/6\u001b[0m \u001b[32m━━━━━━━━━━━━━━━━━━━━\u001b[0m\u001b[37m\u001b[0m \u001b[1m0s\u001b[0m 26ms/step - accuracy: 0.8783 - loss: 0.6654 - val_accuracy: 0.8125 - val_loss: 0.8322\n",
            "Epoch 32/100\n",
            "\u001b[1m1/6\u001b[0m \u001b[32m━━━\u001b[0m\u001b[37m━━━━━━━━━━━━━━━━━\u001b[0m \u001b[1m0s\u001b[0m 39ms/step - accuracy: 0.9688 - loss: 0.5615"
          ]
        },
        {
          "name": "stderr",
          "output_type": "stream",
          "text": [
            "WARNING:absl:You are saving your model as an HDF5 file via `model.save()` or `keras.saving.save_model(model)`. This file format is considered legacy. We recommend using instead the native Keras format, e.g. `model.save('my_model.keras')` or `keras.saving.save_model(model, 'my_model.keras')`. \n"
          ]
        },
        {
          "name": "stdout",
          "output_type": "stream",
          "text": [
            "\u001b[1m6/6\u001b[0m \u001b[32m━━━━━━━━━━━━━━━━━━━━\u001b[0m\u001b[37m\u001b[0m \u001b[1m0s\u001b[0m 26ms/step - accuracy: 0.8783 - loss: 0.6718 - val_accuracy: 0.8125 - val_loss: 0.8254\n",
            "Epoch 33/100\n",
            "\u001b[1m1/6\u001b[0m \u001b[32m━━━\u001b[0m\u001b[37m━━━━━━━━━━━━━━━━━\u001b[0m \u001b[1m0s\u001b[0m 39ms/step - accuracy: 0.8125 - loss: 0.7686"
          ]
        },
        {
          "name": "stderr",
          "output_type": "stream",
          "text": [
            "WARNING:absl:You are saving your model as an HDF5 file via `model.save()` or `keras.saving.save_model(model)`. This file format is considered legacy. We recommend using instead the native Keras format, e.g. `model.save('my_model.keras')` or `keras.saving.save_model(model, 'my_model.keras')`. \n"
          ]
        },
        {
          "name": "stdout",
          "output_type": "stream",
          "text": [
            "\u001b[1m6/6\u001b[0m \u001b[32m━━━━━━━━━━━━━━━━━━━━\u001b[0m\u001b[37m\u001b[0m \u001b[1m0s\u001b[0m 26ms/step - accuracy: 0.8783 - loss: 0.6454 - val_accuracy: 0.8125 - val_loss: 0.8231\n",
            "Epoch 34/100\n",
            "\u001b[1m1/6\u001b[0m \u001b[32m━━━\u001b[0m\u001b[37m━━━━━━━━━━━━━━━━━\u001b[0m \u001b[1m0s\u001b[0m 39ms/step - accuracy: 0.8750 - loss: 0.6680"
          ]
        },
        {
          "name": "stderr",
          "output_type": "stream",
          "text": [
            "WARNING:absl:You are saving your model as an HDF5 file via `model.save()` or `keras.saving.save_model(model)`. This file format is considered legacy. We recommend using instead the native Keras format, e.g. `model.save('my_model.keras')` or `keras.saving.save_model(model, 'my_model.keras')`. \n"
          ]
        },
        {
          "name": "stdout",
          "output_type": "stream",
          "text": [
            "\u001b[1m6/6\u001b[0m \u001b[32m━━━━━━━━━━━━━━━━━━━━\u001b[0m\u001b[37m\u001b[0m \u001b[1m0s\u001b[0m 27ms/step - accuracy: 0.8783 - loss: 0.6471 - val_accuracy: 0.7917 - val_loss: 0.8156\n",
            "Epoch 35/100\n",
            "\u001b[1m1/6\u001b[0m \u001b[32m━━━\u001b[0m\u001b[37m━━━━━━━━━━━━━━━━━\u001b[0m \u001b[1m0s\u001b[0m 42ms/step - accuracy: 0.9688 - loss: 0.4941"
          ]
        },
        {
          "name": "stderr",
          "output_type": "stream",
          "text": [
            "WARNING:absl:You are saving your model as an HDF5 file via `model.save()` or `keras.saving.save_model(model)`. This file format is considered legacy. We recommend using instead the native Keras format, e.g. `model.save('my_model.keras')` or `keras.saving.save_model(model, 'my_model.keras')`. \n"
          ]
        },
        {
          "name": "stdout",
          "output_type": "stream",
          "text": [
            "\u001b[1m6/6\u001b[0m \u001b[32m━━━━━━━━━━━━━━━━━━━━\u001b[0m\u001b[37m\u001b[0m \u001b[1m0s\u001b[0m 28ms/step - accuracy: 0.8677 - loss: 0.6448 - val_accuracy: 0.7917 - val_loss: 0.8081\n",
            "Epoch 36/100\n",
            "\u001b[1m1/6\u001b[0m \u001b[32m━━━\u001b[0m\u001b[37m━━━━━━━━━━━━━━━━━\u001b[0m \u001b[1m0s\u001b[0m 42ms/step - accuracy: 0.9062 - loss: 0.6038"
          ]
        },
        {
          "name": "stderr",
          "output_type": "stream",
          "text": [
            "WARNING:absl:You are saving your model as an HDF5 file via `model.save()` or `keras.saving.save_model(model)`. This file format is considered legacy. We recommend using instead the native Keras format, e.g. `model.save('my_model.keras')` or `keras.saving.save_model(model, 'my_model.keras')`. \n"
          ]
        },
        {
          "name": "stdout",
          "output_type": "stream",
          "text": [
            "\u001b[1m6/6\u001b[0m \u001b[32m━━━━━━━━━━━━━━━━━━━━\u001b[0m\u001b[37m\u001b[0m \u001b[1m0s\u001b[0m 27ms/step - accuracy: 0.8677 - loss: 0.6299 - val_accuracy: 0.7917 - val_loss: 0.8025\n",
            "Epoch 37/100\n",
            "\u001b[1m1/6\u001b[0m \u001b[32m━━━\u001b[0m\u001b[37m━━━━━━━━━━━━━━━━━\u001b[0m \u001b[1m0s\u001b[0m 39ms/step - accuracy: 0.8750 - loss: 0.6067"
          ]
        },
        {
          "name": "stderr",
          "output_type": "stream",
          "text": [
            "WARNING:absl:You are saving your model as an HDF5 file via `model.save()` or `keras.saving.save_model(model)`. This file format is considered legacy. We recommend using instead the native Keras format, e.g. `model.save('my_model.keras')` or `keras.saving.save_model(model, 'my_model.keras')`. \n"
          ]
        },
        {
          "name": "stdout",
          "output_type": "stream",
          "text": [
            "\u001b[1m6/6\u001b[0m \u001b[32m━━━━━━━━━━━━━━━━━━━━\u001b[0m\u001b[37m\u001b[0m \u001b[1m0s\u001b[0m 27ms/step - accuracy: 0.8677 - loss: 0.6174 - val_accuracy: 0.7917 - val_loss: 0.7966\n",
            "Epoch 38/100\n",
            "\u001b[1m1/6\u001b[0m \u001b[32m━━━\u001b[0m\u001b[37m━━━━━━━━━━━━━━━━━\u001b[0m \u001b[1m0s\u001b[0m 40ms/step - accuracy: 0.8750 - loss: 0.6285"
          ]
        },
        {
          "name": "stderr",
          "output_type": "stream",
          "text": [
            "WARNING:absl:You are saving your model as an HDF5 file via `model.save()` or `keras.saving.save_model(model)`. This file format is considered legacy. We recommend using instead the native Keras format, e.g. `model.save('my_model.keras')` or `keras.saving.save_model(model, 'my_model.keras')`. \n"
          ]
        },
        {
          "name": "stdout",
          "output_type": "stream",
          "text": [
            "\u001b[1m6/6\u001b[0m \u001b[32m━━━━━━━━━━━━━━━━━━━━\u001b[0m\u001b[37m\u001b[0m \u001b[1m0s\u001b[0m 27ms/step - accuracy: 0.8624 - loss: 0.5970 - val_accuracy: 0.7917 - val_loss: 0.7915\n",
            "Epoch 39/100\n",
            "\u001b[1m1/6\u001b[0m \u001b[32m━━━\u001b[0m\u001b[37m━━━━━━━━━━━━━━━━━\u001b[0m \u001b[1m0s\u001b[0m 41ms/step - accuracy: 0.8125 - loss: 0.6900"
          ]
        },
        {
          "name": "stderr",
          "output_type": "stream",
          "text": [
            "WARNING:absl:You are saving your model as an HDF5 file via `model.save()` or `keras.saving.save_model(model)`. This file format is considered legacy. We recommend using instead the native Keras format, e.g. `model.save('my_model.keras')` or `keras.saving.save_model(model, 'my_model.keras')`. \n"
          ]
        },
        {
          "name": "stdout",
          "output_type": "stream",
          "text": [
            "\u001b[1m6/6\u001b[0m \u001b[32m━━━━━━━━━━━━━━━━━━━━\u001b[0m\u001b[37m\u001b[0m \u001b[1m0s\u001b[0m 29ms/step - accuracy: 0.8677 - loss: 0.6071 - val_accuracy: 0.7917 - val_loss: 0.7875\n",
            "Epoch 40/100\n",
            "\u001b[1m1/6\u001b[0m \u001b[32m━━━\u001b[0m\u001b[37m━━━━━━━━━━━━━━━━━\u001b[0m \u001b[1m0s\u001b[0m 54ms/step - accuracy: 0.9062 - loss: 0.5346"
          ]
        },
        {
          "name": "stderr",
          "output_type": "stream",
          "text": [
            "WARNING:absl:You are saving your model as an HDF5 file via `model.save()` or `keras.saving.save_model(model)`. This file format is considered legacy. We recommend using instead the native Keras format, e.g. `model.save('my_model.keras')` or `keras.saving.save_model(model, 'my_model.keras')`. \n"
          ]
        },
        {
          "name": "stdout",
          "output_type": "stream",
          "text": [
            "\u001b[1m6/6\u001b[0m \u001b[32m━━━━━━━━━━━━━━━━━━━━\u001b[0m\u001b[37m\u001b[0m \u001b[1m0s\u001b[0m 29ms/step - accuracy: 0.8519 - loss: 0.6069 - val_accuracy: 0.7917 - val_loss: 0.7728\n",
            "Epoch 41/100\n",
            "\u001b[1m1/6\u001b[0m \u001b[32m━━━\u001b[0m\u001b[37m━━━━━━━━━━━━━━━━━\u001b[0m \u001b[1m0s\u001b[0m 40ms/step - accuracy: 0.8750 - loss: 0.5633"
          ]
        },
        {
          "name": "stderr",
          "output_type": "stream",
          "text": [
            "WARNING:absl:You are saving your model as an HDF5 file via `model.save()` or `keras.saving.save_model(model)`. This file format is considered legacy. We recommend using instead the native Keras format, e.g. `model.save('my_model.keras')` or `keras.saving.save_model(model, 'my_model.keras')`. \n"
          ]
        },
        {
          "name": "stdout",
          "output_type": "stream",
          "text": [
            "\u001b[1m6/6\u001b[0m \u001b[32m━━━━━━━━━━━━━━━━━━━━\u001b[0m\u001b[37m\u001b[0m \u001b[1m0s\u001b[0m 28ms/step - accuracy: 0.8783 - loss: 0.5828 - val_accuracy: 0.7917 - val_loss: 0.7596\n",
            "Epoch 42/100\n",
            "\u001b[1m1/6\u001b[0m \u001b[32m━━━\u001b[0m\u001b[37m━━━━━━━━━━━━━━━━━\u001b[0m \u001b[1m0s\u001b[0m 43ms/step - accuracy: 0.9375 - loss: 0.5041"
          ]
        },
        {
          "name": "stderr",
          "output_type": "stream",
          "text": [
            "WARNING:absl:You are saving your model as an HDF5 file via `model.save()` or `keras.saving.save_model(model)`. This file format is considered legacy. We recommend using instead the native Keras format, e.g. `model.save('my_model.keras')` or `keras.saving.save_model(model, 'my_model.keras')`. \n"
          ]
        },
        {
          "name": "stdout",
          "output_type": "stream",
          "text": [
            "\u001b[1m6/6\u001b[0m \u001b[32m━━━━━━━━━━━━━━━━━━━━\u001b[0m\u001b[37m\u001b[0m \u001b[1m0s\u001b[0m 28ms/step - accuracy: 0.8836 - loss: 0.5705 - val_accuracy: 0.7917 - val_loss: 0.7563\n",
            "Epoch 43/100\n",
            "\u001b[1m6/6\u001b[0m \u001b[32m━━━━━━━━━━━━━━━━━━━━\u001b[0m\u001b[37m\u001b[0m \u001b[1m0s\u001b[0m 22ms/step - accuracy: 0.8624 - loss: 0.5506 - val_accuracy: 0.8125 - val_loss: 0.7621\n",
            "Epoch 44/100\n",
            "\u001b[1m6/6\u001b[0m \u001b[32m━━━━━━━━━━━━━━━━━━━━\u001b[0m\u001b[37m\u001b[0m \u001b[1m0s\u001b[0m 21ms/step - accuracy: 0.8995 - loss: 0.5439 - val_accuracy: 0.8125 - val_loss: 0.7573\n",
            "Epoch 45/100\n",
            "\u001b[1m1/6\u001b[0m \u001b[32m━━━\u001b[0m\u001b[37m━━━━━━━━━━━━━━━━━\u001b[0m \u001b[1m0s\u001b[0m 39ms/step - accuracy: 0.9062 - loss: 0.5402"
          ]
        },
        {
          "name": "stderr",
          "output_type": "stream",
          "text": [
            "WARNING:absl:You are saving your model as an HDF5 file via `model.save()` or `keras.saving.save_model(model)`. This file format is considered legacy. We recommend using instead the native Keras format, e.g. `model.save('my_model.keras')` or `keras.saving.save_model(model, 'my_model.keras')`. \n"
          ]
        },
        {
          "name": "stdout",
          "output_type": "stream",
          "text": [
            "\u001b[1m6/6\u001b[0m \u001b[32m━━━━━━━━━━━━━━━━━━━━\u001b[0m\u001b[37m\u001b[0m \u001b[1m0s\u001b[0m 28ms/step - accuracy: 0.8783 - loss: 0.5531 - val_accuracy: 0.7917 - val_loss: 0.7459\n",
            "Epoch 46/100\n",
            "\u001b[1m1/6\u001b[0m \u001b[32m━━━\u001b[0m\u001b[37m━━━━━━━━━━━━━━━━━\u001b[0m \u001b[1m0s\u001b[0m 40ms/step - accuracy: 0.8438 - loss: 0.6924"
          ]
        },
        {
          "name": "stderr",
          "output_type": "stream",
          "text": [
            "WARNING:absl:You are saving your model as an HDF5 file via `model.save()` or `keras.saving.save_model(model)`. This file format is considered legacy. We recommend using instead the native Keras format, e.g. `model.save('my_model.keras')` or `keras.saving.save_model(model, 'my_model.keras')`. \n"
          ]
        },
        {
          "name": "stdout",
          "output_type": "stream",
          "text": [
            "\u001b[1m6/6\u001b[0m \u001b[32m━━━━━━━━━━━━━━━━━━━━\u001b[0m\u001b[37m\u001b[0m \u001b[1m0s\u001b[0m 29ms/step - accuracy: 0.8942 - loss: 0.5544 - val_accuracy: 0.7917 - val_loss: 0.7312\n",
            "Epoch 47/100\n",
            "\u001b[1m1/6\u001b[0m \u001b[32m━━━\u001b[0m\u001b[37m━━━━━━━━━━━━━━━━━\u001b[0m \u001b[1m0s\u001b[0m 41ms/step - accuracy: 0.9375 - loss: 0.4862"
          ]
        },
        {
          "name": "stderr",
          "output_type": "stream",
          "text": [
            "WARNING:absl:You are saving your model as an HDF5 file via `model.save()` or `keras.saving.save_model(model)`. This file format is considered legacy. We recommend using instead the native Keras format, e.g. `model.save('my_model.keras')` or `keras.saving.save_model(model, 'my_model.keras')`. \n"
          ]
        },
        {
          "name": "stdout",
          "output_type": "stream",
          "text": [
            "\u001b[1m6/6\u001b[0m \u001b[32m━━━━━━━━━━━━━━━━━━━━\u001b[0m\u001b[37m\u001b[0m \u001b[1m0s\u001b[0m 28ms/step - accuracy: 0.8889 - loss: 0.5266 - val_accuracy: 0.7917 - val_loss: 0.7264\n",
            "Epoch 48/100\n",
            "\u001b[1m1/6\u001b[0m \u001b[32m━━━\u001b[0m\u001b[37m━━━━━━━━━━━━━━━━━\u001b[0m \u001b[1m0s\u001b[0m 42ms/step - accuracy: 1.0000 - loss: 0.3728"
          ]
        },
        {
          "name": "stderr",
          "output_type": "stream",
          "text": [
            "WARNING:absl:You are saving your model as an HDF5 file via `model.save()` or `keras.saving.save_model(model)`. This file format is considered legacy. We recommend using instead the native Keras format, e.g. `model.save('my_model.keras')` or `keras.saving.save_model(model, 'my_model.keras')`. \n"
          ]
        },
        {
          "name": "stdout",
          "output_type": "stream",
          "text": [
            "\u001b[1m6/6\u001b[0m \u001b[32m━━━━━━━━━━━━━━━━━━━━\u001b[0m\u001b[37m\u001b[0m \u001b[1m0s\u001b[0m 28ms/step - accuracy: 0.8730 - loss: 0.5182 - val_accuracy: 0.7917 - val_loss: 0.7212\n",
            "Epoch 49/100\n",
            "\u001b[1m6/6\u001b[0m \u001b[32m━━━━━━━━━━━━━━━━━━━━\u001b[0m\u001b[37m\u001b[0m \u001b[1m0s\u001b[0m 22ms/step - accuracy: 0.8677 - loss: 0.5346 - val_accuracy: 0.8125 - val_loss: 0.7253\n",
            "Epoch 50/100\n",
            "\u001b[1m6/6\u001b[0m \u001b[32m━━━━━━━━━━━━━━━━━━━━\u001b[0m\u001b[37m\u001b[0m \u001b[1m0s\u001b[0m 23ms/step - accuracy: 0.8624 - loss: 0.5229 - val_accuracy: 0.8125 - val_loss: 0.7302\n",
            "Epoch 51/100\n",
            "\u001b[1m6/6\u001b[0m \u001b[32m━━━━━━━━━━━━━━━━━━━━\u001b[0m\u001b[37m\u001b[0m \u001b[1m0s\u001b[0m 23ms/step - accuracy: 0.8836 - loss: 0.5128 - val_accuracy: 0.8125 - val_loss: 0.7325\n",
            "Epoch 52/100\n",
            "\u001b[1m6/6\u001b[0m \u001b[32m━━━━━━━━━━━━━━━━━━━━\u001b[0m\u001b[37m\u001b[0m \u001b[1m0s\u001b[0m 22ms/step - accuracy: 0.8730 - loss: 0.5258 - val_accuracy: 0.8125 - val_loss: 0.7262\n",
            "Epoch 53/100\n",
            "\u001b[1m1/6\u001b[0m \u001b[32m━━━\u001b[0m\u001b[37m━━━━━━━━━━━━━━━━━\u001b[0m \u001b[1m0s\u001b[0m 39ms/step - accuracy: 0.8125 - loss: 0.5698"
          ]
        },
        {
          "name": "stderr",
          "output_type": "stream",
          "text": [
            "WARNING:absl:You are saving your model as an HDF5 file via `model.save()` or `keras.saving.save_model(model)`. This file format is considered legacy. We recommend using instead the native Keras format, e.g. `model.save('my_model.keras')` or `keras.saving.save_model(model, 'my_model.keras')`. \n"
          ]
        },
        {
          "name": "stdout",
          "output_type": "stream",
          "text": [
            "\u001b[1m6/6\u001b[0m \u001b[32m━━━━━━━━━━━━━━━━━━━━\u001b[0m\u001b[37m\u001b[0m \u001b[1m0s\u001b[0m 27ms/step - accuracy: 0.8624 - loss: 0.5190 - val_accuracy: 0.7917 - val_loss: 0.7122\n",
            "Epoch 54/100\n",
            "\u001b[1m1/6\u001b[0m \u001b[32m━━━\u001b[0m\u001b[37m━━━━━━━━━━━━━━━━━\u001b[0m \u001b[1m0s\u001b[0m 39ms/step - accuracy: 0.9375 - loss: 0.4016"
          ]
        },
        {
          "name": "stderr",
          "output_type": "stream",
          "text": [
            "WARNING:absl:You are saving your model as an HDF5 file via `model.save()` or `keras.saving.save_model(model)`. This file format is considered legacy. We recommend using instead the native Keras format, e.g. `model.save('my_model.keras')` or `keras.saving.save_model(model, 'my_model.keras')`. \n"
          ]
        },
        {
          "name": "stdout",
          "output_type": "stream",
          "text": [
            "\u001b[1m6/6\u001b[0m \u001b[32m━━━━━━━━━━━━━━━━━━━━\u001b[0m\u001b[37m\u001b[0m \u001b[1m0s\u001b[0m 28ms/step - accuracy: 0.8783 - loss: 0.4880 - val_accuracy: 0.7917 - val_loss: 0.7021\n",
            "Epoch 55/100\n",
            "\u001b[1m1/6\u001b[0m \u001b[32m━━━\u001b[0m\u001b[37m━━━━━━━━━━━━━━━━━\u001b[0m \u001b[1m0s\u001b[0m 40ms/step - accuracy: 0.8438 - loss: 0.5071"
          ]
        },
        {
          "name": "stderr",
          "output_type": "stream",
          "text": [
            "WARNING:absl:You are saving your model as an HDF5 file via `model.save()` or `keras.saving.save_model(model)`. This file format is considered legacy. We recommend using instead the native Keras format, e.g. `model.save('my_model.keras')` or `keras.saving.save_model(model, 'my_model.keras')`. \n"
          ]
        },
        {
          "name": "stdout",
          "output_type": "stream",
          "text": [
            "\u001b[1m6/6\u001b[0m \u001b[32m━━━━━━━━━━━━━━━━━━━━\u001b[0m\u001b[37m\u001b[0m \u001b[1m0s\u001b[0m 28ms/step - accuracy: 0.8995 - loss: 0.4837 - val_accuracy: 0.8125 - val_loss: 0.7004\n",
            "Epoch 56/100\n",
            "\u001b[1m6/6\u001b[0m \u001b[32m━━━━━━━━━━━━━━━━━━━━\u001b[0m\u001b[37m\u001b[0m \u001b[1m0s\u001b[0m 24ms/step - accuracy: 0.8836 - loss: 0.4687 - val_accuracy: 0.8125 - val_loss: 0.7095\n",
            "Epoch 57/100\n",
            "\u001b[1m6/6\u001b[0m \u001b[32m━━━━━━━━━━━━━━━━━━━━\u001b[0m\u001b[37m\u001b[0m \u001b[1m0s\u001b[0m 24ms/step - accuracy: 0.8995 - loss: 0.4709 - val_accuracy: 0.7917 - val_loss: 0.7180\n",
            "Epoch 58/100\n",
            "\u001b[1m6/6\u001b[0m \u001b[32m━━━━━━━━━━━━━━━━━━━━\u001b[0m\u001b[37m\u001b[0m \u001b[1m0s\u001b[0m 27ms/step - accuracy: 0.8995 - loss: 0.4499 - val_accuracy: 0.7917 - val_loss: 0.7162\n",
            "Epoch 59/100\n",
            "\u001b[1m6/6\u001b[0m \u001b[32m━━━━━━━━━━━━━━━━━━━━\u001b[0m\u001b[37m\u001b[0m \u001b[1m0s\u001b[0m 25ms/step - accuracy: 0.8836 - loss: 0.4747 - val_accuracy: 0.7917 - val_loss: 0.7137\n",
            "Epoch 60/100\n",
            "\u001b[1m6/6\u001b[0m \u001b[32m━━━━━━━━━━━━━━━━━━━━\u001b[0m\u001b[37m\u001b[0m \u001b[1m0s\u001b[0m 21ms/step - accuracy: 0.8624 - loss: 0.4853 - val_accuracy: 0.7917 - val_loss: 0.7094\n",
            "Epoch 61/100\n",
            "\u001b[1m6/6\u001b[0m \u001b[32m━━━━━━━━━━━━━━━━━━━━\u001b[0m\u001b[37m\u001b[0m \u001b[1m0s\u001b[0m 21ms/step - accuracy: 0.8624 - loss: 0.4636 - val_accuracy: 0.7917 - val_loss: 0.7145\n",
            "Epoch 62/100\n",
            "\u001b[1m6/6\u001b[0m \u001b[32m━━━━━━━━━━━━━━━━━━━━\u001b[0m\u001b[37m\u001b[0m \u001b[1m0s\u001b[0m 21ms/step - accuracy: 0.8730 - loss: 0.4439 - val_accuracy: 0.7917 - val_loss: 0.7072\n",
            "Epoch 63/100\n",
            "\u001b[1m1/6\u001b[0m \u001b[32m━━━\u001b[0m\u001b[37m━━━━━━━━━━━━━━━━━\u001b[0m \u001b[1m0s\u001b[0m 41ms/step - accuracy: 0.8750 - loss: 0.4758"
          ]
        },
        {
          "name": "stderr",
          "output_type": "stream",
          "text": [
            "WARNING:absl:You are saving your model as an HDF5 file via `model.save()` or `keras.saving.save_model(model)`. This file format is considered legacy. We recommend using instead the native Keras format, e.g. `model.save('my_model.keras')` or `keras.saving.save_model(model, 'my_model.keras')`. \n"
          ]
        },
        {
          "name": "stdout",
          "output_type": "stream",
          "text": [
            "\u001b[1m6/6\u001b[0m \u001b[32m━━━━━━━━━━━━━━━━━━━━\u001b[0m\u001b[37m\u001b[0m \u001b[1m0s\u001b[0m 30ms/step - accuracy: 0.8995 - loss: 0.4385 - val_accuracy: 0.7917 - val_loss: 0.6970\n",
            "Epoch 64/100\n",
            "\u001b[1m6/6\u001b[0m \u001b[32m━━━━━━━━━━━━━━━━━━━━\u001b[0m\u001b[37m\u001b[0m \u001b[1m0s\u001b[0m 23ms/step - accuracy: 0.9101 - loss: 0.4354 - val_accuracy: 0.7917 - val_loss: 0.7019\n",
            "Epoch 65/100\n",
            "\u001b[1m1/6\u001b[0m \u001b[32m━━━\u001b[0m\u001b[37m━━━━━━━━━━━━━━━━━\u001b[0m \u001b[1m0s\u001b[0m 41ms/step - accuracy: 0.9062 - loss: 0.4119"
          ]
        },
        {
          "name": "stderr",
          "output_type": "stream",
          "text": [
            "WARNING:absl:You are saving your model as an HDF5 file via `model.save()` or `keras.saving.save_model(model)`. This file format is considered legacy. We recommend using instead the native Keras format, e.g. `model.save('my_model.keras')` or `keras.saving.save_model(model, 'my_model.keras')`. \n"
          ]
        },
        {
          "name": "stdout",
          "output_type": "stream",
          "text": [
            "\u001b[1m6/6\u001b[0m \u001b[32m━━━━━━━━━━━━━━━━━━━━\u001b[0m\u001b[37m\u001b[0m \u001b[1m0s\u001b[0m 28ms/step - accuracy: 0.8889 - loss: 0.4374 - val_accuracy: 0.7917 - val_loss: 0.6954\n",
            "Epoch 66/100\n",
            "\u001b[1m1/6\u001b[0m \u001b[32m━━━\u001b[0m\u001b[37m━━━━━━━━━━━━━━━━━\u001b[0m \u001b[1m0s\u001b[0m 40ms/step - accuracy: 0.9688 - loss: 0.4239"
          ]
        },
        {
          "name": "stderr",
          "output_type": "stream",
          "text": [
            "WARNING:absl:You are saving your model as an HDF5 file via `model.save()` or `keras.saving.save_model(model)`. This file format is considered legacy. We recommend using instead the native Keras format, e.g. `model.save('my_model.keras')` or `keras.saving.save_model(model, 'my_model.keras')`. \n"
          ]
        },
        {
          "name": "stdout",
          "output_type": "stream",
          "text": [
            "\u001b[1m6/6\u001b[0m \u001b[32m━━━━━━━━━━━━━━━━━━━━\u001b[0m\u001b[37m\u001b[0m \u001b[1m0s\u001b[0m 28ms/step - accuracy: 0.9101 - loss: 0.4232 - val_accuracy: 0.7917 - val_loss: 0.6938\n",
            "Epoch 67/100\n",
            "\u001b[1m6/6\u001b[0m \u001b[32m━━━━━━━━━━━━━━━━━━━━\u001b[0m\u001b[37m\u001b[0m \u001b[1m0s\u001b[0m 22ms/step - accuracy: 0.8783 - loss: 0.4382 - val_accuracy: 0.7917 - val_loss: 0.6954\n",
            "Epoch 68/100\n",
            "\u001b[1m1/6\u001b[0m \u001b[32m━━━\u001b[0m\u001b[37m━━━━━━━━━━━━━━━━━\u001b[0m \u001b[1m0s\u001b[0m 42ms/step - accuracy: 0.9375 - loss: 0.3949"
          ]
        },
        {
          "name": "stderr",
          "output_type": "stream",
          "text": [
            "WARNING:absl:You are saving your model as an HDF5 file via `model.save()` or `keras.saving.save_model(model)`. This file format is considered legacy. We recommend using instead the native Keras format, e.g. `model.save('my_model.keras')` or `keras.saving.save_model(model, 'my_model.keras')`. \n"
          ]
        },
        {
          "name": "stdout",
          "output_type": "stream",
          "text": [
            "\u001b[1m6/6\u001b[0m \u001b[32m━━━━━━━━━━━━━━━━━━━━\u001b[0m\u001b[37m\u001b[0m \u001b[1m0s\u001b[0m 28ms/step - accuracy: 0.8942 - loss: 0.4216 - val_accuracy: 0.7917 - val_loss: 0.6893\n",
            "Epoch 69/100\n",
            "\u001b[1m6/6\u001b[0m \u001b[32m━━━━━━━━━━━━━━━━━━━━\u001b[0m\u001b[37m\u001b[0m \u001b[1m0s\u001b[0m 22ms/step - accuracy: 0.8995 - loss: 0.4077 - val_accuracy: 0.7917 - val_loss: 0.6940\n",
            "Epoch 70/100\n",
            "\u001b[1m6/6\u001b[0m \u001b[32m━━━━━━━━━━━━━━━━━━━━\u001b[0m\u001b[37m\u001b[0m \u001b[1m0s\u001b[0m 22ms/step - accuracy: 0.8995 - loss: 0.4190 - val_accuracy: 0.7917 - val_loss: 0.6958\n",
            "Epoch 71/100\n",
            "\u001b[1m6/6\u001b[0m \u001b[32m━━━━━━━━━━━━━━━━━━━━\u001b[0m\u001b[37m\u001b[0m \u001b[1m0s\u001b[0m 23ms/step - accuracy: 0.9101 - loss: 0.4270 - val_accuracy: 0.7917 - val_loss: 0.6921\n",
            "Epoch 72/100\n",
            "\u001b[1m6/6\u001b[0m \u001b[32m━━━━━━━━━━━━━━━━━━━━\u001b[0m\u001b[37m\u001b[0m \u001b[1m0s\u001b[0m 22ms/step - accuracy: 0.8942 - loss: 0.4150 - val_accuracy: 0.7917 - val_loss: 0.6991\n",
            "Epoch 73/100\n",
            "\u001b[1m6/6\u001b[0m \u001b[32m━━━━━━━━━━━━━━━━━━━━\u001b[0m\u001b[37m\u001b[0m \u001b[1m0s\u001b[0m 22ms/step - accuracy: 0.8730 - loss: 0.4225 - val_accuracy: 0.7917 - val_loss: 0.6922\n",
            "Epoch 74/100\n",
            "\u001b[1m1/6\u001b[0m \u001b[32m━━━\u001b[0m\u001b[37m━━━━━━━━━━━━━━━━━\u001b[0m \u001b[1m0s\u001b[0m 42ms/step - accuracy: 0.9062 - loss: 0.3943"
          ]
        },
        {
          "name": "stderr",
          "output_type": "stream",
          "text": [
            "WARNING:absl:You are saving your model as an HDF5 file via `model.save()` or `keras.saving.save_model(model)`. This file format is considered legacy. We recommend using instead the native Keras format, e.g. `model.save('my_model.keras')` or `keras.saving.save_model(model, 'my_model.keras')`. \n"
          ]
        },
        {
          "name": "stdout",
          "output_type": "stream",
          "text": [
            "\u001b[1m6/6\u001b[0m \u001b[32m━━━━━━━━━━━━━━━━━━━━\u001b[0m\u001b[37m\u001b[0m \u001b[1m0s\u001b[0m 28ms/step - accuracy: 0.8995 - loss: 0.4154 - val_accuracy: 0.7917 - val_loss: 0.6842\n",
            "Epoch 75/100\n",
            "\u001b[1m1/6\u001b[0m \u001b[32m━━━\u001b[0m\u001b[37m━━━━━━━━━━━━━━━━━\u001b[0m \u001b[1m0s\u001b[0m 42ms/step - accuracy: 0.8750 - loss: 0.3701"
          ]
        },
        {
          "name": "stderr",
          "output_type": "stream",
          "text": [
            "WARNING:absl:You are saving your model as an HDF5 file via `model.save()` or `keras.saving.save_model(model)`. This file format is considered legacy. We recommend using instead the native Keras format, e.g. `model.save('my_model.keras')` or `keras.saving.save_model(model, 'my_model.keras')`. \n"
          ]
        },
        {
          "name": "stdout",
          "output_type": "stream",
          "text": [
            "\u001b[1m6/6\u001b[0m \u001b[32m━━━━━━━━━━━━━━━━━━━━\u001b[0m\u001b[37m\u001b[0m \u001b[1m0s\u001b[0m 28ms/step - accuracy: 0.8889 - loss: 0.4121 - val_accuracy: 0.7917 - val_loss: 0.6669\n",
            "Epoch 76/100\n",
            "\u001b[1m1/6\u001b[0m \u001b[32m━━━\u001b[0m\u001b[37m━━━━━━━━━━━━━━━━━\u001b[0m \u001b[1m0s\u001b[0m 41ms/step - accuracy: 0.9062 - loss: 0.3226"
          ]
        },
        {
          "name": "stderr",
          "output_type": "stream",
          "text": [
            "WARNING:absl:You are saving your model as an HDF5 file via `model.save()` or `keras.saving.save_model(model)`. This file format is considered legacy. We recommend using instead the native Keras format, e.g. `model.save('my_model.keras')` or `keras.saving.save_model(model, 'my_model.keras')`. \n"
          ]
        },
        {
          "name": "stdout",
          "output_type": "stream",
          "text": [
            "\u001b[1m6/6\u001b[0m \u001b[32m━━━━━━━━━━━━━━━━━━━━\u001b[0m\u001b[37m\u001b[0m \u001b[1m0s\u001b[0m 28ms/step - accuracy: 0.8836 - loss: 0.4101 - val_accuracy: 0.7917 - val_loss: 0.6551\n",
            "Epoch 77/100\n",
            "\u001b[1m6/6\u001b[0m \u001b[32m━━━━━━━━━━━━━━━━━━━━\u001b[0m\u001b[37m\u001b[0m \u001b[1m0s\u001b[0m 22ms/step - accuracy: 0.9048 - loss: 0.3875 - val_accuracy: 0.7917 - val_loss: 0.6612\n",
            "Epoch 78/100\n",
            "\u001b[1m6/6\u001b[0m \u001b[32m━━━━━━━━━━━━━━━━━━━━\u001b[0m\u001b[37m\u001b[0m \u001b[1m0s\u001b[0m 22ms/step - accuracy: 0.9101 - loss: 0.4327 - val_accuracy: 0.7917 - val_loss: 0.6695\n",
            "Epoch 79/100\n",
            "\u001b[1m6/6\u001b[0m \u001b[32m━━━━━━━━━━━━━━━━━━━━\u001b[0m\u001b[37m\u001b[0m \u001b[1m0s\u001b[0m 22ms/step - accuracy: 0.8995 - loss: 0.4161 - val_accuracy: 0.7917 - val_loss: 0.6832\n",
            "Epoch 80/100\n",
            "\u001b[1m6/6\u001b[0m \u001b[32m━━━━━━━━━━━━━━━━━━━━\u001b[0m\u001b[37m\u001b[0m \u001b[1m0s\u001b[0m 23ms/step - accuracy: 0.9048 - loss: 0.3974 - val_accuracy: 0.7917 - val_loss: 0.6732\n",
            "Epoch 81/100\n",
            "\u001b[1m6/6\u001b[0m \u001b[32m━━━━━━━━━━━━━━━━━━━━\u001b[0m\u001b[37m\u001b[0m \u001b[1m0s\u001b[0m 22ms/step - accuracy: 0.9259 - loss: 0.3803 - val_accuracy: 0.7917 - val_loss: 0.6732\n",
            "Epoch 82/100\n",
            "\u001b[1m6/6\u001b[0m \u001b[32m━━━━━━━━━━━━━━━━━━━━\u001b[0m\u001b[37m\u001b[0m \u001b[1m0s\u001b[0m 23ms/step - accuracy: 0.9206 - loss: 0.3647 - val_accuracy: 0.7917 - val_loss: 0.6672\n",
            "Epoch 83/100\n",
            "\u001b[1m1/6\u001b[0m \u001b[32m━━━\u001b[0m\u001b[37m━━━━━━━━━━━━━━━━━\u001b[0m \u001b[1m0s\u001b[0m 43ms/step - accuracy: 0.9062 - loss: 0.3535"
          ]
        },
        {
          "name": "stderr",
          "output_type": "stream",
          "text": [
            "WARNING:absl:You are saving your model as an HDF5 file via `model.save()` or `keras.saving.save_model(model)`. This file format is considered legacy. We recommend using instead the native Keras format, e.g. `model.save('my_model.keras')` or `keras.saving.save_model(model, 'my_model.keras')`. \n"
          ]
        },
        {
          "name": "stdout",
          "output_type": "stream",
          "text": [
            "\u001b[1m6/6\u001b[0m \u001b[32m━━━━━━━━━━━━━━━━━━━━\u001b[0m\u001b[37m\u001b[0m \u001b[1m0s\u001b[0m 34ms/step - accuracy: 0.8889 - loss: 0.4146 - val_accuracy: 0.7917 - val_loss: 0.6499\n",
            "Epoch 84/100\n",
            "\u001b[1m6/6\u001b[0m \u001b[32m━━━━━━━━━━━━━━━━━━━━\u001b[0m\u001b[37m\u001b[0m \u001b[1m0s\u001b[0m 23ms/step - accuracy: 0.8889 - loss: 0.4022 - val_accuracy: 0.7917 - val_loss: 0.6705\n",
            "Epoch 85/100\n",
            "\u001b[1m6/6\u001b[0m \u001b[32m━━━━━━━━━━━━━━━━━━━━\u001b[0m\u001b[37m\u001b[0m \u001b[1m0s\u001b[0m 22ms/step - accuracy: 0.8942 - loss: 0.3789 - val_accuracy: 0.7917 - val_loss: 0.6701\n",
            "Epoch 86/100\n",
            "\u001b[1m6/6\u001b[0m \u001b[32m━━━━━━━━━━━━━━━━━━━━\u001b[0m\u001b[37m\u001b[0m \u001b[1m0s\u001b[0m 22ms/step - accuracy: 0.8995 - loss: 0.4018 - val_accuracy: 0.7917 - val_loss: 0.6716\n",
            "Epoch 87/100\n",
            "\u001b[1m6/6\u001b[0m \u001b[32m━━━━━━━━━━━━━━━━━━━━\u001b[0m\u001b[37m\u001b[0m \u001b[1m0s\u001b[0m 22ms/step - accuracy: 0.8995 - loss: 0.3783 - val_accuracy: 0.7917 - val_loss: 0.6822\n",
            "Epoch 88/100\n",
            "\u001b[1m6/6\u001b[0m \u001b[32m━━━━━━━━━━━━━━━━━━━━\u001b[0m\u001b[37m\u001b[0m \u001b[1m0s\u001b[0m 25ms/step - accuracy: 0.8995 - loss: 0.3996 - val_accuracy: 0.7917 - val_loss: 0.6845\n",
            "Epoch 89/100\n",
            "\u001b[1m6/6\u001b[0m \u001b[32m━━━━━━━━━━━━━━━━━━━━\u001b[0m\u001b[37m\u001b[0m \u001b[1m0s\u001b[0m 25ms/step - accuracy: 0.9048 - loss: 0.3741 - val_accuracy: 0.7917 - val_loss: 0.6722\n",
            "Epoch 90/100\n",
            "\u001b[1m6/6\u001b[0m \u001b[32m━━━━━━━━━━━━━━━━━━━━\u001b[0m\u001b[37m\u001b[0m \u001b[1m0s\u001b[0m 23ms/step - accuracy: 0.9048 - loss: 0.3558 - val_accuracy: 0.7917 - val_loss: 0.6660\n",
            "Epoch 91/100\n",
            "\u001b[1m6/6\u001b[0m \u001b[32m━━━━━━━━━━━━━━━━━━━━\u001b[0m\u001b[37m\u001b[0m \u001b[1m0s\u001b[0m 22ms/step - accuracy: 0.8942 - loss: 0.3857 - val_accuracy: 0.7917 - val_loss: 0.6688\n",
            "Epoch 92/100\n",
            "\u001b[1m6/6\u001b[0m \u001b[32m━━━━━━━━━━━━━━━━━━━━\u001b[0m\u001b[37m\u001b[0m \u001b[1m0s\u001b[0m 22ms/step - accuracy: 0.9206 - loss: 0.3763 - val_accuracy: 0.7917 - val_loss: 0.6756\n",
            "Epoch 93/100\n",
            "\u001b[1m6/6\u001b[0m \u001b[32m━━━━━━━━━━━━━━━━━━━━\u001b[0m\u001b[37m\u001b[0m \u001b[1m0s\u001b[0m 22ms/step - accuracy: 0.9312 - loss: 0.3362 - val_accuracy: 0.7917 - val_loss: 0.6886\n"
          ]
        }
      ],
      "source": [
        "# Define callbacks\n",
        "from tensorflow.keras.callbacks import EarlyStopping, ModelCheckpoint\n",
        "early_stopping = EarlyStopping(monitor='val_loss', patience=10, restore_best_weights=True)\n",
        "model_checkpoint = ModelCheckpoint('best_model.h5', monitor='val_loss', save_best_only=True)\n",
        "\n",
        "# Train the model\n",
        "history = model.fit(X_train, y_train,\n",
        "                   epochs=100,\n",
        "                   batch_size=32,\n",
        "                   validation_split=0.2,\n",
        "                   callbacks=[early_stopping, model_checkpoint])"
      ]
    },
    {
      "cell_type": "markdown",
      "id": "3Cqm0mC-lhKi",
      "metadata": {
        "id": "3Cqm0mC-lhKi"
      },
      "source": [
        "### Plot training history"
      ]
    },
    {
      "cell_type": "code",
      "execution_count": 17,
      "id": "HmgEORcyliGl",
      "metadata": {
        "colab": {
          "base_uri": "https://localhost:8080/",
          "height": 417
        },
        "id": "HmgEORcyliGl",
        "outputId": "baf93dea-2aab-42da-d6a7-1787325ce2b5"
      },
      "outputs": [
        {
          "data": {
            "application/vnd.plotly.v1+json": {
              "config": {
                "plotlyServerURL": "https://plot.ly"
              },
              "data": [
                {
                  "mode": "lines",
                  "name": "Training Loss",
                  "type": "scatter",
                  "xaxis": "x",
                  "y": [
                    1.5861543416976929,
                    1.5132567882537842,
                    1.4499918222427368,
                    1.4022070169448853,
                    1.3420218229293823,
                    1.3143260478973389,
                    1.2615649700164795,
                    1.2135566473007202,
                    1.1612639427185059,
                    1.1290305852890015,
                    1.0888422727584839,
                    1.0517992973327637,
                    1.0038268566131592,
                    1.000900387763977,
                    0.9467177391052246,
                    0.9460301995277405,
                    0.9037830829620361,
                    0.887317419052124,
                    0.8728582859039307,
                    0.8316638469696045,
                    0.8352681994438171,
                    0.8165957927703857,
                    0.7949267029762268,
                    0.768312394618988,
                    0.7571971416473389,
                    0.7490454912185669,
                    0.7443109154701233,
                    0.7667684555053711,
                    0.7014440894126892,
                    0.6962546706199646,
                    0.6654102206230164,
                    0.6717709898948669,
                    0.6454432010650635,
                    0.6471400856971741,
                    0.6447824239730835,
                    0.6299397945404053,
                    0.6174296736717224,
                    0.5970313549041748,
                    0.6071481704711914,
                    0.606913149356842,
                    0.5827650427818298,
                    0.5705240368843079,
                    0.5505607724189758,
                    0.5438549518585205,
                    0.5530626177787781,
                    0.5543947815895081,
                    0.526560366153717,
                    0.5182045102119446,
                    0.5346294641494751,
                    0.5229357481002808,
                    0.5128359198570251,
                    0.5258145332336426,
                    0.5190176963806152,
                    0.48801925778388977,
                    0.4837181866168976,
                    0.46870851516723633,
                    0.4709499776363373,
                    0.4498702883720398,
                    0.4747307300567627,
                    0.4852958023548126,
                    0.4636150598526001,
                    0.443876713514328,
                    0.43847256898880005,
                    0.4354124963283539,
                    0.4373844563961029,
                    0.4231548011302948,
                    0.43824031949043274,
                    0.4216252863407135,
                    0.40774300694465637,
                    0.41899579763412476,
                    0.4269815981388092,
                    0.41495150327682495,
                    0.4224995970726013,
                    0.41538092494010925,
                    0.41209059953689575,
                    0.41014760732650757,
                    0.3874734938144684,
                    0.4327274560928345,
                    0.41613686084747314,
                    0.39742597937583923,
                    0.3803074061870575,
                    0.36472004652023315,
                    0.41455894708633423,
                    0.4022469222545624,
                    0.37890657782554626,
                    0.40181273221969604,
                    0.37830406427383423,
                    0.3995862603187561,
                    0.3740764260292053,
                    0.3557908535003662,
                    0.3857283890247345,
                    0.3763352632522583,
                    0.33616384863853455
                  ],
                  "yaxis": "y"
                },
                {
                  "mode": "lines",
                  "name": "Validation Loss",
                  "type": "scatter",
                  "xaxis": "x",
                  "y": [
                    1.5520176887512207,
                    1.4860702753067017,
                    1.4300755262374878,
                    1.3807177543640137,
                    1.3345718383789062,
                    1.2921746969223022,
                    1.2521713972091675,
                    1.2135417461395264,
                    1.17974054813385,
                    1.1512095928192139,
                    1.1253582239151,
                    1.1041353940963745,
                    1.079769492149353,
                    1.0592838525772095,
                    1.0411299467086792,
                    1.0219064950942993,
                    1.0075281858444214,
                    0.9953566193580627,
                    0.9838681817054749,
                    0.9803584218025208,
                    0.9711875915527344,
                    0.9537908434867859,
                    0.9386658668518066,
                    0.9224493503570557,
                    0.903712272644043,
                    0.8929888606071472,
                    0.8869023323059082,
                    0.8738947510719299,
                    0.8617222905158997,
                    0.8436247706413269,
                    0.8321537375450134,
                    0.8254494071006775,
                    0.8230581283569336,
                    0.8155844807624817,
                    0.8080746531486511,
                    0.802546501159668,
                    0.7965638637542725,
                    0.7914945483207703,
                    0.7875252366065979,
                    0.7728180885314941,
                    0.7596249580383301,
                    0.7562986016273499,
                    0.7621099948883057,
                    0.7573485970497131,
                    0.7458788752555847,
                    0.7312057614326477,
                    0.7263867259025574,
                    0.7211846709251404,
                    0.725260317325592,
                    0.7301740646362305,
                    0.7325460314750671,
                    0.7262327075004578,
                    0.7122331261634827,
                    0.7020595669746399,
                    0.7004446387290955,
                    0.7094786763191223,
                    0.7179780006408691,
                    0.7161681652069092,
                    0.71368408203125,
                    0.7094171643257141,
                    0.714483916759491,
                    0.7072485089302063,
                    0.6970288157463074,
                    0.7019049525260925,
                    0.695374071598053,
                    0.693763017654419,
                    0.6954295039176941,
                    0.6893426775932312,
                    0.6939504146575928,
                    0.6957995891571045,
                    0.6921345591545105,
                    0.6990559697151184,
                    0.692230761051178,
                    0.6842041015625,
                    0.6668736934661865,
                    0.6551225781440735,
                    0.6612014770507812,
                    0.6695051193237305,
                    0.6832194924354553,
                    0.6732032895088196,
                    0.67320317029953,
                    0.667170524597168,
                    0.6499022841453552,
                    0.6704640984535217,
                    0.6701484322547913,
                    0.6715657711029053,
                    0.6821804046630859,
                    0.6845182776451111,
                    0.6722064018249512,
                    0.6659620404243469,
                    0.6688430905342102,
                    0.6756178736686707,
                    0.6885652542114258
                  ],
                  "yaxis": "y"
                },
                {
                  "mode": "lines",
                  "name": "Training Accuracy",
                  "type": "scatter",
                  "xaxis": "x2",
                  "y": [
                    0.48677247762680054,
                    0.5661375522613525,
                    0.6243386268615723,
                    0.7089946866035461,
                    0.7354497313499451,
                    0.7407407164573669,
                    0.8148148059844971,
                    0.7936508059501648,
                    0.7830687761306763,
                    0.8095238208770752,
                    0.8253968358039856,
                    0.8359788656234741,
                    0.841269850730896,
                    0.8148148059844971,
                    0.8624338507652283,
                    0.8253968358039856,
                    0.8359788656234741,
                    0.8518518805503845,
                    0.8518518805503845,
                    0.8465608358383179,
                    0.8571428656578064,
                    0.8465608358383179,
                    0.8518518805503845,
                    0.841269850730896,
                    0.8677248954772949,
                    0.8465608358383179,
                    0.8571428656578064,
                    0.8518518805503845,
                    0.8677248954772949,
                    0.8518518805503845,
                    0.8783068656921387,
                    0.8783068656921387,
                    0.8783068656921387,
                    0.8783068656921387,
                    0.8677248954772949,
                    0.8677248954772949,
                    0.8677248954772949,
                    0.8624338507652283,
                    0.8677248954772949,
                    0.8518518805503845,
                    0.8783068656921387,
                    0.8835979104042053,
                    0.8624338507652283,
                    0.8994709253311157,
                    0.8783068656921387,
                    0.8941798806190491,
                    0.8888888955116272,
                    0.8730158805847168,
                    0.8677248954772949,
                    0.8624338507652283,
                    0.8835979104042053,
                    0.8730158805847168,
                    0.8624338507652283,
                    0.8783068656921387,
                    0.8994709253311157,
                    0.8835979104042053,
                    0.8994709253311157,
                    0.8994709253311157,
                    0.8835979104042053,
                    0.8624338507652283,
                    0.8624338507652283,
                    0.8730158805847168,
                    0.8994709253311157,
                    0.9100528955459595,
                    0.8888888955116272,
                    0.9100528955459595,
                    0.8783068656921387,
                    0.8941798806190491,
                    0.8994709253311157,
                    0.8994709253311157,
                    0.9100528955459595,
                    0.8941798806190491,
                    0.8730158805847168,
                    0.8994709253311157,
                    0.8888888955116272,
                    0.8835979104042053,
                    0.9047619104385376,
                    0.9100528955459595,
                    0.8994709253311157,
                    0.9047619104385376,
                    0.9259259104728699,
                    0.920634925365448,
                    0.8888888955116272,
                    0.8888888955116272,
                    0.8941798806190491,
                    0.8994709253311157,
                    0.8994709253311157,
                    0.8994709253311157,
                    0.9047619104385376,
                    0.9047619104385376,
                    0.8941798806190491,
                    0.920634925365448,
                    0.9312169551849365
                  ],
                  "yaxis": "y2"
                },
                {
                  "mode": "lines",
                  "name": "Validation Accuracy",
                  "type": "scatter",
                  "xaxis": "x2",
                  "y": [
                    0.4375,
                    0.5208333134651184,
                    0.6458333134651184,
                    0.625,
                    0.7291666865348816,
                    0.7291666865348816,
                    0.7291666865348816,
                    0.75,
                    0.7291666865348816,
                    0.7291666865348816,
                    0.7291666865348816,
                    0.7291666865348816,
                    0.75,
                    0.75,
                    0.7708333134651184,
                    0.7708333134651184,
                    0.7708333134651184,
                    0.7708333134651184,
                    0.7708333134651184,
                    0.7708333134651184,
                    0.7708333134651184,
                    0.7916666865348816,
                    0.7916666865348816,
                    0.7916666865348816,
                    0.8125,
                    0.8125,
                    0.8125,
                    0.8125,
                    0.8125,
                    0.8125,
                    0.8125,
                    0.8125,
                    0.8125,
                    0.7916666865348816,
                    0.7916666865348816,
                    0.7916666865348816,
                    0.7916666865348816,
                    0.7916666865348816,
                    0.7916666865348816,
                    0.7916666865348816,
                    0.7916666865348816,
                    0.7916666865348816,
                    0.8125,
                    0.8125,
                    0.7916666865348816,
                    0.7916666865348816,
                    0.7916666865348816,
                    0.7916666865348816,
                    0.8125,
                    0.8125,
                    0.8125,
                    0.8125,
                    0.7916666865348816,
                    0.7916666865348816,
                    0.8125,
                    0.8125,
                    0.7916666865348816,
                    0.7916666865348816,
                    0.7916666865348816,
                    0.7916666865348816,
                    0.7916666865348816,
                    0.7916666865348816,
                    0.7916666865348816,
                    0.7916666865348816,
                    0.7916666865348816,
                    0.7916666865348816,
                    0.7916666865348816,
                    0.7916666865348816,
                    0.7916666865348816,
                    0.7916666865348816,
                    0.7916666865348816,
                    0.7916666865348816,
                    0.7916666865348816,
                    0.7916666865348816,
                    0.7916666865348816,
                    0.7916666865348816,
                    0.7916666865348816,
                    0.7916666865348816,
                    0.7916666865348816,
                    0.7916666865348816,
                    0.7916666865348816,
                    0.7916666865348816,
                    0.7916666865348816,
                    0.7916666865348816,
                    0.7916666865348816,
                    0.7916666865348816,
                    0.7916666865348816,
                    0.7916666865348816,
                    0.7916666865348816,
                    0.7916666865348816,
                    0.7916666865348816,
                    0.7916666865348816,
                    0.7916666865348816
                  ],
                  "yaxis": "y2"
                }
              ],
              "layout": {
                "annotations": [
                  {
                    "font": {
                      "size": 16
                    },
                    "showarrow": false,
                    "text": "Model Loss",
                    "x": 0.225,
                    "xanchor": "center",
                    "xref": "paper",
                    "y": 1,
                    "yanchor": "bottom",
                    "yref": "paper"
                  },
                  {
                    "font": {
                      "size": 16
                    },
                    "showarrow": false,
                    "text": "Model Accuracy",
                    "x": 0.775,
                    "xanchor": "center",
                    "xref": "paper",
                    "y": 1,
                    "yanchor": "bottom",
                    "yref": "paper"
                  }
                ],
                "height": 400,
                "template": {
                  "data": {
                    "bar": [
                      {
                        "error_x": {
                          "color": "#2a3f5f"
                        },
                        "error_y": {
                          "color": "#2a3f5f"
                        },
                        "marker": {
                          "line": {
                            "color": "#E5ECF6",
                            "width": 0.5
                          },
                          "pattern": {
                            "fillmode": "overlay",
                            "size": 10,
                            "solidity": 0.2
                          }
                        },
                        "type": "bar"
                      }
                    ],
                    "barpolar": [
                      {
                        "marker": {
                          "line": {
                            "color": "#E5ECF6",
                            "width": 0.5
                          },
                          "pattern": {
                            "fillmode": "overlay",
                            "size": 10,
                            "solidity": 0.2
                          }
                        },
                        "type": "barpolar"
                      }
                    ],
                    "carpet": [
                      {
                        "aaxis": {
                          "endlinecolor": "#2a3f5f",
                          "gridcolor": "white",
                          "linecolor": "white",
                          "minorgridcolor": "white",
                          "startlinecolor": "#2a3f5f"
                        },
                        "baxis": {
                          "endlinecolor": "#2a3f5f",
                          "gridcolor": "white",
                          "linecolor": "white",
                          "minorgridcolor": "white",
                          "startlinecolor": "#2a3f5f"
                        },
                        "type": "carpet"
                      }
                    ],
                    "choropleth": [
                      {
                        "colorbar": {
                          "outlinewidth": 0,
                          "ticks": ""
                        },
                        "type": "choropleth"
                      }
                    ],
                    "contour": [
                      {
                        "colorbar": {
                          "outlinewidth": 0,
                          "ticks": ""
                        },
                        "colorscale": [
                          [
                            0,
                            "#0d0887"
                          ],
                          [
                            0.1111111111111111,
                            "#46039f"
                          ],
                          [
                            0.2222222222222222,
                            "#7201a8"
                          ],
                          [
                            0.3333333333333333,
                            "#9c179e"
                          ],
                          [
                            0.4444444444444444,
                            "#bd3786"
                          ],
                          [
                            0.5555555555555556,
                            "#d8576b"
                          ],
                          [
                            0.6666666666666666,
                            "#ed7953"
                          ],
                          [
                            0.7777777777777778,
                            "#fb9f3a"
                          ],
                          [
                            0.8888888888888888,
                            "#fdca26"
                          ],
                          [
                            1,
                            "#f0f921"
                          ]
                        ],
                        "type": "contour"
                      }
                    ],
                    "contourcarpet": [
                      {
                        "colorbar": {
                          "outlinewidth": 0,
                          "ticks": ""
                        },
                        "type": "contourcarpet"
                      }
                    ],
                    "heatmap": [
                      {
                        "colorbar": {
                          "outlinewidth": 0,
                          "ticks": ""
                        },
                        "colorscale": [
                          [
                            0,
                            "#0d0887"
                          ],
                          [
                            0.1111111111111111,
                            "#46039f"
                          ],
                          [
                            0.2222222222222222,
                            "#7201a8"
                          ],
                          [
                            0.3333333333333333,
                            "#9c179e"
                          ],
                          [
                            0.4444444444444444,
                            "#bd3786"
                          ],
                          [
                            0.5555555555555556,
                            "#d8576b"
                          ],
                          [
                            0.6666666666666666,
                            "#ed7953"
                          ],
                          [
                            0.7777777777777778,
                            "#fb9f3a"
                          ],
                          [
                            0.8888888888888888,
                            "#fdca26"
                          ],
                          [
                            1,
                            "#f0f921"
                          ]
                        ],
                        "type": "heatmap"
                      }
                    ],
                    "histogram": [
                      {
                        "marker": {
                          "pattern": {
                            "fillmode": "overlay",
                            "size": 10,
                            "solidity": 0.2
                          }
                        },
                        "type": "histogram"
                      }
                    ],
                    "histogram2d": [
                      {
                        "colorbar": {
                          "outlinewidth": 0,
                          "ticks": ""
                        },
                        "colorscale": [
                          [
                            0,
                            "#0d0887"
                          ],
                          [
                            0.1111111111111111,
                            "#46039f"
                          ],
                          [
                            0.2222222222222222,
                            "#7201a8"
                          ],
                          [
                            0.3333333333333333,
                            "#9c179e"
                          ],
                          [
                            0.4444444444444444,
                            "#bd3786"
                          ],
                          [
                            0.5555555555555556,
                            "#d8576b"
                          ],
                          [
                            0.6666666666666666,
                            "#ed7953"
                          ],
                          [
                            0.7777777777777778,
                            "#fb9f3a"
                          ],
                          [
                            0.8888888888888888,
                            "#fdca26"
                          ],
                          [
                            1,
                            "#f0f921"
                          ]
                        ],
                        "type": "histogram2d"
                      }
                    ],
                    "histogram2dcontour": [
                      {
                        "colorbar": {
                          "outlinewidth": 0,
                          "ticks": ""
                        },
                        "colorscale": [
                          [
                            0,
                            "#0d0887"
                          ],
                          [
                            0.1111111111111111,
                            "#46039f"
                          ],
                          [
                            0.2222222222222222,
                            "#7201a8"
                          ],
                          [
                            0.3333333333333333,
                            "#9c179e"
                          ],
                          [
                            0.4444444444444444,
                            "#bd3786"
                          ],
                          [
                            0.5555555555555556,
                            "#d8576b"
                          ],
                          [
                            0.6666666666666666,
                            "#ed7953"
                          ],
                          [
                            0.7777777777777778,
                            "#fb9f3a"
                          ],
                          [
                            0.8888888888888888,
                            "#fdca26"
                          ],
                          [
                            1,
                            "#f0f921"
                          ]
                        ],
                        "type": "histogram2dcontour"
                      }
                    ],
                    "mesh3d": [
                      {
                        "colorbar": {
                          "outlinewidth": 0,
                          "ticks": ""
                        },
                        "type": "mesh3d"
                      }
                    ],
                    "parcoords": [
                      {
                        "line": {
                          "colorbar": {
                            "outlinewidth": 0,
                            "ticks": ""
                          }
                        },
                        "type": "parcoords"
                      }
                    ],
                    "pie": [
                      {
                        "automargin": true,
                        "type": "pie"
                      }
                    ],
                    "scatter": [
                      {
                        "fillpattern": {
                          "fillmode": "overlay",
                          "size": 10,
                          "solidity": 0.2
                        },
                        "type": "scatter"
                      }
                    ],
                    "scatter3d": [
                      {
                        "line": {
                          "colorbar": {
                            "outlinewidth": 0,
                            "ticks": ""
                          }
                        },
                        "marker": {
                          "colorbar": {
                            "outlinewidth": 0,
                            "ticks": ""
                          }
                        },
                        "type": "scatter3d"
                      }
                    ],
                    "scattercarpet": [
                      {
                        "marker": {
                          "colorbar": {
                            "outlinewidth": 0,
                            "ticks": ""
                          }
                        },
                        "type": "scattercarpet"
                      }
                    ],
                    "scattergeo": [
                      {
                        "marker": {
                          "colorbar": {
                            "outlinewidth": 0,
                            "ticks": ""
                          }
                        },
                        "type": "scattergeo"
                      }
                    ],
                    "scattergl": [
                      {
                        "marker": {
                          "colorbar": {
                            "outlinewidth": 0,
                            "ticks": ""
                          }
                        },
                        "type": "scattergl"
                      }
                    ],
                    "scattermap": [
                      {
                        "marker": {
                          "colorbar": {
                            "outlinewidth": 0,
                            "ticks": ""
                          }
                        },
                        "type": "scattermap"
                      }
                    ],
                    "scattermapbox": [
                      {
                        "marker": {
                          "colorbar": {
                            "outlinewidth": 0,
                            "ticks": ""
                          }
                        },
                        "type": "scattermapbox"
                      }
                    ],
                    "scatterpolar": [
                      {
                        "marker": {
                          "colorbar": {
                            "outlinewidth": 0,
                            "ticks": ""
                          }
                        },
                        "type": "scatterpolar"
                      }
                    ],
                    "scatterpolargl": [
                      {
                        "marker": {
                          "colorbar": {
                            "outlinewidth": 0,
                            "ticks": ""
                          }
                        },
                        "type": "scatterpolargl"
                      }
                    ],
                    "scatterternary": [
                      {
                        "marker": {
                          "colorbar": {
                            "outlinewidth": 0,
                            "ticks": ""
                          }
                        },
                        "type": "scatterternary"
                      }
                    ],
                    "surface": [
                      {
                        "colorbar": {
                          "outlinewidth": 0,
                          "ticks": ""
                        },
                        "colorscale": [
                          [
                            0,
                            "#0d0887"
                          ],
                          [
                            0.1111111111111111,
                            "#46039f"
                          ],
                          [
                            0.2222222222222222,
                            "#7201a8"
                          ],
                          [
                            0.3333333333333333,
                            "#9c179e"
                          ],
                          [
                            0.4444444444444444,
                            "#bd3786"
                          ],
                          [
                            0.5555555555555556,
                            "#d8576b"
                          ],
                          [
                            0.6666666666666666,
                            "#ed7953"
                          ],
                          [
                            0.7777777777777778,
                            "#fb9f3a"
                          ],
                          [
                            0.8888888888888888,
                            "#fdca26"
                          ],
                          [
                            1,
                            "#f0f921"
                          ]
                        ],
                        "type": "surface"
                      }
                    ],
                    "table": [
                      {
                        "cells": {
                          "fill": {
                            "color": "#EBF0F8"
                          },
                          "line": {
                            "color": "white"
                          }
                        },
                        "header": {
                          "fill": {
                            "color": "#C8D4E3"
                          },
                          "line": {
                            "color": "white"
                          }
                        },
                        "type": "table"
                      }
                    ]
                  },
                  "layout": {
                    "annotationdefaults": {
                      "arrowcolor": "#2a3f5f",
                      "arrowhead": 0,
                      "arrowwidth": 1
                    },
                    "autotypenumbers": "strict",
                    "coloraxis": {
                      "colorbar": {
                        "outlinewidth": 0,
                        "ticks": ""
                      }
                    },
                    "colorscale": {
                      "diverging": [
                        [
                          0,
                          "#8e0152"
                        ],
                        [
                          0.1,
                          "#c51b7d"
                        ],
                        [
                          0.2,
                          "#de77ae"
                        ],
                        [
                          0.3,
                          "#f1b6da"
                        ],
                        [
                          0.4,
                          "#fde0ef"
                        ],
                        [
                          0.5,
                          "#f7f7f7"
                        ],
                        [
                          0.6,
                          "#e6f5d0"
                        ],
                        [
                          0.7,
                          "#b8e186"
                        ],
                        [
                          0.8,
                          "#7fbc41"
                        ],
                        [
                          0.9,
                          "#4d9221"
                        ],
                        [
                          1,
                          "#276419"
                        ]
                      ],
                      "sequential": [
                        [
                          0,
                          "#0d0887"
                        ],
                        [
                          0.1111111111111111,
                          "#46039f"
                        ],
                        [
                          0.2222222222222222,
                          "#7201a8"
                        ],
                        [
                          0.3333333333333333,
                          "#9c179e"
                        ],
                        [
                          0.4444444444444444,
                          "#bd3786"
                        ],
                        [
                          0.5555555555555556,
                          "#d8576b"
                        ],
                        [
                          0.6666666666666666,
                          "#ed7953"
                        ],
                        [
                          0.7777777777777778,
                          "#fb9f3a"
                        ],
                        [
                          0.8888888888888888,
                          "#fdca26"
                        ],
                        [
                          1,
                          "#f0f921"
                        ]
                      ],
                      "sequentialminus": [
                        [
                          0,
                          "#0d0887"
                        ],
                        [
                          0.1111111111111111,
                          "#46039f"
                        ],
                        [
                          0.2222222222222222,
                          "#7201a8"
                        ],
                        [
                          0.3333333333333333,
                          "#9c179e"
                        ],
                        [
                          0.4444444444444444,
                          "#bd3786"
                        ],
                        [
                          0.5555555555555556,
                          "#d8576b"
                        ],
                        [
                          0.6666666666666666,
                          "#ed7953"
                        ],
                        [
                          0.7777777777777778,
                          "#fb9f3a"
                        ],
                        [
                          0.8888888888888888,
                          "#fdca26"
                        ],
                        [
                          1,
                          "#f0f921"
                        ]
                      ]
                    },
                    "colorway": [
                      "#636efa",
                      "#EF553B",
                      "#00cc96",
                      "#ab63fa",
                      "#FFA15A",
                      "#19d3f3",
                      "#FF6692",
                      "#B6E880",
                      "#FF97FF",
                      "#FECB52"
                    ],
                    "font": {
                      "color": "#2a3f5f"
                    },
                    "geo": {
                      "bgcolor": "white",
                      "lakecolor": "white",
                      "landcolor": "#E5ECF6",
                      "showlakes": true,
                      "showland": true,
                      "subunitcolor": "white"
                    },
                    "hoverlabel": {
                      "align": "left"
                    },
                    "hovermode": "closest",
                    "mapbox": {
                      "style": "light"
                    },
                    "paper_bgcolor": "white",
                    "plot_bgcolor": "#E5ECF6",
                    "polar": {
                      "angularaxis": {
                        "gridcolor": "white",
                        "linecolor": "white",
                        "ticks": ""
                      },
                      "bgcolor": "#E5ECF6",
                      "radialaxis": {
                        "gridcolor": "white",
                        "linecolor": "white",
                        "ticks": ""
                      }
                    },
                    "scene": {
                      "xaxis": {
                        "backgroundcolor": "#E5ECF6",
                        "gridcolor": "white",
                        "gridwidth": 2,
                        "linecolor": "white",
                        "showbackground": true,
                        "ticks": "",
                        "zerolinecolor": "white"
                      },
                      "yaxis": {
                        "backgroundcolor": "#E5ECF6",
                        "gridcolor": "white",
                        "gridwidth": 2,
                        "linecolor": "white",
                        "showbackground": true,
                        "ticks": "",
                        "zerolinecolor": "white"
                      },
                      "zaxis": {
                        "backgroundcolor": "#E5ECF6",
                        "gridcolor": "white",
                        "gridwidth": 2,
                        "linecolor": "white",
                        "showbackground": true,
                        "ticks": "",
                        "zerolinecolor": "white"
                      }
                    },
                    "shapedefaults": {
                      "line": {
                        "color": "#2a3f5f"
                      }
                    },
                    "ternary": {
                      "aaxis": {
                        "gridcolor": "white",
                        "linecolor": "white",
                        "ticks": ""
                      },
                      "baxis": {
                        "gridcolor": "white",
                        "linecolor": "white",
                        "ticks": ""
                      },
                      "bgcolor": "#E5ECF6",
                      "caxis": {
                        "gridcolor": "white",
                        "linecolor": "white",
                        "ticks": ""
                      }
                    },
                    "title": {
                      "x": 0.05
                    },
                    "xaxis": {
                      "automargin": true,
                      "gridcolor": "white",
                      "linecolor": "white",
                      "ticks": "",
                      "title": {
                        "standoff": 15
                      },
                      "zerolinecolor": "white",
                      "zerolinewidth": 2
                    },
                    "yaxis": {
                      "automargin": true,
                      "gridcolor": "white",
                      "linecolor": "white",
                      "ticks": "",
                      "title": {
                        "standoff": 15
                      },
                      "zerolinecolor": "white",
                      "zerolinewidth": 2
                    }
                  }
                },
                "title": {
                  "text": "Training History (Interactive)"
                },
                "width": 1000,
                "xaxis": {
                  "anchor": "y",
                  "domain": [
                    0,
                    0.45
                  ],
                  "title": {
                    "text": "Epoch"
                  }
                },
                "xaxis2": {
                  "anchor": "y2",
                  "domain": [
                    0.55,
                    1
                  ],
                  "title": {
                    "text": "Epoch"
                  }
                },
                "yaxis": {
                  "anchor": "x",
                  "domain": [
                    0,
                    1
                  ],
                  "title": {
                    "text": "Loss"
                  }
                },
                "yaxis2": {
                  "anchor": "x2",
                  "domain": [
                    0,
                    1
                  ],
                  "title": {
                    "text": "Accuracy"
                  }
                }
              }
            }
          },
          "metadata": {},
          "output_type": "display_data"
        }
      ],
      "source": [
        "import plotly.graph_objects as go\n",
        "from plotly.subplots import make_subplots\n",
        "\n",
        "# Create 1 row, 2 column subplots\n",
        "fig = make_subplots(rows=1, cols=2, subplot_titles=(\"Model Loss\", \"Model Accuracy\"))\n",
        "\n",
        "# --- Loss ---\n",
        "fig.add_trace(go.Scatter(\n",
        "    y=history.history['loss'],\n",
        "    mode='lines', name='Training Loss'\n",
        "), row=1, col=1)\n",
        "\n",
        "fig.add_trace(go.Scatter(\n",
        "    y=history.history['val_loss'],\n",
        "    mode='lines', name='Validation Loss'\n",
        "), row=1, col=1)\n",
        "\n",
        "# --- Accuracy ---\n",
        "fig.add_trace(go.Scatter(\n",
        "    y=history.history['accuracy'],\n",
        "    mode='lines', name='Training Accuracy'\n",
        "), row=1, col=2)\n",
        "\n",
        "fig.add_trace(go.Scatter(\n",
        "    y=history.history['val_accuracy'],\n",
        "    mode='lines', name='Validation Accuracy'\n",
        "), row=1, col=2)\n",
        "\n",
        "# Layout\n",
        "fig.update_layout(\n",
        "    title_text=\"Training History (Interactive)\",\n",
        "    width=1000, height=400\n",
        ")\n",
        "\n",
        "fig.update_xaxes(title_text=\"Epoch\", row=1, col=1)\n",
        "fig.update_yaxes(title_text=\"Loss\", row=1, col=1)\n",
        "\n",
        "fig.update_xaxes(title_text=\"Epoch\", row=1, col=2)\n",
        "fig.update_yaxes(title_text=\"Accuracy\", row=1, col=2)\n",
        "\n",
        "fig.show()\n"
      ]
    },
    {
      "cell_type": "markdown",
      "id": "8927420c",
      "metadata": {
        "id": "8927420c"
      },
      "source": [
        "### Training Insights\n",
        "- Model Training Progress:\n",
        "  * Loss curves show if model is learning effectively\n",
        "  * Validation curves indicate if model is overfitting/underfitting\n",
        "- Early stopping helps prevent overfitting\n",
        "- Model checkpointing ensures we keep the best performing model\n",
        "- Learning rate and batch size affect training stability\n",
        "- Dropout and L2 regularization help control overfitting"
      ]
    },
    {
      "cell_type": "markdown",
      "id": "96850689",
      "metadata": {
        "id": "96850689"
      },
      "source": [
        "## Model Evaluation"
      ]
    },
    {
      "cell_type": "code",
      "execution_count": 18,
      "id": "77185d60",
      "metadata": {
        "colab": {
          "base_uri": "https://localhost:8080/",
          "height": 668
        },
        "id": "77185d60",
        "outputId": "b8a13254-c72e-41ac-d4e5-a3b134a23dca"
      },
      "outputs": [
        {
          "name": "stdout",
          "output_type": "stream",
          "text": [
            "\u001b[1m2/2\u001b[0m \u001b[32m━━━━━━━━━━━━━━━━━━━━\u001b[0m\u001b[37m\u001b[0m \u001b[1m0s\u001b[0m 94ms/step\n",
            "Model Performance Metrics:\n",
            "Accuracy: 0.9000\n",
            "Precision: 0.9005\n",
            "Recall: 0.9000\n",
            "F1-Score: 0.8992\n"
          ]
        },
        {
          "data": {
            "image/png": "[encoded data removed]",
            "text/plain": [
              "<Figure size 800x600 with 2 Axes>"
            ]
          },
          "metadata": {},
          "output_type": "display_data"
        }
      ],
      "source": [
        "# Make predictions\n",
        "y_pred = model.predict(X_test)\n",
        "y_pred_classes = (y_pred > 0.5).astype(int)\n",
        "\n",
        "# Calculate metrics\n",
        "accuracy = accuracy_score(y_test, y_pred_classes)\n",
        "precision = precision_score(y_test, y_pred_classes, average='weighted')\n",
        "recall = recall_score(y_test, y_pred_classes, average='weighted')\n",
        "f1 = f1_score(y_test, y_pred_classes, average='weighted')\n",
        "\n",
        "print(\"Model Performance Metrics:\")\n",
        "print(f\"Accuracy: {accuracy:.4f}\")\n",
        "print(f\"Precision: {precision:.4f}\")\n",
        "print(f\"Recall: {recall:.4f}\")\n",
        "print(f\"F1-Score: {f1:.4f}\")\n",
        "\n",
        "# Plot confusion matrix\n",
        "plt.figure(figsize=(8, 6))\n",
        "cm = confusion_matrix(y_test, y_pred_classes)\n",
        "sns.heatmap(cm, annot=True, fmt='d', cmap='Blues')\n",
        "plt.title('Confusion Matrix')\n",
        "plt.ylabel('True Label')\n",
        "plt.xlabel('Predicted Label')\n",
        "plt.show()"
      ]
    },
    {
      "cell_type": "markdown",
      "id": "DgFhrPEVl5Sk",
      "metadata": {
        "id": "DgFhrPEVl5Sk"
      },
      "source": [
        "### Plot ROC curve"
      ]
    },
    {
      "cell_type": "code",
      "execution_count": 19,
      "id": "n2YBefWhl5pl",
      "metadata": {
        "colab": {
          "base_uri": "https://localhost:8080/",
          "height": 617
        },
        "id": "n2YBefWhl5pl",
        "outputId": "cc4f148c-b505-4a4e-f656-df3c157cea2f"
      },
      "outputs": [
        {
          "data": {
            "application/vnd.plotly.v1+json": {
              "config": {
                "plotlyServerURL": "https://plot.ly"
              },
              "data": [
                {
                  "line": {
                    "color": "darkorange",
                    "width": 2
                  },
                  "mode": "lines",
                  "name": "ROC curve (AUC = 0.95)",
                  "type": "scatter",
                  "x": {
                    "bdata": "AAAAAAAAAAAAAAAAAAAAAAAAAAAAAAAAHMdxHMdxnD8cx3Ecx3GcPxzHcRzHcaw/HMdxHMdxrD9VVVVVVVW1P1VVVVVVVbU/chzHcRzHwT9yHMdxHMfBP1VVVVVVVcU/VVVVVVVVxT+O4ziO4zjeP47jOI7jON4/AAAAAAAA8D8=",
                    "dtype": "f8"
                  },
                  "y": {
                    "bdata": "AAAAAAAAAABVVVVVVVWlP1VVVVVVVdU/VVVVVVVV1T9VVVVVVVXpP1VVVVVVVek/q6qqqqqq6j+rqqqqqqrqPwAAAAAAAOw/AAAAAAAA7D9VVVVVVVXtP1VVVVVVVe0/q6qqqqqq7j+rqqqqqqruPwAAAAAAAPA/AAAAAAAA8D8=",
                    "dtype": "f8"
                  }
                },
                {
                  "line": {
                    "color": "navy",
                    "dash": "dash",
                    "width": 2
                  },
                  "mode": "lines",
                  "name": "Random Guess",
                  "type": "scatter",
                  "x": [
                    0,
                    1
                  ],
                  "y": [
                    0,
                    1
                  ]
                }
              ],
              "layout": {
                "height": 600,
                "template": {
                  "data": {
                    "bar": [
                      {
                        "error_x": {
                          "color": "#2a3f5f"
                        },
                        "error_y": {
                          "color": "#2a3f5f"
                        },
                        "marker": {
                          "line": {
                            "color": "#E5ECF6",
                            "width": 0.5
                          },
                          "pattern": {
                            "fillmode": "overlay",
                            "size": 10,
                            "solidity": 0.2
                          }
                        },
                        "type": "bar"
                      }
                    ],
                    "barpolar": [
                      {
                        "marker": {
                          "line": {
                            "color": "#E5ECF6",
                            "width": 0.5
                          },
                          "pattern": {
                            "fillmode": "overlay",
                            "size": 10,
                            "solidity": 0.2
                          }
                        },
                        "type": "barpolar"
                      }
                    ],
                    "carpet": [
                      {
                        "aaxis": {
                          "endlinecolor": "#2a3f5f",
                          "gridcolor": "white",
                          "linecolor": "white",
                          "minorgridcolor": "white",
                          "startlinecolor": "#2a3f5f"
                        },
                        "baxis": {
                          "endlinecolor": "#2a3f5f",
                          "gridcolor": "white",
                          "linecolor": "white",
                          "minorgridcolor": "white",
                          "startlinecolor": "#2a3f5f"
                        },
                        "type": "carpet"
                      }
                    ],
                    "choropleth": [
                      {
                        "colorbar": {
                          "outlinewidth": 0,
                          "ticks": ""
                        },
                        "type": "choropleth"
                      }
                    ],
                    "contour": [
                      {
                        "colorbar": {
                          "outlinewidth": 0,
                          "ticks": ""
                        },
                        "colorscale": [
                          [
                            0,
                            "#0d0887"
                          ],
                          [
                            0.1111111111111111,
                            "#46039f"
                          ],
                          [
                            0.2222222222222222,
                            "#7201a8"
                          ],
                          [
                            0.3333333333333333,
                            "#9c179e"
                          ],
                          [
                            0.4444444444444444,
                            "#bd3786"
                          ],
                          [
                            0.5555555555555556,
                            "#d8576b"
                          ],
                          [
                            0.6666666666666666,
                            "#ed7953"
                          ],
                          [
                            0.7777777777777778,
                            "#fb9f3a"
                          ],
                          [
                            0.8888888888888888,
                            "#fdca26"
                          ],
                          [
                            1,
                            "#f0f921"
                          ]
                        ],
                        "type": "contour"
                      }
                    ],
                    "contourcarpet": [
                      {
                        "colorbar": {
                          "outlinewidth": 0,
                          "ticks": ""
                        },
                        "type": "contourcarpet"
                      }
                    ],
                    "heatmap": [
                      {
                        "colorbar": {
                          "outlinewidth": 0,
                          "ticks": ""
                        },
                        "colorscale": [
                          [
                            0,
                            "#0d0887"
                          ],
                          [
                            0.1111111111111111,
                            "#46039f"
                          ],
                          [
                            0.2222222222222222,
                            "#7201a8"
                          ],
                          [
                            0.3333333333333333,
                            "#9c179e"
                          ],
                          [
                            0.4444444444444444,
                            "#bd3786"
                          ],
                          [
                            0.5555555555555556,
                            "#d8576b"
                          ],
                          [
                            0.6666666666666666,
                            "#ed7953"
                          ],
                          [
                            0.7777777777777778,
                            "#fb9f3a"
                          ],
                          [
                            0.8888888888888888,
                            "#fdca26"
                          ],
                          [
                            1,
                            "#f0f921"
                          ]
                        ],
                        "type": "heatmap"
                      }
                    ],
                    "histogram": [
                      {
                        "marker": {
                          "pattern": {
                            "fillmode": "overlay",
                            "size": 10,
                            "solidity": 0.2
                          }
                        },
                        "type": "histogram"
                      }
                    ],
                    "histogram2d": [
                      {
                        "colorbar": {
                          "outlinewidth": 0,
                          "ticks": ""
                        },
                        "colorscale": [
                          [
                            0,
                            "#0d0887"
                          ],
                          [
                            0.1111111111111111,
                            "#46039f"
                          ],
                          [
                            0.2222222222222222,
                            "#7201a8"
                          ],
                          [
                            0.3333333333333333,
                            "#9c179e"
                          ],
                          [
                            0.4444444444444444,
                            "#bd3786"
                          ],
                          [
                            0.5555555555555556,
                            "#d8576b"
                          ],
                          [
                            0.6666666666666666,
                            "#ed7953"
                          ],
                          [
                            0.7777777777777778,
                            "#fb9f3a"
                          ],
                          [
                            0.8888888888888888,
                            "#fdca26"
                          ],
                          [
                            1,
                            "#f0f921"
                          ]
                        ],
                        "type": "histogram2d"
                      }
                    ],
                    "histogram2dcontour": [
                      {
                        "colorbar": {
                          "outlinewidth": 0,
                          "ticks": ""
                        },
                        "colorscale": [
                          [
                            0,
                            "#0d0887"
                          ],
                          [
                            0.1111111111111111,
                            "#46039f"
                          ],
                          [
                            0.2222222222222222,
                            "#7201a8"
                          ],
                          [
                            0.3333333333333333,
                            "#9c179e"
                          ],
                          [
                            0.4444444444444444,
                            "#bd3786"
                          ],
                          [
                            0.5555555555555556,
                            "#d8576b"
                          ],
                          [
                            0.6666666666666666,
                            "#ed7953"
                          ],
                          [
                            0.7777777777777778,
                            "#fb9f3a"
                          ],
                          [
                            0.8888888888888888,
                            "#fdca26"
                          ],
                          [
                            1,
                            "#f0f921"
                          ]
                        ],
                        "type": "histogram2dcontour"
                      }
                    ],
                    "mesh3d": [
                      {
                        "colorbar": {
                          "outlinewidth": 0,
                          "ticks": ""
                        },
                        "type": "mesh3d"
                      }
                    ],
                    "parcoords": [
                      {
                        "line": {
                          "colorbar": {
                            "outlinewidth": 0,
                            "ticks": ""
                          }
                        },
                        "type": "parcoords"
                      }
                    ],
                    "pie": [
                      {
                        "automargin": true,
                        "type": "pie"
                      }
                    ],
                    "scatter": [
                      {
                        "fillpattern": {
                          "fillmode": "overlay",
                          "size": 10,
                          "solidity": 0.2
                        },
                        "type": "scatter"
                      }
                    ],
                    "scatter3d": [
                      {
                        "line": {
                          "colorbar": {
                            "outlinewidth": 0,
                            "ticks": ""
                          }
                        },
                        "marker": {
                          "colorbar": {
                            "outlinewidth": 0,
                            "ticks": ""
                          }
                        },
                        "type": "scatter3d"
                      }
                    ],
                    "scattercarpet": [
                      {
                        "marker": {
                          "colorbar": {
                            "outlinewidth": 0,
                            "ticks": ""
                          }
                        },
                        "type": "scattercarpet"
                      }
                    ],
                    "scattergeo": [
                      {
                        "marker": {
                          "colorbar": {
                            "outlinewidth": 0,
                            "ticks": ""
                          }
                        },
                        "type": "scattergeo"
                      }
                    ],
                    "scattergl": [
                      {
                        "marker": {
                          "colorbar": {
                            "outlinewidth": 0,
                            "ticks": ""
                          }
                        },
                        "type": "scattergl"
                      }
                    ],
                    "scattermap": [
                      {
                        "marker": {
                          "colorbar": {
                            "outlinewidth": 0,
                            "ticks": ""
                          }
                        },
                        "type": "scattermap"
                      }
                    ],
                    "scattermapbox": [
                      {
                        "marker": {
                          "colorbar": {
                            "outlinewidth": 0,
                            "ticks": ""
                          }
                        },
                        "type": "scattermapbox"
                      }
                    ],
                    "scatterpolar": [
                      {
                        "marker": {
                          "colorbar": {
                            "outlinewidth": 0,
                            "ticks": ""
                          }
                        },
                        "type": "scatterpolar"
                      }
                    ],
                    "scatterpolargl": [
                      {
                        "marker": {
                          "colorbar": {
                            "outlinewidth": 0,
                            "ticks": ""
                          }
                        },
                        "type": "scatterpolargl"
                      }
                    ],
                    "scatterternary": [
                      {
                        "marker": {
                          "colorbar": {
                            "outlinewidth": 0,
                            "ticks": ""
                          }
                        },
                        "type": "scatterternary"
                      }
                    ],
                    "surface": [
                      {
                        "colorbar": {
                          "outlinewidth": 0,
                          "ticks": ""
                        },
                        "colorscale": [
                          [
                            0,
                            "#0d0887"
                          ],
                          [
                            0.1111111111111111,
                            "#46039f"
                          ],
                          [
                            0.2222222222222222,
                            "#7201a8"
                          ],
                          [
                            0.3333333333333333,
                            "#9c179e"
                          ],
                          [
                            0.4444444444444444,
                            "#bd3786"
                          ],
                          [
                            0.5555555555555556,
                            "#d8576b"
                          ],
                          [
                            0.6666666666666666,
                            "#ed7953"
                          ],
                          [
                            0.7777777777777778,
                            "#fb9f3a"
                          ],
                          [
                            0.8888888888888888,
                            "#fdca26"
                          ],
                          [
                            1,
                            "#f0f921"
                          ]
                        ],
                        "type": "surface"
                      }
                    ],
                    "table": [
                      {
                        "cells": {
                          "fill": {
                            "color": "#EBF0F8"
                          },
                          "line": {
                            "color": "white"
                          }
                        },
                        "header": {
                          "fill": {
                            "color": "#C8D4E3"
                          },
                          "line": {
                            "color": "white"
                          }
                        },
                        "type": "table"
                      }
                    ]
                  },
                  "layout": {
                    "annotationdefaults": {
                      "arrowcolor": "#2a3f5f",
                      "arrowhead": 0,
                      "arrowwidth": 1
                    },
                    "autotypenumbers": "strict",
                    "coloraxis": {
                      "colorbar": {
                        "outlinewidth": 0,
                        "ticks": ""
                      }
                    },
                    "colorscale": {
                      "diverging": [
                        [
                          0,
                          "#8e0152"
                        ],
                        [
                          0.1,
                          "#c51b7d"
                        ],
                        [
                          0.2,
                          "#de77ae"
                        ],
                        [
                          0.3,
                          "#f1b6da"
                        ],
                        [
                          0.4,
                          "#fde0ef"
                        ],
                        [
                          0.5,
                          "#f7f7f7"
                        ],
                        [
                          0.6,
                          "#e6f5d0"
                        ],
                        [
                          0.7,
                          "#b8e186"
                        ],
                        [
                          0.8,
                          "#7fbc41"
                        ],
                        [
                          0.9,
                          "#4d9221"
                        ],
                        [
                          1,
                          "#276419"
                        ]
                      ],
                      "sequential": [
                        [
                          0,
                          "#0d0887"
                        ],
                        [
                          0.1111111111111111,
                          "#46039f"
                        ],
                        [
                          0.2222222222222222,
                          "#7201a8"
                        ],
                        [
                          0.3333333333333333,
                          "#9c179e"
                        ],
                        [
                          0.4444444444444444,
                          "#bd3786"
                        ],
                        [
                          0.5555555555555556,
                          "#d8576b"
                        ],
                        [
                          0.6666666666666666,
                          "#ed7953"
                        ],
                        [
                          0.7777777777777778,
                          "#fb9f3a"
                        ],
                        [
                          0.8888888888888888,
                          "#fdca26"
                        ],
                        [
                          1,
                          "#f0f921"
                        ]
                      ],
                      "sequentialminus": [
                        [
                          0,
                          "#0d0887"
                        ],
                        [
                          0.1111111111111111,
                          "#46039f"
                        ],
                        [
                          0.2222222222222222,
                          "#7201a8"
                        ],
                        [
                          0.3333333333333333,
                          "#9c179e"
                        ],
                        [
                          0.4444444444444444,
                          "#bd3786"
                        ],
                        [
                          0.5555555555555556,
                          "#d8576b"
                        ],
                        [
                          0.6666666666666666,
                          "#ed7953"
                        ],
                        [
                          0.7777777777777778,
                          "#fb9f3a"
                        ],
                        [
                          0.8888888888888888,
                          "#fdca26"
                        ],
                        [
                          1,
                          "#f0f921"
                        ]
                      ]
                    },
                    "colorway": [
                      "#636efa",
                      "#EF553B",
                      "#00cc96",
                      "#ab63fa",
                      "#FFA15A",
                      "#19d3f3",
                      "#FF6692",
                      "#B6E880",
                      "#FF97FF",
                      "#FECB52"
                    ],
                    "font": {
                      "color": "#2a3f5f"
                    },
                    "geo": {
                      "bgcolor": "white",
                      "lakecolor": "white",
                      "landcolor": "#E5ECF6",
                      "showlakes": true,
                      "showland": true,
                      "subunitcolor": "white"
                    },
                    "hoverlabel": {
                      "align": "left"
                    },
                    "hovermode": "closest",
                    "mapbox": {
                      "style": "light"
                    },
                    "paper_bgcolor": "white",
                    "plot_bgcolor": "#E5ECF6",
                    "polar": {
                      "angularaxis": {
                        "gridcolor": "white",
                        "linecolor": "white",
                        "ticks": ""
                      },
                      "bgcolor": "#E5ECF6",
                      "radialaxis": {
                        "gridcolor": "white",
                        "linecolor": "white",
                        "ticks": ""
                      }
                    },
                    "scene": {
                      "xaxis": {
                        "backgroundcolor": "#E5ECF6",
                        "gridcolor": "white",
                        "gridwidth": 2,
                        "linecolor": "white",
                        "showbackground": true,
                        "ticks": "",
                        "zerolinecolor": "white"
                      },
                      "yaxis": {
                        "backgroundcolor": "#E5ECF6",
                        "gridcolor": "white",
                        "gridwidth": 2,
                        "linecolor": "white",
                        "showbackground": true,
                        "ticks": "",
                        "zerolinecolor": "white"
                      },
                      "zaxis": {
                        "backgroundcolor": "#E5ECF6",
                        "gridcolor": "white",
                        "gridwidth": 2,
                        "linecolor": "white",
                        "showbackground": true,
                        "ticks": "",
                        "zerolinecolor": "white"
                      }
                    },
                    "shapedefaults": {
                      "line": {
                        "color": "#2a3f5f"
                      }
                    },
                    "ternary": {
                      "aaxis": {
                        "gridcolor": "white",
                        "linecolor": "white",
                        "ticks": ""
                      },
                      "baxis": {
                        "gridcolor": "white",
                        "linecolor": "white",
                        "ticks": ""
                      },
                      "bgcolor": "#E5ECF6",
                      "caxis": {
                        "gridcolor": "white",
                        "linecolor": "white",
                        "ticks": ""
                      }
                    },
                    "title": {
                      "x": 0.05
                    },
                    "xaxis": {
                      "automargin": true,
                      "gridcolor": "white",
                      "linecolor": "white",
                      "ticks": "",
                      "title": {
                        "standoff": 15
                      },
                      "zerolinecolor": "white",
                      "zerolinewidth": 2
                    },
                    "yaxis": {
                      "automargin": true,
                      "gridcolor": "white",
                      "linecolor": "white",
                      "ticks": "",
                      "title": {
                        "standoff": 15
                      },
                      "zerolinecolor": "white",
                      "zerolinewidth": 2
                    }
                  }
                },
                "title": {
                  "text": "Receiver Operating Characteristic (ROC) Curve (Interactive)"
                },
                "width": 800,
                "xaxis": {
                  "range": [
                    0,
                    1
                  ],
                  "title": {
                    "text": "False Positive Rate"
                  }
                },
                "yaxis": {
                  "range": [
                    0,
                    1.05
                  ],
                  "title": {
                    "text": "True Positive Rate"
                  }
                }
              }
            }
          },
          "metadata": {},
          "output_type": "display_data"
        }
      ],
      "source": [
        "import plotly.graph_objects as go\n",
        "from sklearn.metrics import roc_curve, auc\n",
        "\n",
        "# Compute ROC\n",
        "fpr, tpr, _ = roc_curve(y_test, y_pred)\n",
        "roc_auc = auc(fpr, tpr)\n",
        "\n",
        "# Create interactive plot\n",
        "fig = go.Figure()\n",
        "\n",
        "# ROC curve\n",
        "fig.add_trace(go.Scatter(\n",
        "    x=fpr, y=tpr,\n",
        "    mode='lines',\n",
        "    name=f\"ROC curve (AUC = {roc_auc:.2f})\",\n",
        "    line=dict(color=\"darkorange\", width=2)\n",
        "))\n",
        "\n",
        "# Diagonal line (random guess)\n",
        "fig.add_trace(go.Scatter(\n",
        "    x=[0, 1], y=[0, 1],\n",
        "    mode='lines',\n",
        "    name=\"Random Guess\",\n",
        "    line=dict(color=\"navy\", width=2, dash=\"dash\")\n",
        "))\n",
        "\n",
        "# Layout\n",
        "fig.update_layout(\n",
        "    title=\"Receiver Operating Characteristic (ROC) Curve (Interactive)\",\n",
        "    xaxis_title=\"False Positive Rate\",\n",
        "    yaxis_title=\"True Positive Rate\",\n",
        "    xaxis=dict(range=[0, 1]),\n",
        "    yaxis=dict(range=[0, 1.05]),\n",
        "    width=800, height=600\n",
        ")\n",
        "\n",
        "fig.show()\n"
      ]
    },
    {
      "cell_type": "markdown",
      "id": "7bf853a7",
      "metadata": {
        "id": "7bf853a7"
      },
      "source": [
        "### Model Evaluation Insights\n",
        "- Performance Metrics:\n",
        "  * Accuracy shows overall correct predictions\n",
        "  * Precision indicates reliability of positive predictions\n",
        "  * Recall shows ability to find all positive cases\n",
        "  * F1-Score balances precision and recall\n",
        "- Confusion Matrix:\n",
        "  * Shows distribution of correct and incorrect predictions\n",
        "  * Helps identify if model is better at predicting certain classes\n",
        "- ROC Curve:\n",
        "  * AUC score indicates model's discriminative ability\n",
        "  * Closer to 1.0 means better performance"
      ]
    },
    {
      "cell_type": "markdown",
      "id": "c3e26df6",
      "metadata": {
        "id": "c3e26df6"
      },
      "source": [
        "## Feature Importance and Model Interpretation\n",
        "\n",
        "Let's analyze which features are most important for predicting heart disease by examining the weights of the first layer of our neural network."
      ]
    },
    {
      "cell_type": "code",
      "execution_count": 20,
      "id": "7a47b558",
      "metadata": {
        "colab": {
          "base_uri": "https://localhost:8080/",
          "height": 656
        },
        "id": "7a47b558",
        "outputId": "7b301c22-b524-44f3-9cc1-287220af04f7"
      },
      "outputs": [
        {
          "data": {
            "application/vnd.plotly.v1+json": {
              "config": {
                "plotlyServerURL": "https://plot.ly"
              },
              "data": [
                {
                  "hovertemplate": "Importance=%{text}<br>Feature=%{y}<extra></extra>",
                  "legendgroup": "",
                  "marker": {
                    "color": "#636efa",
                    "pattern": {
                      "shape": ""
                    }
                  },
                  "name": "",
                  "orientation": "h",
                  "showlegend": false,
                  "text": {
                    "bdata": "AAAAwG5TtT8AAAAgQVWzPwAAAMATNbI/AAAAgMjIsT8AAACAEMGxPwAAAAA2rrE/AAAAwH84sT8AAABgu0awPwAAAICuL7A/AAAAwE0OsD8AAACgAFOvPwAAAMCO76w/AAAAALoJqj8=",
                    "dtype": "f8"
                  },
                  "textposition": "auto",
                  "type": "bar",
                  "x": {
                    "bdata": "dpuqPQmqmj2eqJE9REaOPYQIjj2wcY09/sOJPds1gj10fYE9bnKAPQWYej12fGc90E1QPQ==",
                    "dtype": "f4"
                  },
                  "xaxis": "x",
                  "y": [
                    "ca",
                    "age",
                    "chol",
                    "sex",
                    "thal",
                    "exang",
                    "cp",
                    "fbs",
                    "oldpeak",
                    "thalach",
                    "restecg",
                    "slope",
                    "trestbps"
                  ],
                  "yaxis": "y"
                }
              ],
              "layout": {
                "barmode": "relative",
                "height": 500,
                "legend": {
                  "tracegroupgap": 0
                },
                "template": {
                  "data": {
                    "bar": [
                      {
                        "error_x": {
                          "color": "#2a3f5f"
                        },
                        "error_y": {
                          "color": "#2a3f5f"
                        },
                        "marker": {
                          "line": {
                            "color": "#E5ECF6",
                            "width": 0.5
                          },
                          "pattern": {
                            "fillmode": "overlay",
                            "size": 10,
                            "solidity": 0.2
                          }
                        },
                        "type": "bar"
                      }
                    ],
                    "barpolar": [
                      {
                        "marker": {
                          "line": {
                            "color": "#E5ECF6",
                            "width": 0.5
                          },
                          "pattern": {
                            "fillmode": "overlay",
                            "size": 10,
                            "solidity": 0.2
                          }
                        },
                        "type": "barpolar"
                      }
                    ],
                    "carpet": [
                      {
                        "aaxis": {
                          "endlinecolor": "#2a3f5f",
                          "gridcolor": "white",
                          "linecolor": "white",
                          "minorgridcolor": "white",
                          "startlinecolor": "#2a3f5f"
                        },
                        "baxis": {
                          "endlinecolor": "#2a3f5f",
                          "gridcolor": "white",
                          "linecolor": "white",
                          "minorgridcolor": "white",
                          "startlinecolor": "#2a3f5f"
                        },
                        "type": "carpet"
                      }
                    ],
                    "choropleth": [
                      {
                        "colorbar": {
                          "outlinewidth": 0,
                          "ticks": ""
                        },
                        "type": "choropleth"
                      }
                    ],
                    "contour": [
                      {
                        "colorbar": {
                          "outlinewidth": 0,
                          "ticks": ""
                        },
                        "colorscale": [
                          [
                            0,
                            "#0d0887"
                          ],
                          [
                            0.1111111111111111,
                            "#46039f"
                          ],
                          [
                            0.2222222222222222,
                            "#7201a8"
                          ],
                          [
                            0.3333333333333333,
                            "#9c179e"
                          ],
                          [
                            0.4444444444444444,
                            "#bd3786"
                          ],
                          [
                            0.5555555555555556,
                            "#d8576b"
                          ],
                          [
                            0.6666666666666666,
                            "#ed7953"
                          ],
                          [
                            0.7777777777777778,
                            "#fb9f3a"
                          ],
                          [
                            0.8888888888888888,
                            "#fdca26"
                          ],
                          [
                            1,
                            "#f0f921"
                          ]
                        ],
                        "type": "contour"
                      }
                    ],
                    "contourcarpet": [
                      {
                        "colorbar": {
                          "outlinewidth": 0,
                          "ticks": ""
                        },
                        "type": "contourcarpet"
                      }
                    ],
                    "heatmap": [
                      {
                        "colorbar": {
                          "outlinewidth": 0,
                          "ticks": ""
                        },
                        "colorscale": [
                          [
                            0,
                            "#0d0887"
                          ],
                          [
                            0.1111111111111111,
                            "#46039f"
                          ],
                          [
                            0.2222222222222222,
                            "#7201a8"
                          ],
                          [
                            0.3333333333333333,
                            "#9c179e"
                          ],
                          [
                            0.4444444444444444,
                            "#bd3786"
                          ],
                          [
                            0.5555555555555556,
                            "#d8576b"
                          ],
                          [
                            0.6666666666666666,
                            "#ed7953"
                          ],
                          [
                            0.7777777777777778,
                            "#fb9f3a"
                          ],
                          [
                            0.8888888888888888,
                            "#fdca26"
                          ],
                          [
                            1,
                            "#f0f921"
                          ]
                        ],
                        "type": "heatmap"
                      }
                    ],
                    "histogram": [
                      {
                        "marker": {
                          "pattern": {
                            "fillmode": "overlay",
                            "size": 10,
                            "solidity": 0.2
                          }
                        },
                        "type": "histogram"
                      }
                    ],
                    "histogram2d": [
                      {
                        "colorbar": {
                          "outlinewidth": 0,
                          "ticks": ""
                        },
                        "colorscale": [
                          [
                            0,
                            "#0d0887"
                          ],
                          [
                            0.1111111111111111,
                            "#46039f"
                          ],
                          [
                            0.2222222222222222,
                            "#7201a8"
                          ],
                          [
                            0.3333333333333333,
                            "#9c179e"
                          ],
                          [
                            0.4444444444444444,
                            "#bd3786"
                          ],
                          [
                            0.5555555555555556,
                            "#d8576b"
                          ],
                          [
                            0.6666666666666666,
                            "#ed7953"
                          ],
                          [
                            0.7777777777777778,
                            "#fb9f3a"
                          ],
                          [
                            0.8888888888888888,
                            "#fdca26"
                          ],
                          [
                            1,
                            "#f0f921"
                          ]
                        ],
                        "type": "histogram2d"
                      }
                    ],
                    "histogram2dcontour": [
                      {
                        "colorbar": {
                          "outlinewidth": 0,
                          "ticks": ""
                        },
                        "colorscale": [
                          [
                            0,
                            "#0d0887"
                          ],
                          [
                            0.1111111111111111,
                            "#46039f"
                          ],
                          [
                            0.2222222222222222,
                            "#7201a8"
                          ],
                          [
                            0.3333333333333333,
                            "#9c179e"
                          ],
                          [
                            0.4444444444444444,
                            "#bd3786"
                          ],
                          [
                            0.5555555555555556,
                            "#d8576b"
                          ],
                          [
                            0.6666666666666666,
                            "#ed7953"
                          ],
                          [
                            0.7777777777777778,
                            "#fb9f3a"
                          ],
                          [
                            0.8888888888888888,
                            "#fdca26"
                          ],
                          [
                            1,
                            "#f0f921"
                          ]
                        ],
                        "type": "histogram2dcontour"
                      }
                    ],
                    "mesh3d": [
                      {
                        "colorbar": {
                          "outlinewidth": 0,
                          "ticks": ""
                        },
                        "type": "mesh3d"
                      }
                    ],
                    "parcoords": [
                      {
                        "line": {
                          "colorbar": {
                            "outlinewidth": 0,
                            "ticks": ""
                          }
                        },
                        "type": "parcoords"
                      }
                    ],
                    "pie": [
                      {
                        "automargin": true,
                        "type": "pie"
                      }
                    ],
                    "scatter": [
                      {
                        "fillpattern": {
                          "fillmode": "overlay",
                          "size": 10,
                          "solidity": 0.2
                        },
                        "type": "scatter"
                      }
                    ],
                    "scatter3d": [
                      {
                        "line": {
                          "colorbar": {
                            "outlinewidth": 0,
                            "ticks": ""
                          }
                        },
                        "marker": {
                          "colorbar": {
                            "outlinewidth": 0,
                            "ticks": ""
                          }
                        },
                        "type": "scatter3d"
                      }
                    ],
                    "scattercarpet": [
                      {
                        "marker": {
                          "colorbar": {
                            "outlinewidth": 0,
                            "ticks": ""
                          }
                        },
                        "type": "scattercarpet"
                      }
                    ],
                    "scattergeo": [
                      {
                        "marker": {
                          "colorbar": {
                            "outlinewidth": 0,
                            "ticks": ""
                          }
                        },
                        "type": "scattergeo"
                      }
                    ],
                    "scattergl": [
                      {
                        "marker": {
                          "colorbar": {
                            "outlinewidth": 0,
                            "ticks": ""
                          }
                        },
                        "type": "scattergl"
                      }
                    ],
                    "scattermap": [
                      {
                        "marker": {
                          "colorbar": {
                            "outlinewidth": 0,
                            "ticks": ""
                          }
                        },
                        "type": "scattermap"
                      }
                    ],
                    "scattermapbox": [
                      {
                        "marker": {
                          "colorbar": {
                            "outlinewidth": 0,
                            "ticks": ""
                          }
                        },
                        "type": "scattermapbox"
                      }
                    ],
                    "scatterpolar": [
                      {
                        "marker": {
                          "colorbar": {
                            "outlinewidth": 0,
                            "ticks": ""
                          }
                        },
                        "type": "scatterpolar"
                      }
                    ],
                    "scatterpolargl": [
                      {
                        "marker": {
                          "colorbar": {
                            "outlinewidth": 0,
                            "ticks": ""
                          }
                        },
                        "type": "scatterpolargl"
                      }
                    ],
                    "scatterternary": [
                      {
                        "marker": {
                          "colorbar": {
                            "outlinewidth": 0,
                            "ticks": ""
                          }
                        },
                        "type": "scatterternary"
                      }
                    ],
                    "surface": [
                      {
                        "colorbar": {
                          "outlinewidth": 0,
                          "ticks": ""
                        },
                        "colorscale": [
                          [
                            0,
                            "#0d0887"
                          ],
                          [
                            0.1111111111111111,
                            "#46039f"
                          ],
                          [
                            0.2222222222222222,
                            "#7201a8"
                          ],
                          [
                            0.3333333333333333,
                            "#9c179e"
                          ],
                          [
                            0.4444444444444444,
                            "#bd3786"
                          ],
                          [
                            0.5555555555555556,
                            "#d8576b"
                          ],
                          [
                            0.6666666666666666,
                            "#ed7953"
                          ],
                          [
                            0.7777777777777778,
                            "#fb9f3a"
                          ],
                          [
                            0.8888888888888888,
                            "#fdca26"
                          ],
                          [
                            1,
                            "#f0f921"
                          ]
                        ],
                        "type": "surface"
                      }
                    ],
                    "table": [
                      {
                        "cells": {
                          "fill": {
                            "color": "#EBF0F8"
                          },
                          "line": {
                            "color": "white"
                          }
                        },
                        "header": {
                          "fill": {
                            "color": "#C8D4E3"
                          },
                          "line": {
                            "color": "white"
                          }
                        },
                        "type": "table"
                      }
                    ]
                  },
                  "layout": {
                    "annotationdefaults": {
                      "arrowcolor": "#2a3f5f",
                      "arrowhead": 0,
                      "arrowwidth": 1
                    },
                    "autotypenumbers": "strict",
                    "coloraxis": {
                      "colorbar": {
                        "outlinewidth": 0,
                        "ticks": ""
                      }
                    },
                    "colorscale": {
                      "diverging": [
                        [
                          0,
                          "#8e0152"
                        ],
                        [
                          0.1,
                          "#c51b7d"
                        ],
                        [
                          0.2,
                          "#de77ae"
                        ],
                        [
                          0.3,
                          "#f1b6da"
                        ],
                        [
                          0.4,
                          "#fde0ef"
                        ],
                        [
                          0.5,
                          "#f7f7f7"
                        ],
                        [
                          0.6,
                          "#e6f5d0"
                        ],
                        [
                          0.7,
                          "#b8e186"
                        ],
                        [
                          0.8,
                          "#7fbc41"
                        ],
                        [
                          0.9,
                          "#4d9221"
                        ],
                        [
                          1,
                          "#276419"
                        ]
                      ],
                      "sequential": [
                        [
                          0,
                          "#0d0887"
                        ],
                        [
                          0.1111111111111111,
                          "#46039f"
                        ],
                        [
                          0.2222222222222222,
                          "#7201a8"
                        ],
                        [
                          0.3333333333333333,
                          "#9c179e"
                        ],
                        [
                          0.4444444444444444,
                          "#bd3786"
                        ],
                        [
                          0.5555555555555556,
                          "#d8576b"
                        ],
                        [
                          0.6666666666666666,
                          "#ed7953"
                        ],
                        [
                          0.7777777777777778,
                          "#fb9f3a"
                        ],
                        [
                          0.8888888888888888,
                          "#fdca26"
                        ],
                        [
                          1,
                          "#f0f921"
                        ]
                      ],
                      "sequentialminus": [
                        [
                          0,
                          "#0d0887"
                        ],
                        [
                          0.1111111111111111,
                          "#46039f"
                        ],
                        [
                          0.2222222222222222,
                          "#7201a8"
                        ],
                        [
                          0.3333333333333333,
                          "#9c179e"
                        ],
                        [
                          0.4444444444444444,
                          "#bd3786"
                        ],
                        [
                          0.5555555555555556,
                          "#d8576b"
                        ],
                        [
                          0.6666666666666666,
                          "#ed7953"
                        ],
                        [
                          0.7777777777777778,
                          "#fb9f3a"
                        ],
                        [
                          0.8888888888888888,
                          "#fdca26"
                        ],
                        [
                          1,
                          "#f0f921"
                        ]
                      ]
                    },
                    "colorway": [
                      "#636efa",
                      "#EF553B",
                      "#00cc96",
                      "#ab63fa",
                      "#FFA15A",
                      "#19d3f3",
                      "#FF6692",
                      "#B6E880",
                      "#FF97FF",
                      "#FECB52"
                    ],
                    "font": {
                      "color": "#2a3f5f"
                    },
                    "geo": {
                      "bgcolor": "white",
                      "lakecolor": "white",
                      "landcolor": "#E5ECF6",
                      "showlakes": true,
                      "showland": true,
                      "subunitcolor": "white"
                    },
                    "hoverlabel": {
                      "align": "left"
                    },
                    "hovermode": "closest",
                    "mapbox": {
                      "style": "light"
                    },
                    "paper_bgcolor": "white",
                    "plot_bgcolor": "#E5ECF6",
                    "polar": {
                      "angularaxis": {
                        "gridcolor": "white",
                        "linecolor": "white",
                        "ticks": ""
                      },
                      "bgcolor": "#E5ECF6",
                      "radialaxis": {
                        "gridcolor": "white",
                        "linecolor": "white",
                        "ticks": ""
                      }
                    },
                    "scene": {
                      "xaxis": {
                        "backgroundcolor": "#E5ECF6",
                        "gridcolor": "white",
                        "gridwidth": 2,
                        "linecolor": "white",
                        "showbackground": true,
                        "ticks": "",
                        "zerolinecolor": "white"
                      },
                      "yaxis": {
                        "backgroundcolor": "#E5ECF6",
                        "gridcolor": "white",
                        "gridwidth": 2,
                        "linecolor": "white",
                        "showbackground": true,
                        "ticks": "",
                        "zerolinecolor": "white"
                      },
                      "zaxis": {
                        "backgroundcolor": "#E5ECF6",
                        "gridcolor": "white",
                        "gridwidth": 2,
                        "linecolor": "white",
                        "showbackground": true,
                        "ticks": "",
                        "zerolinecolor": "white"
                      }
                    },
                    "shapedefaults": {
                      "line": {
                        "color": "#2a3f5f"
                      }
                    },
                    "ternary": {
                      "aaxis": {
                        "gridcolor": "white",
                        "linecolor": "white",
                        "ticks": ""
                      },
                      "baxis": {
                        "gridcolor": "white",
                        "linecolor": "white",
                        "ticks": ""
                      },
                      "bgcolor": "#E5ECF6",
                      "caxis": {
                        "gridcolor": "white",
                        "linecolor": "white",
                        "ticks": ""
                      }
                    },
                    "title": {
                      "x": 0.05
                    },
                    "xaxis": {
                      "automargin": true,
                      "gridcolor": "white",
                      "linecolor": "white",
                      "ticks": "",
                      "title": {
                        "standoff": 15
                      },
                      "zerolinecolor": "white",
                      "zerolinewidth": 2
                    },
                    "yaxis": {
                      "automargin": true,
                      "gridcolor": "white",
                      "linecolor": "white",
                      "ticks": "",
                      "title": {
                        "standoff": 15
                      },
                      "zerolinecolor": "white",
                      "zerolinewidth": 2
                    }
                  }
                },
                "title": {
                  "text": "Feature Importance Based on Neural Network Weights"
                },
                "width": 800,
                "xaxis": {
                  "anchor": "y",
                  "domain": [
                    0,
                    1
                  ],
                  "title": {
                    "text": "Importance"
                  }
                },
                "yaxis": {
                  "anchor": "x",
                  "autorange": "reversed",
                  "domain": [
                    0,
                    1
                  ],
                  "title": {
                    "text": "Feature"
                  }
                }
              }
            }
          },
          "metadata": {},
          "output_type": "display_data"
        },
        {
          "name": "stdout",
          "output_type": "stream",
          "text": [
            "\n",
            "Top 5 Most Important Features:\n",
            "   Feature  Importance\n",
            "11      ca    0.083304\n",
            "0      age    0.075520\n",
            "4     chol    0.071122\n",
            "1      sex    0.069470\n",
            "12    thal    0.069352\n"
          ]
        }
      ],
      "source": [
        "# --- Compute feature importance ---\n",
        "first_layer_weights = np.abs(model.layers[0].get_weights()[0])\n",
        "feature_importance = np.mean(first_layer_weights, axis=1)\n",
        "\n",
        "feature_importance_df = pd.DataFrame({\n",
        "    'Feature': X.columns,\n",
        "    'Importance': feature_importance\n",
        "}).sort_values('Importance', ascending=False)\n",
        "\n",
        "# --- Interactive bar plot ---\n",
        "fig = px.bar(\n",
        "    feature_importance_df,\n",
        "    x='Importance',\n",
        "    y='Feature',\n",
        "    orientation='h',\n",
        "    text='Importance',\n",
        "    title='Feature Importance Based on Neural Network Weights'\n",
        ")\n",
        "\n",
        "fig.update_layout(\n",
        "    yaxis=dict(autorange=\"reversed\"),  # Highest importance on top\n",
        "    width=800, height=500\n",
        ")\n",
        "\n",
        "fig.show()\n",
        "\n",
        "# --- Display top 5 features ---\n",
        "print(\"\\nTop 5 Most Important Features:\")\n",
        "print(feature_importance_df.head())\n"
      ]
    },
    {
      "cell_type": "markdown",
      "id": "c970912d",
      "metadata": {
        "id": "c970912d"
      },
      "source": [
        "### Feature Importance Insights\n",
        "- Top Features:\n",
        "  * Shows which variables most strongly influence predictions\n",
        "  * Helps understand model's decision-making process\n",
        "  * Can guide feature selection for model improvement\n",
        "- Clinical Relevance:\n",
        "  * Important features often align with medical knowledge\n",
        "  * Can validate model's learning against domain expertise\n",
        "- Feature Engineering:\n",
        "  * Suggests which features might benefit from transformation\n",
        "  * Identifies potential new feature combinations"
      ]
    },
    {
      "cell_type": "markdown",
      "id": "fc800ce7",
      "metadata": {
        "id": "fc800ce7"
      },
      "source": [
        "## Making Predictions for New Patients\n",
        "\n",
        "Let's create a function to make predictions for new patients. We'll create an example of how to use the trained model for prediction."
      ]
    },
    {
      "cell_type": "code",
      "execution_count": 21,
      "id": "33073f15",
      "metadata": {
        "colab": {
          "base_uri": "https://localhost:8080/"
        },
        "id": "33073f15",
        "outputId": "c84d142e-70ed-47d9-d42e-9f08f53ec0c1"
      },
      "outputs": [
        {
          "name": "stdout",
          "output_type": "stream",
          "text": [
            "Example Prediction for a Sample Patient:\n",
            "----------------------------------------\n",
            "\u001b[1m1/1\u001b[0m \u001b[32m━━━━━━━━━━━━━━━━━━━━\u001b[0m\u001b[37m\u001b[0m \u001b[1m0s\u001b[0m 54ms/step\n",
            "Risk of Heart Disease: 2.46%\n",
            "Prediction: Low risk of heart disease\n"
          ]
        }
      ],
      "source": [
        "def predict_heart_disease(age, sex, cp, trestbps, chol, fbs, restecg, thalach,\n",
        "                         exang, oldpeak, slope, ca, thal):\n",
        "    \"\"\"\n",
        "    Predict heart disease risk for a new patient.\n",
        "\n",
        "    Parameters:\n",
        "    age: int - Age in years\n",
        "    sex: int - Sex (1 = male; 0 = female)\n",
        "    cp: int - Chest pain type (0-3)\n",
        "    trestbps: int - Resting blood pressure\n",
        "    chol: int - Serum cholesterol in mg/dl\n",
        "    fbs: int - Fasting blood sugar > 120 mg/dl (1 = true; 0 = false)\n",
        "    restecg: int - Resting electrocardiographic results (0-2)\n",
        "    thalach: int - Maximum heart rate achieved\n",
        "    exang: int - Exercise induced angina (1 = yes; 0 = no)\n",
        "    oldpeak: float - ST depression induced by exercise relative to rest\n",
        "    slope: int - Slope of the peak exercise ST segment\n",
        "    ca: int - Number of major vessels colored by fluoroscopy (0-3)\n",
        "    thal: int - Thalassemia (3 = normal; 6 = fixed defect; 7 = reversable defect)\n",
        "    \"\"\"\n",
        "\n",
        "    # Create a DataFrame with the patient's data\n",
        "    patient_data = pd.DataFrame([[age, sex, cp, trestbps, chol, fbs, restecg, thalach,\n",
        "                                exang, oldpeak, slope, ca, thal]],\n",
        "                              columns=X.columns)\n",
        "\n",
        "    # Scale the features using the same scaler used for training\n",
        "    patient_data_scaled = scaler.transform(patient_data)\n",
        "\n",
        "    # Make prediction\n",
        "    prediction = model.predict(patient_data_scaled)[0][0]\n",
        "    probability = prediction * 100\n",
        "\n",
        "    print(f\"Risk of Heart Disease: {probability:.2f}%\")\n",
        "    print(\"Prediction:\", \"High risk of heart disease\" if prediction > 0.5 else \"Low risk of heart disease\")\n",
        "\n",
        "    return prediction\n",
        "\n",
        "# Example: Let's try with a sample patient\n",
        "print(\"Example Prediction for a Sample Patient:\")\n",
        "print(\"-\" * 40)\n",
        "sample_prediction = predict_heart_disease(\n",
        "    age=65,\n",
        "    sex=1,  # male\n",
        "    cp=3,  # chest pain type\n",
        "    trestbps=145,  # resting blood pressure\n",
        "    chol=233,  # cholesterol\n",
        "    fbs=1,  # fasting blood sugar > 120 mg/dl\n",
        "    restecg=0,  # resting electrocardiographic results\n",
        "    thalach=150,  # maximum heart rate\n",
        "    exang=0,  # exercise induced angina\n",
        "    oldpeak=2.3,  # ST depression\n",
        "    slope=0,  # slope of the peak exercise ST segment\n",
        "    ca=0,  # number of major vessels\n",
        "    thal=3  # thalassemia\n",
        ")"
      ]
    },
    {
      "cell_type": "markdown",
      "id": "780127c2",
      "metadata": {
        "id": "780127c2"
      },
      "source": [
        "Now you can use this function to predict heart disease risk for any new patient. Here's how to use it:\n",
        "\n",
        "1. Call the `predict_heart_disease` function with the following parameters:\n",
        "   - `age`: Age in years\n",
        "   - `sex`: 1 for male, 0 for female\n",
        "   - `cp`: Chest pain type (0-3)\n",
        "   - `trestbps`: Resting blood pressure\n",
        "   - `chol`: Serum cholesterol in mg/dl\n",
        "   - `fbs`: Fasting blood sugar > 120 mg/dl (1=true, 0=false)\n",
        "   - `restecg`: Resting electrocardiographic results (0-2)\n",
        "   - `thalach`: Maximum heart rate achieved\n",
        "   - `exang`: Exercise induced angina (1=yes, 0=no)\n",
        "   - `oldpeak`: ST depression induced by exercise\n",
        "   - `slope`: Slope of peak exercise ST segment\n",
        "   - `ca`: Number of major vessels colored by fluoroscopy\n",
        "   - `thal`: Thalassemia (3=normal, 6=fixed defect, 7=reversible defect"
      ]
    },
    {
      "cell_type": "code",
      "execution_count": 22,
      "id": "8937d08c",
      "metadata": {
        "colab": {
          "base_uri": "https://localhost:8080/"
        },
        "id": "8937d08c",
        "outputId": "67697a29-7563-41bf-cdf6-c826728fe9ef"
      },
      "outputs": [
        {
          "name": "stdout",
          "output_type": "stream",
          "text": [
            "\u001b[1m1/1\u001b[0m \u001b[32m━━━━━━━━━━━━━━━━━━━━\u001b[0m\u001b[37m\u001b[0m \u001b[1m0s\u001b[0m 50ms/step\n",
            "Risk of Heart Disease: 2.22%\n",
            "Prediction: Low risk of heart disease\n"
          ]
        },
        {
          "data": {
            "text/plain": [
              "np.float32(0.022241803)"
            ]
          },
          "execution_count": 22,
          "metadata": {},
          "output_type": "execute_result"
        }
      ],
      "source": [
        "# You can make predictions for a new patient by calling the function with their data\n",
        "# For example, let's predict for a different patient:\n",
        "predict_heart_disease(\n",
        "    age=45,  # 45 years old\n",
        "    sex=0,   # female\n",
        "    cp=3,    # chest pain type 1\n",
        "    trestbps=130,  # resting blood pressure\n",
        "    chol=220,      # cholesterol\n",
        "    fbs=0,         # fasting blood sugar <= 120 mg/dl\n",
        "    restecg=1,     # resting electrocardiographic results\n",
        "    thalach=160,   # maximum heart rate\n",
        "    exang=0,       # no exercise induced angina\n",
        "    oldpeak=1.1,   # ST depression\n",
        "    slope=1,       # slope\n",
        "    ca=0,          # no major vessels\n",
        "    thal=3         # normal thalassemia\n",
        ")"
      ]
    },
    {
      "cell_type": "markdown",
      "id": "5c28bcb6",
      "metadata": {
        "id": "5c28bcb6"
      },
      "source": [
        "### Prediction Insights\n",
        "- Individual Predictions:\n",
        "  * Probability score shows confidence level of prediction\n",
        "  * High/Low risk classification helps in decision making\n",
        "- Risk Factors:\n",
        "  * Age, chest pain type, and number of vessels often key indicators\n",
        "  * Combination of factors more important than individual values\n",
        "- Practical Use:\n",
        "  * Model can assist in preliminary screening\n",
        "  * Should be used alongside clinical judgment\n",
        "  * Regular model updates may improve accuracy"
      ]
    },
    {
      "cell_type": "markdown",
      "id": "9c262ec5",
      "metadata": {
        "id": "9c262ec5"
      },
      "source": [
        "## Project Conclusion\n",
        "\n",
        "### Summary of Findings\n",
        "1. **Model Performance**\n",
        "   - Successfully built and trained a neural network for heart disease prediction\n",
        "   - Achieved balanced performance across multiple metrics (accuracy, precision, recall, F1-score)\n",
        "   - ROC-AUC score demonstrates good discriminative ability\n",
        "\n",
        "2. **Key Insights**\n",
        "   - Identified most influential features for heart disease prediction\n",
        "   - Found important correlations between various health indicators\n",
        "   - Demonstrated the effectiveness of neural networks for medical diagnosis\n",
        "\n",
        "3. **Data Analysis**\n",
        "   - Dataset contained 303 patients with 13 different health indicators\n",
        "   - Successfully handled missing values and standardized features\n",
        "   - Balanced distribution of positive and negative cases\n",
        "\n",
        "### Model Strengths\n",
        "- Robust architecture with dropout and L2 regularization\n",
        "- Early stopping to prevent overfitting\n",
        "- Interpretable feature importance analysis\n",
        "- Real-time prediction capability for new patients\n",
        "\n",
        "### Limitations\n",
        "1. **Dataset**\n",
        "   - Relatively small sample size\n",
        "   - Limited to Cleveland Clinic data\n",
        "   - Some missing values in original dataset\n",
        "\n",
        "2. **Model**\n",
        "   - Binary classification might oversimplify complex medical conditions\n",
        "   - Limited to the features available in the dataset\n",
        "   - Requires standardized input format\n",
        "\n",
        "### Future Improvements\n",
        "1. **Data Enhancement**\n",
        "   - Collect more patient data\n",
        "   - Include additional relevant features\n",
        "   - Gather data from diverse populations\n",
        "\n",
        "2. **Model Optimization**\n",
        "   - Experiment with different architectures\n",
        "   - Implement cross-validation\n",
        "   - Try ensemble methods\n",
        "\n",
        "3. **Clinical Integration**\n",
        "   - Develop user-friendly interface\n",
        "   - Add confidence intervals for predictions\n",
        "   - Include feature importance in individual predictions\n",
        "\n",
        "### Clinical Applications\n",
        "- Preliminary screening tool\n",
        "- Risk assessment support\n",
        "- Patient monitoring aid\n",
        "- Educational tool for medical students\n",
        "\n",
        "### Final Remarks\n",
        "This model demonstrates the potential of machine learning in healthcare, specifically for heart disease prediction. While it shows promising results, it should be used as a supportive tool alongside clinical expertise and not as a standalone diagnostic system. The insights gained from this project can guide future research and development in medical AI applications."
      ]
    },
    {
      "cell_type": "markdown",
      "id": "fd14b507",
      "metadata": {
        "id": "fd14b507"
      },
      "source": [
        "# Thank you"
      ]
    }
  ],
  "metadata": {
    "colab": {
      "collapsed_sections": [
        "8927420c",
        "c970912d"
      ],
      "provenance": []
    },
    "kernelspec": {
      "display_name": "Python 3",
      "language": "python",
      "name": "python3"
    },
    "language_info": {
      "codemirror_mode": {
        "name": "ipython",
        "version": 3
      },
      "file_extension": ".py",
      "mimetype": "text/x-python",
      "name": "python",
      "nbconvert_exporter": "python",
      "pygments_lexer": "ipython3",
      "version": "3.13.5"
    }
  },
  "nbformat": 4,
  "nbformat_minor": 5
}
